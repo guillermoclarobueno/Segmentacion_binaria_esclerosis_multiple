{
 "cells": [
  {
   "cell_type": "code",
   "execution_count": null,
   "id": "a6fca02b-b883-449a-9f7b-0d5094f9bc4a",
   "metadata": {},
   "outputs": [],
   "source": [
    "#!pip install nibabel\n",
    "#!pip install nilearn\n",
    "#!pip install opencv-python\n",
    "#!pip3 install torch torchvision torchaudio --index-url https://download.pytorch.org/whl/cu118\n",
    "#!pip install segmentation-models-pytorch\n",
    "#!pip install imageio\n",
    "#!pip install matplotlib\n",
    "#!pip install torchmetrics\n",
    "#!pip install natsort\n",
    "!pip install albumentations"
   ]
  },
  {
   "cell_type": "code",
   "execution_count": 1,
   "id": "b971bb26-305b-446c-b5ed-1d0829a618d1",
   "metadata": {},
   "outputs": [
    {
     "name": "stderr",
     "output_type": "stream",
     "text": [
      "/opt/anaconda/miniconda3/envs/TFG/lib/python3.12/site-packages/albumentations/__init__.py:24: UserWarning: A new version of Albumentations is available: 2.0.3 (you have 1.4.22). Upgrade using: pip install -U albumentations. To disable automatic update checks, set the environment variable NO_ALBUMENTATIONS_UPDATE to 1.\n",
      "  check_for_updates()\n"
     ]
    }
   ],
   "source": [
    "import nibabel as nib\n",
    "import cv2\n",
    "import numpy as np\n",
    "import os\n",
    "import imageio.v2 as imageio\n",
    "import torch\n",
    "from torch.utils.data import Dataset\n",
    "from torch.utils.data import DataLoader\n",
    "import segmentation_models_pytorch as smp\n",
    "import torch.optim as optim\n",
    "import torch.nn as nn\n",
    "from sklearn.model_selection import train_test_split\n",
    "import shutil\n",
    "import matplotlib.pyplot as plt\n",
    "from torchmetrics.classification import Dice\n",
    "from natsort import natsorted\n",
    "import albumentations as A\n",
    "from skimage.transform import resize"
   ]
  },
  {
   "cell_type": "code",
   "execution_count": 2,
   "id": "91566eb7-a33a-4cbb-9f87-7706ab85f603",
   "metadata": {},
   "outputs": [],
   "source": [
    "def porcentaje(numero, porcentaje):\n",
    "    num = numero * (porcentaje/100)\n",
    "    return int(num)"
   ]
  },
  {
   "cell_type": "code",
   "execution_count": 3,
   "id": "224db027-4c76-41b5-a2a0-d069daa2b08a",
   "metadata": {},
   "outputs": [],
   "source": [
    "def obtener_ficheros(carpeta):\n",
    "    lista_ficheros = []\n",
    "    for archivo in os.listdir(carpeta):\n",
    "        ruta = os.path.join(carpeta, archivo)\n",
    "        if archivo.lower().endswith('.png'):\n",
    "            lista_ficheros.append(ruta)\n",
    "    return natsorted(lista_ficheros)"
   ]
  },
  {
   "cell_type": "code",
   "execution_count": 4,
   "id": "2a8715c5-a5db-4a53-b9f2-44a9b4710043",
   "metadata": {},
   "outputs": [],
   "source": [
    "class Custom_Dataset(Dataset):\n",
    "    def __init__(self, imagenes, mascaras, transform=None, argument=False):\n",
    "        self.imagenes = imagenes\n",
    "        self.mascaras = mascaras\n",
    "        self.transform = transform\n",
    "        self.argument = argument\n",
    "        \n",
    "    def __len__(self):\n",
    "        return len(self.imagenes)\n",
    "        \n",
    "    def __getitem__(self, idx):\n",
    "        img = imageio.imread(self.imagenes[idx])\n",
    "        mask = imageio.imread(self.mascaras[idx])\n",
    "\n",
    "        target_height = 224\n",
    "        target_width = 224\n",
    "\n",
    "        img = cv2.resize(img, (target_width, target_height), interpolation = cv2.INTER_AREA)\n",
    "        mask = cv2.resize(mask, (target_width, target_height), interpolation = cv2.INTER_NEAREST)\n",
    "        \n",
    "        img = img/255.0\n",
    "        mask = mask/255.0\n",
    "        \n",
    "        if self.argument:\n",
    "            transform = A.Compose([\n",
    "                A.ShiftScaleRotate(shift_limit=0.0625, scale_limit=0.1, rotate_limit=15, p=0.5),\n",
    "                A.RandomBrightnessContrast(brightness_limit=0.2, contrast_limit=0.2, p=0.5),\n",
    "                A.CLAHE(clip_limit=2.0, p=0.5)\n",
    "            ])\n",
    "\n",
    "            img_for_aug = (img * 255).astype(np.uint8)\n",
    "            mask_for_aug = (mask * 255).astype(np.uint8)\n",
    "\n",
    "            augmented = transform(image=img_for_aug, mask=mask_for_aug)\n",
    "\n",
    "            img = augmented['image'].astype(np.float32) / 255.0\n",
    "            mask = augmented['mask'].astype(np.float32) / 255.0\n",
    "\n",
    "        img = np.expand_dims(img, axis=-1)\n",
    "        mask = np.expand_dims(mask, axis=-1)\n",
    "        \n",
    "        img_tensor = torch.from_numpy(img)\n",
    "        img_tensor = img_tensor.permute(2, 0, 1).float()\n",
    "        mask_tensor = torch.from_numpy(mask)\n",
    "        mask_tensor = mask_tensor.permute(2, 0, 1).float()\n",
    "\n",
    "        return img_tensor, mask_tensor"
   ]
  },
  {
   "cell_type": "code",
   "execution_count": 5,
   "id": "97727472-96b2-41fe-8614-ee599be05269",
   "metadata": {},
   "outputs": [
    {
     "name": "stdout",
     "output_type": "stream",
     "text": [
      "7920\n"
     ]
    }
   ],
   "source": [
    "carpeta = 'Resultados2/Cerebro/Axial/'\n",
    "lista_ficheros_cerebro_axial = obtener_ficheros(carpeta)\n",
    "print(len(lista_ficheros_cerebro_axial))"
   ]
  },
  {
   "cell_type": "code",
   "execution_count": 6,
   "id": "34669603-4a00-4fc5-b83d-6e7f1cb3e781",
   "metadata": {},
   "outputs": [
    {
     "name": "stdout",
     "output_type": "stream",
     "text": [
      "7920\n"
     ]
    }
   ],
   "source": [
    "carpeta = 'Resultados2/Mascara/Axial/'\n",
    "lista_ficheros_mascara_axial = obtener_ficheros(carpeta)\n",
    "print(len(lista_ficheros_mascara_axial))"
   ]
  },
  {
   "cell_type": "code",
   "execution_count": 7,
   "id": "c522bd20-6a0a-4a5e-b225-bc03e8e725e3",
   "metadata": {},
   "outputs": [
    {
     "name": "stdout",
     "output_type": "stream",
     "text": [
      "1100\n"
     ]
    }
   ],
   "source": [
    "carpeta = 'Resultados2/Cerebro/Axial/Val/'\n",
    "lista_ficheros_cerebro_axial_val = obtener_ficheros(carpeta)\n",
    "print(len(lista_ficheros_cerebro_axial_val))"
   ]
  },
  {
   "cell_type": "code",
   "execution_count": 8,
   "id": "d9b059c2-1fcc-4d72-9948-3c199e0d2e92",
   "metadata": {},
   "outputs": [
    {
     "name": "stdout",
     "output_type": "stream",
     "text": [
      "1100\n"
     ]
    }
   ],
   "source": [
    "carpeta = 'Resultados2/Mascara/Axial/Val/'\n",
    "lista_ficheros_mascara_axial_val = obtener_ficheros(carpeta)\n",
    "print(len(lista_ficheros_mascara_axial_val))"
   ]
  },
  {
   "cell_type": "code",
   "execution_count": 9,
   "id": "18d144e4-3edf-4d31-b85d-fef1da610740",
   "metadata": {},
   "outputs": [],
   "source": [
    "train_dataset = Custom_Dataset(lista_ficheros_cerebro_axial,lista_ficheros_mascara_axial, argument=True)\n",
    "dataloader_train = DataLoader(train_dataset, batch_size=64, shuffle=True)"
   ]
  },
  {
   "cell_type": "code",
   "execution_count": 10,
   "id": "b1604180-1e60-4592-8d07-f8b4d0fa35d9",
   "metadata": {},
   "outputs": [],
   "source": [
    "val_dataset = Custom_Dataset(lista_ficheros_cerebro_axial_val,lista_ficheros_mascara_axial_val)\n",
    "dataloader_val = DataLoader(val_dataset, batch_size=64, shuffle=False)"
   ]
  },
  {
   "cell_type": "code",
   "execution_count": 11,
   "id": "f7c0d564-1e55-4a11-b692-1669bf06f218",
   "metadata": {},
   "outputs": [],
   "source": [
    "model = smp.Unet(\n",
    "    encoder_name=\"resnet34\",\n",
    "    encoder_weights=\"imagenet\",\n",
    "    in_channels=1,\n",
    "    classes=1\n",
    ")"
   ]
  },
  {
   "cell_type": "code",
   "execution_count": 12,
   "id": "75fa12d8-ec60-41e0-ac6b-8ee67332027c",
   "metadata": {},
   "outputs": [
    {
     "name": "stdout",
     "output_type": "stream",
     "text": [
      "cuda\n"
     ]
    }
   ],
   "source": [
    "device = torch.device(\"cuda\" if torch.cuda.is_available() else \"cpu\")\n",
    "print(device)"
   ]
  },
  {
   "cell_type": "code",
   "execution_count": 13,
   "id": "a9f0ebc0-91cb-4914-b15d-a584c9bb346a",
   "metadata": {},
   "outputs": [],
   "source": [
    "model = model.to(device)\n",
    "criterion = nn.BCEWithLogitsLoss()\n",
    "optimizer = optim.Adam(model.parameters(), lr=1e-4)\n",
    "dice_metric = Dice(average='micro').to(device)"
   ]
  },
  {
   "cell_type": "code",
   "execution_count": 5,
   "id": "6948f86e-78c2-4961-9937-8946500e66a2",
   "metadata": {},
   "outputs": [],
   "source": [
    "class EarlyStopping():\n",
    "    def __init__(self, paciencia=15, min_cambio=0.005):\n",
    "\n",
    "        self.paciencia = paciencia\n",
    "        self.min_cambio = min_cambio\n",
    "        self.best_metric = None\n",
    "        self.contador = 0\n",
    "        self.early_stop = False\n",
    "\n",
    "    def __call__(self, dato, model, path='guardado.pth'):\n",
    "        if self.best_metric is None:\n",
    "            self.best_metric = dato\n",
    "            torch.save(model.state_dict(), path)\n",
    "        elif (dato - self.best_metric) > self.min_cambio:\n",
    "            self.best_metric = dato\n",
    "            torch.save(model.state_dict(), path)\n",
    "            self.contador = 0\n",
    "        else:\n",
    "            self.contador += 1\n",
    "            print(f\"Contador earlystopping: {self.contador} sobre {self.paciencia}\")\n",
    "            if self.contador >= self.paciencia:\n",
    "                self.early_stop = True"
   ]
  },
  {
   "cell_type": "code",
   "execution_count": 15,
   "id": "8113c990-94ac-4750-b92d-abd289dc57a7",
   "metadata": {},
   "outputs": [
    {
     "name": "stdout",
     "output_type": "stream",
     "text": [
      "Epoch [1/200], Loss: 0.3258413092022942, Dice: 0.0035142012748110574\n",
      "Validation Loss: 0.2074333048529095, Validation Dice: 0.4036679179989733\n",
      "Epoch [2/200], Loss: 0.16511549656429597, Dice: 6.835394519692918e-05\n",
      "Validation Loss: 0.14255448347992367, Validation Dice: 0.3759357923350358\n",
      "Contador earlystopping: 1 sobre 15\n",
      "Epoch [3/200], Loss: 0.11273780020494614, Dice: 0.00011875598506923134\n",
      "Validation Loss: 0.09459889473186599, Validation Dice: 0.39807673942771177\n",
      "Contador earlystopping: 2 sobre 15\n",
      "Epoch [4/200], Loss: 0.08143493040434775, Dice: 0.1921507490828404\n",
      "Validation Loss: 0.07072157826688555, Validation Dice: 0.5094103658365957\n",
      "Epoch [5/200], Loss: 0.060511571385206714, Dice: 0.5563200289203275\n",
      "Validation Loss: 0.05140886745519108, Validation Dice: 0.600471228906557\n",
      "Epoch [6/200], Loss: 0.045970489751667745, Dice: 0.6709353808433779\n",
      "Validation Loss: 0.04828981144560708, Validation Dice: 0.6183236441053547\n",
      "Epoch [7/200], Loss: 0.03614054884641401, Dice: 0.7216739135403787\n",
      "Validation Loss: 0.032298487404154405, Validation Dice: 0.625248191496616\n",
      "Epoch [8/200], Loss: 0.029219991707753752, Dice: 0.7440773176570092\n",
      "Validation Loss: 0.025694124400615692, Validation Dice: 0.6550323070141194\n",
      "Epoch [9/200], Loss: 0.024128455037791884, Dice: 0.7572988526475045\n",
      "Validation Loss: 0.02448848034772608, Validation Dice: 0.6384026471345419\n",
      "Contador earlystopping: 1 sobre 15\n",
      "Epoch [10/200], Loss: 0.020273969133174228, Dice: 0.7685204585713725\n",
      "Validation Loss: 0.018963998701009486, Validation Dice: 0.6625006792611977\n",
      "Epoch [11/200], Loss: 0.017337389748483416, Dice: 0.776866780173394\n",
      "Validation Loss: 0.015908196930670075, Validation Dice: 0.6635076908353734\n",
      "Contador earlystopping: 1 sobre 15\n",
      "Epoch [12/200], Loss: 0.014991100471947462, Dice: 0.7824166469996975\n",
      "Validation Loss: 0.01342009251109428, Validation Dice: 0.6548767838259529\n",
      "Contador earlystopping: 2 sobre 15\n",
      "Epoch [13/200], Loss: 0.01312128761633029, Dice: 0.7906149048959056\n",
      "Validation Loss: 0.012622416588581271, Validation Dice: 0.6469606629834743\n",
      "Contador earlystopping: 3 sobre 15\n",
      "Epoch [14/200], Loss: 0.011570675463806237, Dice: 0.7975166242930197\n",
      "Validation Loss: 0.010367889164222611, Validation Dice: 0.6894806343091963\n",
      "Epoch [15/200], Loss: 0.010285219853563655, Dice: 0.8067832791036175\n",
      "Validation Loss: 0.011018229777821235, Validation Dice: 0.6698028127376111\n",
      "Contador earlystopping: 1 sobre 15\n",
      "Epoch [16/200], Loss: 0.009294269936940363, Dice: 0.806160151477783\n",
      "Validation Loss: 0.009504678917841779, Validation Dice: 0.6507589504838474\n",
      "Contador earlystopping: 2 sobre 15\n",
      "Epoch [17/200], Loss: 0.008375772203679287, Dice: 0.812307252999275\n",
      "Validation Loss: 0.007691986367313398, Validation Dice: 0.6791912433044571\n",
      "Contador earlystopping: 3 sobre 15\n",
      "Epoch [18/200], Loss: 0.007659655729038341, Dice: 0.814972429986923\n",
      "Validation Loss: 0.007178832440533572, Validation Dice: 0.6763052645913343\n",
      "Contador earlystopping: 4 sobre 15\n",
      "Epoch [19/200], Loss: 0.007038085056739228, Dice: 0.8163987210681362\n",
      "Validation Loss: 0.006473008206942015, Validation Dice: 0.7032736716177573\n",
      "Epoch [20/200], Loss: 0.00649735854653221, Dice: 0.8189850545698597\n",
      "Validation Loss: 0.005902999533443815, Validation Dice: 0.6916641038405942\n",
      "Contador earlystopping: 1 sobre 15\n",
      "Epoch [21/200], Loss: 0.005969717719351813, Dice: 0.8229472555460469\n",
      "Validation Loss: 0.005697520152251754, Validation Dice: 0.6854618910842368\n",
      "Contador earlystopping: 2 sobre 15\n",
      "Epoch [22/200], Loss: 0.005504353107103417, Dice: 0.8286170113471246\n",
      "Validation Loss: 0.005144984823548132, Validation Dice: 0.6844820220441626\n",
      "Contador earlystopping: 3 sobre 15\n",
      "Epoch [23/200], Loss: 0.005123654902431994, Dice: 0.8316480397216736\n",
      "Validation Loss: 0.004827783740539517, Validation Dice: 0.6851663594538372\n",
      "Contador earlystopping: 4 sobre 15\n",
      "Epoch [24/200], Loss: 0.004742914628643062, Dice: 0.8347188777500584\n",
      "Validation Loss: 0.004497743457452291, Validation Dice: 0.6977980978554115\n",
      "Contador earlystopping: 5 sobre 15\n",
      "Epoch [25/200], Loss: 0.004422721537506028, Dice: 0.8382025413936184\n",
      "Validation Loss: 0.004443964397069067, Validation Dice: 0.7157349953486118\n",
      "Epoch [26/200], Loss: 0.004212033482373602, Dice: 0.8383995746412585\n",
      "Validation Loss: 0.004208464893357207, Validation Dice: 0.705473773803937\n",
      "Contador earlystopping: 1 sobre 15\n",
      "Epoch [27/200], Loss: 0.004045484236426531, Dice: 0.8366075287903508\n",
      "Validation Loss: 0.00425823833534701, Validation Dice: 0.6986936037978416\n",
      "Contador earlystopping: 2 sobre 15\n",
      "Epoch [28/200], Loss: 0.003830435038018491, Dice: 0.8393292234789941\n",
      "Validation Loss: 0.003895221355681618, Validation Dice: 0.6989252396451775\n",
      "Contador earlystopping: 3 sobre 15\n",
      "Epoch [29/200], Loss: 0.003613925617819111, Dice: 0.844675132343846\n",
      "Validation Loss: 0.0036477993643428716, Validation Dice: 0.6886177141633298\n",
      "Contador earlystopping: 4 sobre 15\n",
      "Epoch [30/200], Loss: 0.003454979109172259, Dice: 0.8472876721812833\n",
      "Validation Loss: 0.0035720980894337925, Validation Dice: 0.6951041618287692\n",
      "Contador earlystopping: 5 sobre 15\n",
      "Epoch [31/200], Loss: 0.0032884152906556283, Dice: 0.8491922842879449\n",
      "Validation Loss: 0.003528205981840276, Validation Dice: 0.6943304762664613\n",
      "Contador earlystopping: 6 sobre 15\n",
      "Epoch [32/200], Loss: 0.003183525906229812, Dice: 0.8488482381066969\n",
      "Validation Loss: 0.0035191658405690556, Validation Dice: 0.6975959090874918\n",
      "Contador earlystopping: 7 sobre 15\n",
      "Epoch [33/200], Loss: 0.0030651667958966665, Dice: 0.8503617884651307\n",
      "Validation Loss: 0.0033099564413229623, Validation Dice: 0.7082361372304149\n",
      "Contador earlystopping: 8 sobre 15\n",
      "Epoch [34/200], Loss: 0.0029405858761991466, Dice: 0.8542152287498597\n",
      "Validation Loss: 0.0033778992332776803, Validation Dice: 0.6952631035431599\n",
      "Contador earlystopping: 9 sobre 15\n",
      "Epoch [35/200], Loss: 0.0028310857653137175, Dice: 0.8551781715885285\n",
      "Validation Loss: 0.00316737175712155, Validation Dice: 0.7041273229640663\n",
      "Contador earlystopping: 10 sobre 15\n",
      "Epoch [36/200], Loss: 0.0027331983813294962, Dice: 0.8572913989905389\n",
      "Validation Loss: 0.0031441743711992684, Validation Dice: 0.7053377144265041\n",
      "Contador earlystopping: 11 sobre 15\n",
      "Epoch [37/200], Loss: 0.002657061302846658, Dice: 0.8582404404878616\n",
      "Validation Loss: 0.0032436687486349708, Validation Dice: 0.7067812562955724\n",
      "Contador earlystopping: 12 sobre 15\n",
      "Epoch [38/200], Loss: 0.0026336004769790078, Dice: 0.8567214651453879\n",
      "Validation Loss: 0.003009868193961059, Validation Dice: 0.7016962135417594\n",
      "Contador earlystopping: 13 sobre 15\n",
      "Epoch [39/200], Loss: 0.0026104582329055355, Dice: 0.8549475780417842\n",
      "Validation Loss: 0.003091105550993234, Validation Dice: 0.6960429364521082\n",
      "Contador earlystopping: 14 sobre 15\n",
      "Epoch [40/200], Loss: 0.0024630328332404454, Dice: 0.8609700275044287\n",
      "Validation Loss: 0.003078436896127338, Validation Dice: 0.7113012817135314\n",
      "Contador earlystopping: 15 sobre 15\n",
      "Early stopping\n"
     ]
    }
   ],
   "source": [
    "perdidas_train = []\n",
    "perdidas_val = []\n",
    "dice_train = []\n",
    "dice_val = []\n",
    "num_epochs = 200\n",
    "stop = EarlyStopping(paciencia=15, min_cambio=0.005)\n",
    "\n",
    "for epoch in range(num_epochs):\n",
    "    model.train()\n",
    "    running_loss = 0.0\n",
    "    running_dice = 0.0\n",
    "    \n",
    "    for images, masks in dataloader_train:\n",
    "        images = images.to(device)\n",
    "        masks = masks.to(device)\n",
    "\n",
    "        outputs = model(images)\n",
    "        loss = criterion(outputs, masks)\n",
    "\n",
    "        optimizer.zero_grad()\n",
    "        loss.backward()\n",
    "        optimizer.step()\n",
    "\n",
    "        running_loss += loss.item()\n",
    "\n",
    "        predictions = torch.sigmoid(outputs)\n",
    "        masks = masks.long()\n",
    "        \n",
    "        dice = dice_metric(predictions, masks)\n",
    "        \n",
    "        running_dice += dice.item()\n",
    "\n",
    "    perdida = running_loss/len(dataloader_train)\n",
    "    perdidas_train.append(perdida)\n",
    "\n",
    "    fiabilidad = running_dice/len(dataloader_train)\n",
    "    dice_train.append(fiabilidad)\n",
    "    \n",
    "    print(f'Epoch [{epoch+1}/{num_epochs}], Loss: {perdida}, Dice: {fiabilidad}')\n",
    "\n",
    "    model.eval()\n",
    "    val_loss = 0.0\n",
    "    val_dice = 0.0\n",
    "    \n",
    "    with torch.no_grad():\n",
    "        for images, masks in dataloader_val:\n",
    "            images = images.to(device)\n",
    "            masks = masks.to(device)\n",
    "            \n",
    "            outputs = model(images)\n",
    "            loss = criterion(outputs, masks)\n",
    "            \n",
    "            val_loss += loss.item()\n",
    "\n",
    "            predictions = torch.sigmoid(outputs)\n",
    "            predictions = (predictions > 0.5).float()\n",
    "            masks = masks.long()\n",
    "          \n",
    "            batch_dice = 0.0\n",
    "            for i in range(images.size(0)):\n",
    "                if masks[i].sum() == 0 and predictions[i].sum() == 0:\n",
    "                    dice = torch.tensor(1.0)\n",
    "                else:\n",
    "                    dice = dice_metric(predictions[i], masks[i])\n",
    "    \n",
    "                batch_dice += dice.item()\n",
    "            \n",
    "            batch_dice_media = batch_dice / images.size(0)\n",
    "            val_dice += batch_dice_media\n",
    "    \n",
    "    perdida = val_loss/len(dataloader_val)\n",
    "    perdidas_val.append(perdida)\n",
    "\n",
    "    fiabilidad = val_dice/len(dataloader_val)\n",
    "    dice_val.append(fiabilidad)\n",
    "    \n",
    "    print(f'Validation Loss: {perdida}, Validation Dice: {fiabilidad}')\n",
    "\n",
    "    stop(fiabilidad, model, path='UNet_mejor_Axial.pth')\n",
    "    if stop.early_stop:\n",
    "        print(\"Early stopping\")\n",
    "        break"
   ]
  },
  {
   "cell_type": "markdown",
   "id": "4e6ba076-acdc-4681-bd62-1da8e01974b5",
   "metadata": {},
   "source": [
    "Coronal"
   ]
  },
  {
   "cell_type": "code",
   "execution_count": 16,
   "id": "8ed13049-5ac2-4a4c-bb23-39d59b181728",
   "metadata": {},
   "outputs": [
    {
     "name": "stdout",
     "output_type": "stream",
     "text": [
      "9504\n"
     ]
    }
   ],
   "source": [
    "carpeta = 'Resultados2/Cerebro/Coronal/'\n",
    "lista_ficheros_cerebro_coronal = obtener_ficheros(carpeta)\n",
    "print(len(lista_ficheros_cerebro_coronal))"
   ]
  },
  {
   "cell_type": "code",
   "execution_count": 17,
   "id": "c6f6aab6-20a4-4dc0-8337-e2ea11649ca8",
   "metadata": {},
   "outputs": [
    {
     "name": "stdout",
     "output_type": "stream",
     "text": [
      "9504\n"
     ]
    }
   ],
   "source": [
    "carpeta = 'Resultados2/Mascara/Coronal/'\n",
    "lista_ficheros_mascara_coronal = obtener_ficheros(carpeta)\n",
    "print(len(lista_ficheros_mascara_coronal))"
   ]
  },
  {
   "cell_type": "code",
   "execution_count": 18,
   "id": "27ec9381-a16d-4a4d-b48a-6e6f60b8e1f8",
   "metadata": {},
   "outputs": [
    {
     "name": "stdout",
     "output_type": "stream",
     "text": [
      "1320\n"
     ]
    }
   ],
   "source": [
    "carpeta = 'Resultados2/Cerebro/Coronal/Val/'\n",
    "lista_ficheros_cerebro_coronal_val = obtener_ficheros(carpeta)\n",
    "print(len(lista_ficheros_cerebro_coronal_val))"
   ]
  },
  {
   "cell_type": "code",
   "execution_count": 19,
   "id": "48e8be00-8943-4f07-abe9-979437c19b72",
   "metadata": {},
   "outputs": [
    {
     "name": "stdout",
     "output_type": "stream",
     "text": [
      "1320\n"
     ]
    }
   ],
   "source": [
    "carpeta = 'Resultados2/Mascara/Coronal/Val/'\n",
    "lista_ficheros_mascara_coronal_val = obtener_ficheros(carpeta)\n",
    "print(len(lista_ficheros_mascara_coronal_val))"
   ]
  },
  {
   "cell_type": "code",
   "execution_count": 20,
   "id": "e2c5d316-c2a7-460d-bb98-53efd6c1bdac",
   "metadata": {},
   "outputs": [],
   "source": [
    "train_dataset = Custom_Dataset(lista_ficheros_cerebro_coronal,lista_ficheros_mascara_coronal, argument=True)\n",
    "dataloader_train = DataLoader(train_dataset, batch_size=64, shuffle=True)"
   ]
  },
  {
   "cell_type": "code",
   "execution_count": 21,
   "id": "9ab1ea9e-b41a-4991-bcbb-b3d02edf4ddb",
   "metadata": {},
   "outputs": [],
   "source": [
    "val_dataset = Custom_Dataset(lista_ficheros_cerebro_coronal_val,lista_ficheros_mascara_coronal_val)\n",
    "dataloader_val = DataLoader(val_dataset, batch_size=64, shuffle=False)"
   ]
  },
  {
   "cell_type": "code",
   "execution_count": 22,
   "id": "4cdc4ae4-5666-4fc8-9369-0e947d515293",
   "metadata": {},
   "outputs": [],
   "source": [
    "model = smp.Unet(\n",
    "    encoder_name=\"resnet34\",\n",
    "    encoder_weights=\"imagenet\",\n",
    "    in_channels=1,\n",
    "    classes=1\n",
    ")"
   ]
  },
  {
   "cell_type": "code",
   "execution_count": 23,
   "id": "1fcb2dbe-0aca-44c6-b6b0-d010aff1d37f",
   "metadata": {},
   "outputs": [
    {
     "name": "stdout",
     "output_type": "stream",
     "text": [
      "cuda\n"
     ]
    }
   ],
   "source": [
    "device = torch.device(\"cuda\" if torch.cuda.is_available() else \"cpu\")\n",
    "print(device)"
   ]
  },
  {
   "cell_type": "code",
   "execution_count": 24,
   "id": "8aed1127-e568-4e0d-8609-0a84419988fd",
   "metadata": {},
   "outputs": [],
   "source": [
    "model = model.to(device)\n",
    "criterion = nn.BCEWithLogitsLoss()\n",
    "optimizer = optim.Adam(model.parameters(), lr=1e-4)\n",
    "dice_metric = Dice(average='micro').to(device)"
   ]
  },
  {
   "cell_type": "code",
   "execution_count": 25,
   "id": "ec722684-d0a7-430c-9b54-ef487536aba9",
   "metadata": {},
   "outputs": [
    {
     "name": "stdout",
     "output_type": "stream",
     "text": [
      "Epoch [1/200], Loss: 0.2734535199483769, Dice: 0.012386183217015498\n",
      "Validation Loss: 0.16145781037353335, Validation Dice: 0.3327960866880381\n",
      "Epoch [2/200], Loss: 0.1252636353941572, Dice: 0.005467550489768673\n",
      "Validation Loss: 0.10035944339774903, Validation Dice: 0.3552980866148746\n",
      "Epoch [3/200], Loss: 0.08205962746135341, Dice: 0.10686259441132011\n",
      "Validation Loss: 0.06503260667834963, Validation Dice: 0.478528403673443\n",
      "Epoch [4/200], Loss: 0.05597519444539243, Dice: 0.5007606150719943\n",
      "Validation Loss: 0.04632593123685746, Validation Dice: 0.5390055131689656\n",
      "Epoch [5/200], Loss: 0.041081808357430784, Dice: 0.6105168790825262\n",
      "Validation Loss: 0.03403369567933537, Validation Dice: 0.5993709219772081\n",
      "Epoch [6/200], Loss: 0.030748379047985046, Dice: 0.6931002488072286\n",
      "Validation Loss: 0.025902260183578447, Validation Dice: 0.6226832552208743\n",
      "Epoch [7/200], Loss: 0.024045969215815498, Dice: 0.7265975327299745\n",
      "Validation Loss: 0.020459043305544627, Validation Dice: 0.6257431557327177\n",
      "Contador earlystopping: 1 sobre 15\n",
      "Epoch [8/200], Loss: 0.019392001148838326, Dice: 0.7455248720693908\n",
      "Validation Loss: 0.016496720679459117, Validation Dice: 0.631327392410354\n",
      "Epoch [9/200], Loss: 0.016035074818154308, Dice: 0.7569828073450383\n",
      "Validation Loss: 0.013965869943300882, Validation Dice: 0.6354074910407819\n",
      "Contador earlystopping: 1 sobre 15\n",
      "Epoch [10/200], Loss: 0.01353385283817981, Dice: 0.7684840351943202\n",
      "Validation Loss: 0.011743257443110148, Validation Dice: 0.6476471243459465\n",
      "Epoch [11/200], Loss: 0.011622354657007944, Dice: 0.7751374792732648\n",
      "Validation Loss: 0.010158724062854336, Validation Dice: 0.6460299958214386\n",
      "Contador earlystopping: 1 sobre 15\n",
      "Epoch [12/200], Loss: 0.010135133969503761, Dice: 0.784316069727776\n",
      "Validation Loss: 0.008771442276026522, Validation Dice: 0.657811963146863\n",
      "Epoch [13/200], Loss: 0.008953967650464717, Dice: 0.7887063610473736\n",
      "Validation Loss: 0.007950518258093368, Validation Dice: 0.6574210980868278\n",
      "Contador earlystopping: 1 sobre 15\n",
      "Epoch [14/200], Loss: 0.008011836167924957, Dice: 0.7933235368472618\n",
      "Validation Loss: 0.007060484628060034, Validation Dice: 0.656828147806837\n",
      "Contador earlystopping: 2 sobre 15\n",
      "Epoch [15/200], Loss: 0.007231219212255822, Dice: 0.7978902235127135\n",
      "Validation Loss: 0.0064898111103546055, Validation Dice: 0.6593073260055722\n",
      "Contador earlystopping: 3 sobre 15\n",
      "Epoch [16/200], Loss: 0.006542477144190929, Dice: 0.8038609287882811\n",
      "Validation Loss: 0.005919848213947955, Validation Dice: 0.6531840556561725\n",
      "Contador earlystopping: 4 sobre 15\n",
      "Epoch [17/200], Loss: 0.005986741131434104, Dice: 0.8091657953774369\n",
      "Validation Loss: 0.005499101155215786, Validation Dice: 0.6685149552793952\n",
      "Epoch [18/200], Loss: 0.005536398719121146, Dice: 0.8113347583969167\n",
      "Validation Loss: 0.005221527491119646, Validation Dice: 0.6655636170607371\n",
      "Contador earlystopping: 1 sobre 15\n",
      "Epoch [19/200], Loss: 0.0051342943283235465, Dice: 0.8143851249009971\n",
      "Validation Loss: 0.004786447045348939, Validation Dice: 0.6589559601522827\n",
      "Contador earlystopping: 2 sobre 15\n",
      "Epoch [20/200], Loss: 0.004798875466901684, Dice: 0.8174606053621177\n",
      "Validation Loss: 0.004575898660169471, Validation Dice: 0.6492016468102866\n",
      "Contador earlystopping: 3 sobre 15\n",
      "Epoch [21/200], Loss: 0.004492677271603638, Dice: 0.8207690955808499\n",
      "Validation Loss: 0.004429713955947331, Validation Dice: 0.6446303913616465\n",
      "Contador earlystopping: 4 sobre 15\n",
      "Epoch [22/200], Loss: 0.004222931177824136, Dice: 0.8253209914937115\n",
      "Validation Loss: 0.004340770731990536, Validation Dice: 0.6561067615505419\n",
      "Contador earlystopping: 5 sobre 15\n",
      "Epoch [23/200], Loss: 0.003988381525214087, Dice: 0.828248608032329\n",
      "Validation Loss: 0.0041038669213386515, Validation Dice: 0.6523120378307622\n",
      "Contador earlystopping: 6 sobre 15\n",
      "Epoch [24/200], Loss: 0.003808722309393171, Dice: 0.8281594698861141\n",
      "Validation Loss: 0.0038446592488547877, Validation Dice: 0.6673783184037477\n",
      "Contador earlystopping: 7 sobre 15\n",
      "Epoch [25/200], Loss: 0.0036182711338436846, Dice: 0.8311145113618582\n",
      "Validation Loss: 0.0037513983413754474, Validation Dice: 0.6618767249885769\n",
      "Contador earlystopping: 8 sobre 15\n",
      "Epoch [26/200], Loss: 0.0034506515890434884, Dice: 0.8324619259610272\n",
      "Validation Loss: 0.0036290778745231883, Validation Dice: 0.6590205687056628\n",
      "Contador earlystopping: 9 sobre 15\n",
      "Epoch [27/200], Loss: 0.0033182334107965633, Dice: 0.8348740827317206\n",
      "Validation Loss: 0.0036270853597670794, Validation Dice: 0.6581565009064174\n",
      "Contador earlystopping: 10 sobre 15\n",
      "Epoch [28/200], Loss: 0.0031631163449570435, Dice: 0.8384764002473563\n",
      "Validation Loss: 0.003347159097237246, Validation Dice: 0.6612217633724434\n",
      "Contador earlystopping: 11 sobre 15\n",
      "Epoch [29/200], Loss: 0.003041444552574782, Dice: 0.840645836903745\n",
      "Validation Loss: 0.00331239957207193, Validation Dice: 0.660926874347275\n",
      "Contador earlystopping: 12 sobre 15\n",
      "Epoch [30/200], Loss: 0.002930544163631713, Dice: 0.8427665993671289\n",
      "Validation Loss: 0.0033407637383788824, Validation Dice: 0.666549512020789\n",
      "Contador earlystopping: 13 sobre 15\n",
      "Epoch [31/200], Loss: 0.002866733136380579, Dice: 0.8419499969322409\n",
      "Validation Loss: 0.003340225700022919, Validation Dice: 0.6541264713087696\n",
      "Contador earlystopping: 14 sobre 15\n",
      "Epoch [32/200], Loss: 0.0027380152886745915, Dice: 0.8459237421919036\n",
      "Validation Loss: 0.0032951541084219656, Validation Dice: 0.6701734319733943\n",
      "Contador earlystopping: 15 sobre 15\n",
      "Early stopping\n"
     ]
    }
   ],
   "source": [
    "perdidas_train = []\n",
    "perdidas_val = []\n",
    "dice_train = []\n",
    "dice_val = []\n",
    "num_epochs = 200\n",
    "stop = EarlyStopping(paciencia=15, min_cambio=0.005)\n",
    "\n",
    "for epoch in range(num_epochs):\n",
    "    model.train()\n",
    "    running_loss = 0.0\n",
    "    running_dice = 0.0\n",
    "    \n",
    "    for images, masks in dataloader_train:\n",
    "        images = images.to(device)\n",
    "        masks = masks.to(device)\n",
    "\n",
    "        outputs = model(images)\n",
    "        loss = criterion(outputs, masks)\n",
    "\n",
    "        optimizer.zero_grad()\n",
    "        loss.backward()\n",
    "        optimizer.step()\n",
    "\n",
    "        running_loss += loss.item()\n",
    "\n",
    "        predictions = torch.sigmoid(outputs)\n",
    "        masks = masks.long()\n",
    "        \n",
    "        dice = dice_metric(predictions, masks)\n",
    "        \n",
    "        running_dice += dice.item()\n",
    "\n",
    "    perdida = running_loss/len(dataloader_train)\n",
    "    perdidas_train.append(perdida)\n",
    "\n",
    "    fiabilidad = running_dice/len(dataloader_train)\n",
    "    dice_train.append(fiabilidad)\n",
    "    \n",
    "    print(f'Epoch [{epoch+1}/{num_epochs}], Loss: {perdida}, Dice: {fiabilidad}')\n",
    "\n",
    "    model.eval()\n",
    "    val_loss = 0.0\n",
    "    val_dice = 0.0\n",
    "    \n",
    "    with torch.no_grad():\n",
    "        for images, masks in dataloader_val:\n",
    "            images = images.to(device)\n",
    "            masks = masks.to(device)\n",
    "            \n",
    "            outputs = model(images)\n",
    "            loss = criterion(outputs, masks)\n",
    "            \n",
    "            val_loss += loss.item()\n",
    "\n",
    "            predictions = torch.sigmoid(outputs)\n",
    "            predictions = (predictions > 0.5).float()\n",
    "            masks = masks.long()\n",
    "          \n",
    "            batch_dice = 0.0\n",
    "            for i in range(images.size(0)):\n",
    "                if masks[i].sum() == 0 and predictions[i].sum() == 0:\n",
    "                    dice = torch.tensor(1.0)\n",
    "                else:\n",
    "                    dice = dice_metric(predictions[i], masks[i])\n",
    "    \n",
    "                batch_dice += dice.item()\n",
    "            \n",
    "            batch_dice_media = batch_dice / images.size(0)\n",
    "            val_dice += batch_dice_media\n",
    "    \n",
    "    perdida = val_loss/len(dataloader_val)\n",
    "    perdidas_val.append(perdida)\n",
    "\n",
    "    fiabilidad = val_dice/len(dataloader_val)\n",
    "    dice_val.append(fiabilidad)\n",
    "    \n",
    "    print(f'Validation Loss: {perdida}, Validation Dice: {fiabilidad}')\n",
    "\n",
    "    stop(fiabilidad, model, path='UNet_mejor_Coronal.pth')\n",
    "    if stop.early_stop:\n",
    "        print(\"Early stopping\")\n",
    "        break"
   ]
  },
  {
   "cell_type": "markdown",
   "id": "40ce875e-5d36-4ec9-98ce-ffd1f46ac4cb",
   "metadata": {},
   "source": [
    "Sagital"
   ]
  },
  {
   "cell_type": "code",
   "execution_count": 17,
   "id": "81e299a3-6504-43af-8b5b-e3af56853047",
   "metadata": {},
   "outputs": [
    {
     "name": "stdout",
     "output_type": "stream",
     "text": [
      "7920\n"
     ]
    }
   ],
   "source": [
    "carpeta = 'Resultados2/Cerebro/Sagital/'\n",
    "lista_ficheros_cerebro_sagital = obtener_ficheros(carpeta)\n",
    "print(len(lista_ficheros_cerebro_sagital))"
   ]
  },
  {
   "cell_type": "code",
   "execution_count": 18,
   "id": "6fe8b428-f301-43ce-a021-d6200b8ab1a6",
   "metadata": {},
   "outputs": [
    {
     "name": "stdout",
     "output_type": "stream",
     "text": [
      "7920\n"
     ]
    }
   ],
   "source": [
    "carpeta = 'Resultados2/Mascara/Sagital/'\n",
    "lista_ficheros_mascara_sagital = obtener_ficheros(carpeta)\n",
    "print(len(lista_ficheros_mascara_sagital))"
   ]
  },
  {
   "cell_type": "code",
   "execution_count": 19,
   "id": "7ae08caa-43d3-43b6-a99d-838a61af81c7",
   "metadata": {},
   "outputs": [
    {
     "name": "stdout",
     "output_type": "stream",
     "text": [
      "1100\n"
     ]
    }
   ],
   "source": [
    "carpeta = 'Resultados2/Cerebro/Sagital/Val/'\n",
    "lista_ficheros_cerebro_sagital_val = obtener_ficheros(carpeta)\n",
    "print(len(lista_ficheros_cerebro_sagital_val))"
   ]
  },
  {
   "cell_type": "code",
   "execution_count": 20,
   "id": "b6ea6e59-c685-4a33-b457-72a0e60668d7",
   "metadata": {},
   "outputs": [
    {
     "name": "stdout",
     "output_type": "stream",
     "text": [
      "1100\n"
     ]
    }
   ],
   "source": [
    "carpeta = 'Resultados2/Mascara/Sagital/Val/'\n",
    "lista_ficheros_mascara_sagital_val = obtener_ficheros(carpeta)\n",
    "print(len(lista_ficheros_mascara_sagital_val))"
   ]
  },
  {
   "cell_type": "code",
   "execution_count": 21,
   "id": "938eb364-fe39-47db-9839-29935fc42c8c",
   "metadata": {},
   "outputs": [],
   "source": [
    "train_dataset = Custom_Dataset(lista_ficheros_cerebro_sagital,lista_ficheros_mascara_sagital, argument=True)\n",
    "dataloader_train = DataLoader(train_dataset, batch_size=64, shuffle=True)"
   ]
  },
  {
   "cell_type": "code",
   "execution_count": 22,
   "id": "d6dbcd4b-dc14-41fc-b9c2-1dd3cb318036",
   "metadata": {},
   "outputs": [],
   "source": [
    "val_dataset = Custom_Dataset(lista_ficheros_cerebro_sagital_val,lista_ficheros_mascara_sagital_val)\n",
    "dataloader_val = DataLoader(val_dataset, batch_size=64, shuffle=False)"
   ]
  },
  {
   "cell_type": "code",
   "execution_count": 23,
   "id": "5126487e-41c8-4bef-8d78-763c858215ea",
   "metadata": {},
   "outputs": [],
   "source": [
    "model = smp.Unet(\n",
    "    encoder_name=\"resnet34\",\n",
    "    encoder_weights=\"imagenet\",\n",
    "    in_channels=1,\n",
    "    classes=1\n",
    ")"
   ]
  },
  {
   "cell_type": "code",
   "execution_count": 24,
   "id": "909dd1df-7e2f-4a5c-84e8-bbd533e0531c",
   "metadata": {},
   "outputs": [
    {
     "name": "stdout",
     "output_type": "stream",
     "text": [
      "cuda\n"
     ]
    }
   ],
   "source": [
    "device = torch.device(\"cuda\" if torch.cuda.is_available() else \"cpu\")\n",
    "print(device)"
   ]
  },
  {
   "cell_type": "code",
   "execution_count": 25,
   "id": "8a964720-68d7-45f4-b28c-f82f2048eda8",
   "metadata": {},
   "outputs": [],
   "source": [
    "model = model.to(device)\n",
    "criterion = nn.BCEWithLogitsLoss()\n",
    "optimizer = optim.Adam(model.parameters(), lr=1e-4)\n",
    "dice_metric = Dice(average='micro').to(device)"
   ]
  },
  {
   "cell_type": "code",
   "execution_count": 26,
   "id": "550e1918-42f4-4060-a0dc-c89100a8fcae",
   "metadata": {},
   "outputs": [
    {
     "name": "stdout",
     "output_type": "stream",
     "text": [
      "Epoch [1/200], Loss: 0.31915115276651995, Dice: 0.0009387563154192439\n",
      "Validation Loss: 0.23185249666372934, Validation Dice: 0.1362847222222222\n",
      "Epoch [2/200], Loss: 0.1608274283428346, Dice: 0.09527090181290987\n",
      "Validation Loss: 0.12415655205647151, Validation Dice: 0.4512565644511563\n",
      "Epoch [3/200], Loss: 0.10082012769435683, Dice: 0.4826755455184367\n",
      "Validation Loss: 0.08250750808252229, Validation Dice: 0.5461131843920966\n",
      "Epoch [4/200], Loss: 0.06898481957614422, Dice: 0.5763644898130048\n",
      "Validation Loss: 0.05715317506757048, Validation Dice: 0.5682726229254816\n",
      "Epoch [5/200], Loss: 0.04950353025548881, Dice: 0.6424192569909557\n",
      "Validation Loss: 0.04141041822731495, Validation Dice: 0.586267039018114\n",
      "Epoch [6/200], Loss: 0.03729880129497859, Dice: 0.6840689624509504\n",
      "Validation Loss: 0.03177618928667572, Validation Dice: 0.6061819069549933\n",
      "Epoch [7/200], Loss: 0.029313461239179297, Dice: 0.7119298846490921\n",
      "Validation Loss: 0.02513159542447991, Validation Dice: 0.618950988263047\n",
      "Epoch [8/200], Loss: 0.023753946391685356, Dice: 0.7321634383932236\n",
      "Validation Loss: 0.020753704632321995, Validation Dice: 0.6614012881543236\n",
      "Epoch [9/200], Loss: 0.01970392770524467, Dice: 0.7556666246344966\n",
      "Validation Loss: 0.01710726631184419, Validation Dice: 0.6644834408749981\n",
      "Contador earlystopping: 1 sobre 15\n",
      "Epoch [10/200], Loss: 0.016616366886263414, Dice: 0.7729672217561353\n",
      "Validation Loss: 0.014650095254182816, Validation Dice: 0.6543705450301921\n",
      "Contador earlystopping: 2 sobre 15\n",
      "Epoch [11/200], Loss: 0.014144055665500702, Dice: 0.7900663604659419\n",
      "Validation Loss: 0.012460855042768849, Validation Dice: 0.6766195460977206\n",
      "Epoch [12/200], Loss: 0.012243897331157518, Dice: 0.7936329543590546\n",
      "Validation Loss: 0.010962626689838039, Validation Dice: 0.6723565102486949\n",
      "Contador earlystopping: 1 sobre 15\n",
      "Epoch [13/200], Loss: 0.010786193483058483, Dice: 0.7946820220639629\n",
      "Validation Loss: 0.009547451381675072, Validation Dice: 0.6834817331713297\n",
      "Epoch [14/200], Loss: 0.009518366847788133, Dice: 0.8045562544176655\n",
      "Validation Loss: 0.00853070466675692, Validation Dice: 0.7004027452505263\n",
      "Epoch [15/200], Loss: 0.00852279540436763, Dice: 0.8112109659179565\n",
      "Validation Loss: 0.007683938990036647, Validation Dice: 0.6905979688443175\n",
      "Contador earlystopping: 1 sobre 15\n",
      "Epoch [16/200], Loss: 0.0077029092973398584, Dice: 0.8149835265451862\n",
      "Validation Loss: 0.007078610878023837, Validation Dice: 0.6846809268183144\n",
      "Contador earlystopping: 2 sobre 15\n",
      "Epoch [17/200], Loss: 0.00707393359287732, Dice: 0.815119610678765\n",
      "Validation Loss: 0.006508966261107061, Validation Dice: 0.6875998641739393\n",
      "Contador earlystopping: 3 sobre 15\n",
      "Epoch [18/200], Loss: 0.006455556681049207, Dice: 0.820273385893914\n",
      "Validation Loss: 0.006002975136248602, Validation Dice: 0.6996783982181956\n",
      "Contador earlystopping: 4 sobre 15\n",
      "Epoch [19/200], Loss: 0.005947742881553788, Dice: 0.8252249509096146\n",
      "Validation Loss: 0.0055100437926335465, Validation Dice: 0.7081450158773266\n",
      "Epoch [20/200], Loss: 0.005531125630612576, Dice: 0.825751434410772\n",
      "Validation Loss: 0.0054671279180587996, Validation Dice: 0.6676270474213029\n",
      "Contador earlystopping: 1 sobre 15\n",
      "Epoch [21/200], Loss: 0.0051811447427157434, Dice: 0.8289892038991374\n",
      "Validation Loss: 0.004932232550345361, Validation Dice: 0.6993738963506917\n",
      "Contador earlystopping: 2 sobre 15\n",
      "Epoch [22/200], Loss: 0.0048449203980365585, Dice: 0.8318281918764114\n",
      "Validation Loss: 0.00485098462862273, Validation Dice: 0.7001835190851664\n",
      "Contador earlystopping: 3 sobre 15\n",
      "Epoch [23/200], Loss: 0.004515468484661993, Dice: 0.8363175906481282\n",
      "Validation Loss: 0.004464348493557837, Validation Dice: 0.7075815825395424\n",
      "Contador earlystopping: 4 sobre 15\n",
      "Epoch [24/200], Loss: 0.00432805041782558, Dice: 0.8351496486894546\n",
      "Validation Loss: 0.004257769401495655, Validation Dice: 0.7003260229739007\n",
      "Contador earlystopping: 5 sobre 15\n",
      "Epoch [25/200], Loss: 0.004095343837229115, Dice: 0.8367223326236971\n",
      "Validation Loss: 0.004158167233173218, Validation Dice: 0.7023818948590714\n",
      "Contador earlystopping: 6 sobre 15\n",
      "Epoch [26/200], Loss: 0.0038742990263046758, Dice: 0.8408729006205836\n",
      "Validation Loss: 0.0039504179342960315, Validation Dice: 0.6826557456343262\n",
      "Contador earlystopping: 7 sobre 15\n",
      "Epoch [27/200], Loss: 0.0036686047584930013, Dice: 0.843889360466311\n",
      "Validation Loss: 0.0038931851870276863, Validation Dice: 0.6925906022133185\n",
      "Contador earlystopping: 8 sobre 15\n",
      "Epoch [28/200], Loss: 0.003564064603133668, Dice: 0.8412621569248938\n",
      "Validation Loss: 0.003697531951022231, Validation Dice: 0.7017793576308544\n",
      "Contador earlystopping: 9 sobre 15\n",
      "Epoch [29/200], Loss: 0.003371469663350933, Dice: 0.8468856095306335\n",
      "Validation Loss: 0.003790977119933814, Validation Dice: 0.6923140139541054\n",
      "Contador earlystopping: 10 sobre 15\n",
      "Epoch [30/200], Loss: 0.0032590669072833996, Dice: 0.8475106497926097\n",
      "Validation Loss: 0.00340211679900272, Validation Dice: 0.6929949001350906\n",
      "Contador earlystopping: 11 sobre 15\n",
      "Epoch [31/200], Loss: 0.0031845865793706427, Dice: 0.845922926260579\n",
      "Validation Loss: 0.003478685639695161, Validation Dice: 0.6915532458375242\n",
      "Contador earlystopping: 12 sobre 15\n",
      "Epoch [32/200], Loss: 0.0030246596002290326, Dice: 0.851660817861557\n",
      "Validation Loss: 0.0035135977021935913, Validation Dice: 0.6925838782566037\n",
      "Contador earlystopping: 13 sobre 15\n",
      "Epoch [33/200], Loss: 0.0029159008033363327, Dice: 0.8530531477543616\n",
      "Validation Loss: 0.003453120240010321, Validation Dice: 0.7012154343845194\n",
      "Contador earlystopping: 14 sobre 15\n",
      "Epoch [34/200], Loss: 0.0028666129594879046, Dice: 0.8514690312647051\n",
      "Validation Loss: 0.0033981214510276914, Validation Dice: 0.7053549267533257\n",
      "Contador earlystopping: 15 sobre 15\n",
      "Early stopping\n"
     ]
    }
   ],
   "source": [
    "perdidas_train = []\n",
    "perdidas_val = []\n",
    "dice_train = []\n",
    "dice_val = []\n",
    "num_epochs = 200\n",
    "stop = EarlyStopping(paciencia=15, min_cambio=0.005)\n",
    "\n",
    "for epoch in range(num_epochs):\n",
    "    model.train()\n",
    "    running_loss = 0.0\n",
    "    running_dice = 0.0\n",
    "    \n",
    "    for images, masks in dataloader_train:\n",
    "        images = images.to(device)\n",
    "        masks = masks.to(device)\n",
    "\n",
    "        outputs = model(images)\n",
    "        loss = criterion(outputs, masks)\n",
    "\n",
    "        optimizer.zero_grad()\n",
    "        loss.backward()\n",
    "        optimizer.step()\n",
    "\n",
    "        running_loss += loss.item()\n",
    "\n",
    "        predictions = torch.sigmoid(outputs)\n",
    "        masks = masks.long()\n",
    "        \n",
    "        dice = dice_metric(predictions, masks)\n",
    "        \n",
    "        running_dice += dice.item()\n",
    "\n",
    "    perdida = running_loss/len(dataloader_train)\n",
    "    perdidas_train.append(perdida)\n",
    "\n",
    "    fiabilidad = running_dice/len(dataloader_train)\n",
    "    dice_train.append(fiabilidad)\n",
    "    \n",
    "    print(f'Epoch [{epoch+1}/{num_epochs}], Loss: {perdida}, Dice: {fiabilidad}')\n",
    "\n",
    "    model.eval()\n",
    "    val_loss = 0.0\n",
    "    val_dice = 0.0\n",
    "    \n",
    "    with torch.no_grad():\n",
    "        for images, masks in dataloader_val:\n",
    "            images = images.to(device)\n",
    "            masks = masks.to(device)\n",
    "            \n",
    "            outputs = model(images)\n",
    "            loss = criterion(outputs, masks)\n",
    "            \n",
    "            val_loss += loss.item()\n",
    "\n",
    "            predictions = torch.sigmoid(outputs)\n",
    "            predictions = (predictions > 0.5).float()\n",
    "            masks = masks.long()\n",
    "          \n",
    "            batch_dice = 0.0\n",
    "            for i in range(images.size(0)):\n",
    "                if masks[i].sum() == 0 and predictions[i].sum() == 0:\n",
    "                    dice = torch.tensor(1.0)\n",
    "                else:\n",
    "                    dice = dice_metric(predictions[i], masks[i])\n",
    "    \n",
    "                batch_dice += dice.item()\n",
    "            \n",
    "            batch_dice_media = batch_dice / images.size(0)\n",
    "            val_dice += batch_dice_media\n",
    "    \n",
    "    perdida = val_loss/len(dataloader_val)\n",
    "    perdidas_val.append(perdida)\n",
    "\n",
    "    fiabilidad = val_dice/len(dataloader_val)\n",
    "    dice_val.append(fiabilidad)\n",
    "    \n",
    "    print(f'Validation Loss: {perdida}, Validation Dice: {fiabilidad}')\n",
    "\n",
    "    stop(fiabilidad, model, path='UNet_mejor_Sagital.pth')\n",
    "    if stop.early_stop:\n",
    "        print(\"Early stopping\")\n",
    "        break"
   ]
  },
  {
   "cell_type": "markdown",
   "id": "526fd37d-d1c5-4317-a629-096f56365b79",
   "metadata": {},
   "source": [
    "Testeo axial"
   ]
  },
  {
   "cell_type": "code",
   "execution_count": 9,
   "id": "b8774f3a-4ffe-4fed-a5a2-de75c7df2eb7",
   "metadata": {},
   "outputs": [],
   "source": [
    "def crear_lista_pacientes_test(carpeta):\n",
    "    pruebas = []\n",
    "    for foto in os.listdir(carpeta):\n",
    "        partes = foto.split('_')\n",
    "        paciente = '_'.join(partes[:2])\n",
    "        if paciente not in pruebas:\n",
    "            pruebas.append(paciente)\n",
    "    return natsorted(pruebas)"
   ]
  },
  {
   "cell_type": "code",
   "execution_count": 10,
   "id": "bd0420ff-ba02-46f4-8dd7-9e2d65d0be2e",
   "metadata": {},
   "outputs": [],
   "source": [
    "def crear_diccionario_pruebas_test(pruebas):\n",
    "    return {clave: [] for clave in pruebas}"
   ]
  },
  {
   "cell_type": "code",
   "execution_count": 11,
   "id": "9d7725f2-1074-4286-aa12-4d020ef85ce2",
   "metadata": {},
   "outputs": [],
   "source": [
    "model = smp.Unet(\n",
    "    encoder_name=\"resnet34\",\n",
    "    encoder_weights=\"imagenet\",\n",
    "    in_channels=1,\n",
    "    classes=1\n",
    ")"
   ]
  },
  {
   "cell_type": "code",
   "execution_count": 12,
   "id": "38104e3b-3b92-4f67-a395-d8ab0884af84",
   "metadata": {},
   "outputs": [
    {
     "name": "stdout",
     "output_type": "stream",
     "text": [
      "cuda\n"
     ]
    }
   ],
   "source": [
    "device = torch.device(\"cuda\" if torch.cuda.is_available() else \"cpu\")\n",
    "print(device)"
   ]
  },
  {
   "cell_type": "code",
   "execution_count": 13,
   "id": "d5809dbd-191a-452e-9966-5001f882217e",
   "metadata": {},
   "outputs": [],
   "source": [
    "model = model.to(device)\n",
    "dice_metric = Dice(average='micro').to(device)"
   ]
  },
  {
   "cell_type": "code",
   "execution_count": 14,
   "id": "bdd7d8d8-55d1-44f2-b149-b671d631b424",
   "metadata": {},
   "outputs": [
    {
     "name": "stderr",
     "output_type": "stream",
     "text": [
      "/tmp/ipykernel_3932771/2225227020.py:1: FutureWarning: You are using `torch.load` with `weights_only=False` (the current default value), which uses the default pickle module implicitly. It is possible to construct malicious pickle data which will execute arbitrary code during unpickling (See https://github.com/pytorch/pytorch/blob/main/SECURITY.md#untrusted-models for more details). In a future release, the default value for `weights_only` will be flipped to `True`. This limits the functions that could be executed during unpickling. Arbitrary objects will no longer be allowed to be loaded via this mode unless they are explicitly allowlisted by the user via `torch.serialization.add_safe_globals`. We recommend you start setting `weights_only=True` for any use case where you don't have full control of the loaded file. Please open an issue on GitHub for any issues related to this experimental feature.\n",
      "  model.load_state_dict(torch.load(\"UNet_mejor_Axial.pth\"))\n"
     ]
    },
    {
     "data": {
      "text/plain": [
       "<All keys matched successfully>"
      ]
     },
     "execution_count": 14,
     "metadata": {},
     "output_type": "execute_result"
    }
   ],
   "source": [
    "model.load_state_dict(torch.load(\"UNet_mejor_Axial.pth\"))"
   ]
  },
  {
   "cell_type": "code",
   "execution_count": 15,
   "id": "7ea123e0-c61a-4a9c-bf51-7cd607df7e6a",
   "metadata": {},
   "outputs": [
    {
     "name": "stdout",
     "output_type": "stream",
     "text": [
      "7920\n"
     ]
    }
   ],
   "source": [
    "carpeta = 'Resultados2/Cerebro/Axial/Train/'\n",
    "lista_ficheros_cerebro_axial_test = obtener_ficheros(carpeta)\n",
    "print(len(lista_ficheros_cerebro_axial_test))"
   ]
  },
  {
   "cell_type": "code",
   "execution_count": 16,
   "id": "2b6fb01c-2154-46a7-bd60-26acbf7ce217",
   "metadata": {},
   "outputs": [
    {
     "name": "stdout",
     "output_type": "stream",
     "text": [
      "7920\n"
     ]
    }
   ],
   "source": [
    "carpeta = 'Resultados2/Mascara/Axial/Train/'\n",
    "lista_ficheros_mascara_axial_test = obtener_ficheros(carpeta)\n",
    "print(len(lista_ficheros_mascara_axial_test))"
   ]
  },
  {
   "cell_type": "code",
   "execution_count": 17,
   "id": "a1fbc340-5e05-42b6-ac1d-71f03dd9d388",
   "metadata": {},
   "outputs": [],
   "source": [
    "test_dataset = Custom_Dataset(lista_ficheros_cerebro_axial_test, lista_ficheros_mascara_axial_test)\n",
    "dataloader_test = DataLoader(test_dataset, batch_size=1, shuffle=False)"
   ]
  },
  {
   "cell_type": "code",
   "execution_count": 18,
   "id": "53955104-e2a6-402c-9519-40ec82cc9aa4",
   "metadata": {},
   "outputs": [],
   "source": [
    "carpeta = 'Resultados2/Cerebro/Axial/Train/'\n",
    "pruebas = crear_lista_pacientes_test(carpeta)\n",
    "diccionario = crear_diccionario_pruebas_test(pruebas)\n",
    "\n",
    "dicc_dice = crear_diccionario_pruebas_test(pruebas)"
   ]
  },
  {
   "cell_type": "code",
   "execution_count": 19,
   "id": "ba6e002f-afd9-49fc-9d35-40bf5c46b342",
   "metadata": {},
   "outputs": [
    {
     "name": "stdout",
     "output_type": "stream",
     "text": [
      "Paciente: P01_T1, Dice: 0.856631065769629\n",
      "Paciente: P01_T2, Dice: 0.866338690573519\n",
      "Paciente: P01_T3, Dice: 0.8718853359872645\n",
      "Paciente: P02_T1, Dice: 0.9162795172496275\n",
      "Paciente: P02_T4, Dice: 0.8654550704089078\n",
      "Paciente: P03_T2, Dice: 0.7278364877131852\n",
      "Paciente: P03_T3, Dice: 0.7197776538404551\n",
      "Paciente: P03_T4, Dice: 0.7831628516316413\n",
      "Paciente: P04_T1, Dice: 0.863121809200807\n",
      "Paciente: P04_T2, Dice: 0.8168698324398561\n",
      "Paciente: P04_T3, Dice: 0.8338053532622077\n",
      "Paciente: P05_T1, Dice: 0.7270231313326142\n",
      "Paciente: P05_T2, Dice: 0.7810172267935492\n",
      "Paciente: P06_T1, Dice: 0.7452213399112224\n",
      "Paciente: P06_T2, Dice: 0.7777078674598173\n",
      "Paciente: P06_T3, Dice: 0.7998392900621349\n",
      "Paciente: P07_T2, Dice: 0.8606840328736739\n",
      "Paciente: P08_T2, Dice: 0.7661454138430682\n",
      "Paciente: P09_T2, Dice: 0.7869380380619656\n",
      "Paciente: P09_T3, Dice: 0.8059726994146\n",
      "Paciente: P10_T1, Dice: 0.732842153581706\n",
      "Paciente: P10_T2, Dice: 0.7476686996492472\n",
      "Paciente: P11_T2, Dice: 0.8412520600990816\n",
      "Paciente: P12_T1, Dice: 0.811127401211045\n",
      "Paciente: P12_T3, Dice: 0.8454630407420072\n",
      "Paciente: P12_T4, Dice: 0.8435559134591709\n",
      "Paciente: P13_T2, Dice: 0.7281993179158731\n",
      "Paciente: P14_T1, Dice: 0.8720144545490092\n",
      "Paciente: P14_T3, Dice: 0.8274998476559465\n",
      "Paciente: P15_T1, Dice: 0.9018747042525899\n",
      "Paciente: P16_T1, Dice: 0.9099970400333405\n",
      "Paciente: P17_T1, Dice: 0.890656038035046\n",
      "Paciente: P19_T1, Dice: 0.7433889208869501\n",
      "Paciente: P19_T2, Dice: 0.7492459099401128\n",
      "Paciente: P19_T3, Dice: 0.7220913215455684\n",
      "Paciente: P19_T4, Dice: 0.82272424724969\n",
      "Paciente: P20_T1, Dice: 0.8385863919149745\n",
      "Paciente: P20_T2, Dice: 0.7714930068362843\n",
      "Paciente: P20_T3, Dice: 0.8206557874652473\n",
      "Paciente: P21_T1, Dice: 0.8440356784246185\n",
      "Paciente: P22_T2, Dice: 0.775896408883008\n",
      "Paciente: P24_T1, Dice: 0.7093344057148153\n",
      "Paciente: P25_T1, Dice: 0.9050281370227987\n",
      "Paciente: P26_T1, Dice: 0.7398118407888846\n",
      "Paciente: P28_T1, Dice: 0.8358353212475776\n",
      "Paciente: P28_T2, Dice: 0.7582759437913245\n",
      "Paciente: P29_T1, Dice: 0.6764189701188694\n",
      "Paciente: P31_T1, Dice: 0.7582830082286488\n",
      "Paciente: P31_T2, Dice: 0.7372748924927278\n",
      "Paciente: P33_T1, Dice: 0.6931142257018523\n",
      "Paciente: P33_T2, Dice: 0.7977367353710261\n",
      "Paciente: P34_T1, Dice: 0.7835962550206618\n",
      "Paciente: P35_T1, Dice: 0.6750030043450269\n",
      "Paciente: P36_T1, Dice: 0.7924790713597428\n",
      "Paciente: P37_T1, Dice: 0.8508327485485511\n",
      "Paciente: P38_T1, Dice: 0.8032360900532115\n",
      "Paciente: P39_T1, Dice: 0.911902592940764\n",
      "Paciente: P40_T1, Dice: 0.8794295401058414\n",
      "Paciente: P41_T1, Dice: 0.7992166141217405\n",
      "Paciente: P42_T1, Dice: 0.8332599194212393\n",
      "Paciente: P43_T1, Dice: 0.7614040861075575\n",
      "Paciente: P45_T1, Dice: 0.8790107393806631\n",
      "Paciente: P46_T1, Dice: 0.8581800076094541\n",
      "Paciente: P48_T1, Dice: 0.6850401828234846\n",
      "Paciente: P49_T1, Dice: 0.8799221541393887\n",
      "Paciente: P49_T2, Dice: 0.8204901859164238\n",
      "Paciente: P50_T1, Dice: 0.7852556964213198\n",
      "Paciente: P50_T2, Dice: 0.8692534468390725\n",
      "Paciente: P51_T2, Dice: 0.7390896113081412\n",
      "Paciente: P52_T1, Dice: 0.7274150236086412\n",
      "Paciente: P53_T1, Dice: 0.8410911893302744\n",
      "Paciente: P53_T2, Dice: 0.8542235802520405\n"
     ]
    }
   ],
   "source": [
    "model = model.to(device)\n",
    "model.eval()\n",
    "\n",
    "for idx, (images, masks) in enumerate(dataloader_test):\n",
    "    images = images.to(device)\n",
    "    masks = masks.to(device)\n",
    "    \n",
    "    with torch.no_grad():\n",
    "        outputs = model(images)\n",
    "        predictions = torch.sigmoid(outputs)\n",
    "        predictions = (predictions > 0.5).float()\n",
    "        masks = masks.long()\n",
    "        \n",
    "        if masks.sum() == 0 and predictions.sum() == 0:\n",
    "            dice = torch.tensor(1.0)\n",
    "        else:\n",
    "            dice = dice_metric(predictions, masks)\n",
    "\n",
    "        dice = dice.item()\n",
    "    \n",
    "    original = images.squeeze().cpu().numpy()\n",
    "    mascara = masks.squeeze().cpu().numpy()\n",
    "    prediccion = predictions.squeeze().cpu().numpy()\n",
    "\n",
    "    filename = lista_ficheros_cerebro_axial_test[idx]\n",
    "    partes = os.path.basename(filename).split('_')\n",
    "    paciente = '_'.join(partes[:2])\n",
    "\n",
    "    if paciente in diccionario:\n",
    "        diccionario[paciente].append(prediccion)\n",
    "        dicc_dice[paciente].append(dice)\n",
    "    \n",
    "for paciente, dice_scores in dicc_dice.items():\n",
    "    dicc_dice[paciente] = np.mean(dice_scores)\n",
    "\n",
    "for paciente, dice_score in dicc_dice.items():\n",
    "    print(f'Paciente: {paciente}, Dice: {dice_score}')"
   ]
  },
  {
   "cell_type": "code",
   "execution_count": 20,
   "id": "5f6f49af-3759-4de1-a23c-3f74c93d85f1",
   "metadata": {},
   "outputs": [
    {
     "name": "stdout",
     "output_type": "stream",
     "text": [
      "(182, 218, 182)\n",
      "(182, 218, 182)\n",
      "(182, 218, 182)\n",
      "(182, 218, 182)\n",
      "(182, 218, 182)\n",
      "(182, 218, 182)\n",
      "(182, 218, 182)\n",
      "(182, 218, 182)\n",
      "(182, 218, 182)\n",
      "(182, 218, 182)\n",
      "(182, 218, 182)\n",
      "(182, 218, 182)\n",
      "(182, 218, 182)\n",
      "(182, 218, 182)\n",
      "(182, 218, 182)\n",
      "(182, 218, 182)\n",
      "(182, 218, 182)\n",
      "(182, 218, 182)\n",
      "(182, 218, 182)\n",
      "(182, 218, 182)\n",
      "(182, 218, 182)\n",
      "(182, 218, 182)\n",
      "(182, 218, 182)\n",
      "(182, 218, 182)\n",
      "(182, 218, 182)\n",
      "(182, 218, 182)\n",
      "(182, 218, 182)\n",
      "(182, 218, 182)\n",
      "(182, 218, 182)\n",
      "(182, 218, 182)\n",
      "(182, 218, 182)\n",
      "(182, 218, 182)\n",
      "(182, 218, 182)\n",
      "(182, 218, 182)\n",
      "(182, 218, 182)\n",
      "(182, 218, 182)\n",
      "(182, 218, 182)\n",
      "(182, 218, 182)\n",
      "(182, 218, 182)\n",
      "(182, 218, 182)\n",
      "(182, 218, 182)\n",
      "(182, 218, 182)\n",
      "(182, 218, 182)\n",
      "(182, 218, 182)\n",
      "(182, 218, 182)\n",
      "(182, 218, 182)\n",
      "(182, 218, 182)\n",
      "(182, 218, 182)\n",
      "(182, 218, 182)\n",
      "(182, 218, 182)\n",
      "(182, 218, 182)\n",
      "(182, 218, 182)\n",
      "(182, 218, 182)\n",
      "(182, 218, 182)\n",
      "(182, 218, 182)\n",
      "(182, 218, 182)\n",
      "(182, 218, 182)\n",
      "(182, 218, 182)\n",
      "(182, 218, 182)\n",
      "(182, 218, 182)\n",
      "(182, 218, 182)\n",
      "(182, 218, 182)\n",
      "(182, 218, 182)\n",
      "(182, 218, 182)\n",
      "(182, 218, 182)\n",
      "(182, 218, 182)\n",
      "(182, 218, 182)\n",
      "(182, 218, 182)\n",
      "(182, 218, 182)\n",
      "(182, 218, 182)\n",
      "(182, 218, 182)\n",
      "(182, 218, 182)\n"
     ]
    }
   ],
   "source": [
    "carpeta = 'Datos/Mascara/'\n",
    "for paciente, imagenes in diccionario.items():\n",
    "  \n",
    "    prueba = [f for f in os.listdir(carpeta) if paciente in f][0]\n",
    "    ruta = os.path.join(carpeta, prueba)\n",
    "    imagen_nifti = nib.load(ruta)\n",
    "    datos = imagen_nifti.get_fdata()\n",
    "    \n",
    "    num_index = datos.shape[2]\n",
    "    num_añadir = porcentaje(num_index, 20)\n",
    "\n",
    "    original_height, original_width = datos.shape[:2]\n",
    "\n",
    "    imagenes_redimensionadas = np.zeros((num_index, original_height, original_width))\n",
    "    \n",
    "    for idx, img in enumerate(imagenes):\n",
    "        img_resized = resize(img, (original_height, original_width), mode='constant', preserve_range=True)\n",
    "        img_resized = (img_resized > 0.5).astype(np.float32)\n",
    "        imagenes_redimensionadas[idx + num_añadir] = img_resized\n",
    "\n",
    "    pred_masks_np = np.stack(imagenes_redimensionadas, axis=-1)\n",
    "    print(pred_masks_np.shape)\n",
    "    \n",
    "    nifti_img = nib.Nifti1Image(pred_masks_np, np.eye(4))\n",
    "\n",
    "    carpeta_nifti = 'Prediccion/Unet/AxialT'\n",
    "    if not os.path.exists(carpeta_nifti):\n",
    "        os.makedirs(carpeta_nifti)\n",
    "    \n",
    "    nib.save(nifti_img, os.path.join(carpeta_nifti, f'{paciente}_prediccion_Axial.nii.gz'))"
   ]
  },
  {
   "cell_type": "markdown",
   "id": "dac5fb17-4058-4a64-9471-f64cc182a3b3",
   "metadata": {},
   "source": [
    "Testeo coronal"
   ]
  },
  {
   "cell_type": "code",
   "execution_count": 21,
   "id": "934ea89d-84cd-4e4d-a18e-80a13c71daad",
   "metadata": {},
   "outputs": [],
   "source": [
    "model = smp.Unet(\n",
    "    encoder_name=\"resnet34\",\n",
    "    encoder_weights=\"imagenet\",\n",
    "    in_channels=1,\n",
    "    classes=1\n",
    ")"
   ]
  },
  {
   "cell_type": "code",
   "execution_count": 22,
   "id": "02cdd53c-f4b1-4846-911d-c0d1cd2caa0d",
   "metadata": {},
   "outputs": [
    {
     "name": "stdout",
     "output_type": "stream",
     "text": [
      "cuda\n"
     ]
    }
   ],
   "source": [
    "device = torch.device(\"cuda\" if torch.cuda.is_available() else \"cpu\")\n",
    "print(device)"
   ]
  },
  {
   "cell_type": "code",
   "execution_count": 23,
   "id": "d1053ee2-f07e-4c26-becc-1e646603cb9b",
   "metadata": {},
   "outputs": [],
   "source": [
    "model = model.to(device)\n",
    "dice_metric = Dice(average='micro').to(device)"
   ]
  },
  {
   "cell_type": "code",
   "execution_count": 24,
   "id": "e140bbb5-cb9e-4372-8f4e-22b2fe2b535a",
   "metadata": {},
   "outputs": [
    {
     "name": "stderr",
     "output_type": "stream",
     "text": [
      "/tmp/ipykernel_3932771/2884888535.py:1: FutureWarning: You are using `torch.load` with `weights_only=False` (the current default value), which uses the default pickle module implicitly. It is possible to construct malicious pickle data which will execute arbitrary code during unpickling (See https://github.com/pytorch/pytorch/blob/main/SECURITY.md#untrusted-models for more details). In a future release, the default value for `weights_only` will be flipped to `True`. This limits the functions that could be executed during unpickling. Arbitrary objects will no longer be allowed to be loaded via this mode unless they are explicitly allowlisted by the user via `torch.serialization.add_safe_globals`. We recommend you start setting `weights_only=True` for any use case where you don't have full control of the loaded file. Please open an issue on GitHub for any issues related to this experimental feature.\n",
      "  model.load_state_dict(torch.load(\"UNet_mejor_Coronal.pth\"))\n"
     ]
    },
    {
     "data": {
      "text/plain": [
       "<All keys matched successfully>"
      ]
     },
     "execution_count": 24,
     "metadata": {},
     "output_type": "execute_result"
    }
   ],
   "source": [
    "model.load_state_dict(torch.load(\"UNet_mejor_Coronal.pth\"))"
   ]
  },
  {
   "cell_type": "code",
   "execution_count": 25,
   "id": "b009e7d6-0b1a-4c5e-a698-d03b0146eeb5",
   "metadata": {},
   "outputs": [
    {
     "name": "stdout",
     "output_type": "stream",
     "text": [
      "9504\n"
     ]
    }
   ],
   "source": [
    "carpeta = 'Resultados2/Cerebro/Coronal/Train/'\n",
    "lista_ficheros_cerebro_coronal_test = obtener_ficheros(carpeta)\n",
    "print(len(lista_ficheros_cerebro_coronal_test))"
   ]
  },
  {
   "cell_type": "code",
   "execution_count": 26,
   "id": "35fba5ed-3448-4eb9-b90c-447672122e84",
   "metadata": {},
   "outputs": [
    {
     "name": "stdout",
     "output_type": "stream",
     "text": [
      "9504\n"
     ]
    }
   ],
   "source": [
    "carpeta = 'Resultados2/Mascara/Coronal/Train/'\n",
    "lista_ficheros_mascara_coronal_test = obtener_ficheros(carpeta)\n",
    "print(len(lista_ficheros_mascara_coronal_test))"
   ]
  },
  {
   "cell_type": "code",
   "execution_count": 27,
   "id": "3bde92b1-8b28-4283-b09b-4b554825f7bd",
   "metadata": {},
   "outputs": [],
   "source": [
    "test_dataset = Custom_Dataset(lista_ficheros_cerebro_coronal_test, lista_ficheros_mascara_coronal_test)\n",
    "dataloader_test = DataLoader(test_dataset, batch_size=1, shuffle=False)"
   ]
  },
  {
   "cell_type": "code",
   "execution_count": 28,
   "id": "fcab128a-5da1-45aa-8d3e-9f243f36bdeb",
   "metadata": {},
   "outputs": [],
   "source": [
    "carpeta = 'Resultados2/Cerebro/Coronal/Train/'\n",
    "pruebas = crear_lista_pacientes_test(carpeta)\n",
    "diccionario = crear_diccionario_pruebas_test(pruebas)\n",
    "\n",
    "dicc_dice = crear_diccionario_pruebas_test(pruebas)"
   ]
  },
  {
   "cell_type": "code",
   "execution_count": 29,
   "id": "eac2756f-3a54-4f95-96ff-1896cb05d008",
   "metadata": {},
   "outputs": [
    {
     "name": "stdout",
     "output_type": "stream",
     "text": [
      "Paciente: P01_T1, Dice: 0.821331993987163\n",
      "Paciente: P01_T2, Dice: 0.8232855851000006\n",
      "Paciente: P01_T3, Dice: 0.8647434052192804\n",
      "Paciente: P02_T1, Dice: 0.7621924871522369\n",
      "Paciente: P02_T4, Dice: 0.7523285757298722\n",
      "Paciente: P03_T2, Dice: 0.6549594211815433\n",
      "Paciente: P03_T3, Dice: 0.6089667686345902\n",
      "Paciente: P03_T4, Dice: 0.5666636255372203\n",
      "Paciente: P04_T1, Dice: 0.8529236891278715\n",
      "Paciente: P04_T2, Dice: 0.8170563025456486\n",
      "Paciente: P04_T3, Dice: 0.8746486302803863\n",
      "Paciente: P05_T1, Dice: 0.6911675654577486\n",
      "Paciente: P05_T2, Dice: 0.659800063592918\n",
      "Paciente: P06_T1, Dice: 0.7019093330159332\n",
      "Paciente: P06_T2, Dice: 0.7688216603163517\n",
      "Paciente: P06_T3, Dice: 0.7981765853861967\n",
      "Paciente: P07_T2, Dice: 0.8744233079028852\n",
      "Paciente: P08_T2, Dice: 0.7010535639569615\n",
      "Paciente: P09_T2, Dice: 0.7703872797728488\n",
      "Paciente: P09_T3, Dice: 0.7205098011164051\n",
      "Paciente: P10_T1, Dice: 0.6978256719356234\n",
      "Paciente: P10_T2, Dice: 0.5660324497430613\n",
      "Paciente: P11_T2, Dice: 0.8298245593905449\n",
      "Paciente: P12_T1, Dice: 0.8285453283425533\n",
      "Paciente: P12_T3, Dice: 0.8543739011793425\n",
      "Paciente: P12_T4, Dice: 0.8492096400622166\n",
      "Paciente: P13_T2, Dice: 0.6823268490984584\n",
      "Paciente: P14_T1, Dice: 0.8812845721840858\n",
      "Paciente: P14_T3, Dice: 0.8787433396686207\n",
      "Paciente: P15_T1, Dice: 0.8655495442675821\n",
      "Paciente: P16_T1, Dice: 0.9038412338404944\n",
      "Paciente: P17_T1, Dice: 0.8004237134856257\n",
      "Paciente: P19_T1, Dice: 0.756390780210495\n",
      "Paciente: P19_T2, Dice: 0.7538428613633821\n",
      "Paciente: P19_T3, Dice: 0.742420622345173\n",
      "Paciente: P19_T4, Dice: 0.7660094985004627\n",
      "Paciente: P20_T1, Dice: 0.782894801009785\n",
      "Paciente: P20_T2, Dice: 0.7069690286210089\n",
      "Paciente: P20_T3, Dice: 0.723785532271546\n",
      "Paciente: P21_T1, Dice: 0.8355032333144636\n",
      "Paciente: P22_T2, Dice: 0.5837755390640461\n",
      "Paciente: P24_T1, Dice: 0.6519566676156088\n",
      "Paciente: P25_T1, Dice: 0.8384464369578795\n",
      "Paciente: P26_T1, Dice: 0.6595218511241855\n",
      "Paciente: P28_T1, Dice: 0.8077875646113446\n",
      "Paciente: P28_T2, Dice: 0.6553745904203617\n",
      "Paciente: P29_T1, Dice: 0.5697692787048944\n",
      "Paciente: P31_T1, Dice: 0.7176472715130358\n",
      "Paciente: P31_T2, Dice: 0.6973605175135713\n",
      "Paciente: P33_T1, Dice: 0.6528885572810065\n",
      "Paciente: P33_T2, Dice: 0.6001236227651437\n",
      "Paciente: P34_T1, Dice: 0.5322466632915717\n",
      "Paciente: P35_T1, Dice: 0.6945744599356796\n",
      "Paciente: P36_T1, Dice: 0.6804348423399709\n",
      "Paciente: P37_T1, Dice: 0.6655592107863137\n",
      "Paciente: P38_T1, Dice: 0.8118093119877757\n",
      "Paciente: P39_T1, Dice: 0.8738703946724082\n",
      "Paciente: P40_T1, Dice: 0.7534219904830961\n",
      "Paciente: P41_T1, Dice: 0.705612136784828\n",
      "Paciente: P42_T1, Dice: 0.8080460438222596\n",
      "Paciente: P43_T1, Dice: 0.7797726413065736\n",
      "Paciente: P45_T1, Dice: 0.7389292598448016\n",
      "Paciente: P46_T1, Dice: 0.6671548874371431\n",
      "Paciente: P48_T1, Dice: 0.5843842851393151\n",
      "Paciente: P49_T1, Dice: 0.8339670332092227\n",
      "Paciente: P49_T2, Dice: 0.6742440402282007\n",
      "Paciente: P50_T1, Dice: 0.6958096138286319\n",
      "Paciente: P50_T2, Dice: 0.7824288474565203\n",
      "Paciente: P51_T2, Dice: 0.7568317493706038\n",
      "Paciente: P52_T1, Dice: 0.6643898437984965\n",
      "Paciente: P53_T1, Dice: 0.616335664170258\n",
      "Paciente: P53_T2, Dice: 0.6711802933026444\n"
     ]
    }
   ],
   "source": [
    "model = model.to(device)\n",
    "model.eval()\n",
    "\n",
    "for idx, (images, masks) in enumerate(dataloader_test):\n",
    "    images = images.to(device)\n",
    "    masks = masks.to(device)\n",
    "    \n",
    "    with torch.no_grad():\n",
    "        outputs = model(images)\n",
    "        predictions = torch.sigmoid(outputs)\n",
    "        predictions = (predictions > 0.5).float()\n",
    "        masks = masks.long()\n",
    "        \n",
    "        if masks.sum() == 0 and predictions.sum() == 0:\n",
    "            dice = torch.tensor(1.0)\n",
    "        else:\n",
    "            dice = dice_metric(predictions, masks)\n",
    "\n",
    "        dice = dice.item()\n",
    "    \n",
    "    original = images.squeeze().cpu().numpy()\n",
    "    mascara = masks.squeeze().cpu().numpy()\n",
    "    prediccion = predictions.squeeze().cpu().numpy()\n",
    "\n",
    "    filename = lista_ficheros_cerebro_coronal_test[idx]\n",
    "    partes = os.path.basename(filename).split('_')\n",
    "    paciente = '_'.join(partes[:2])\n",
    "\n",
    "    if paciente in diccionario:\n",
    "        diccionario[paciente].append(prediccion)\n",
    "        dicc_dice[paciente].append(dice)\n",
    "    \n",
    "for paciente, dice_scores in dicc_dice.items():\n",
    "    dicc_dice[paciente] = np.mean(dice_scores)\n",
    "\n",
    "for paciente, dice_score in dicc_dice.items():\n",
    "    print(f'Paciente: {paciente}, Dice: {dice_score}')"
   ]
  },
  {
   "cell_type": "code",
   "execution_count": 30,
   "id": "de086da9-66ad-46d5-8bcc-0122177cb379",
   "metadata": {},
   "outputs": [
    {
     "name": "stdout",
     "output_type": "stream",
     "text": [
      "(182, 218, 182)\n",
      "(182, 218, 182)\n",
      "(182, 218, 182)\n",
      "(182, 218, 182)\n",
      "(182, 218, 182)\n",
      "(182, 218, 182)\n",
      "(182, 218, 182)\n",
      "(182, 218, 182)\n",
      "(182, 218, 182)\n",
      "(182, 218, 182)\n",
      "(182, 218, 182)\n",
      "(182, 218, 182)\n",
      "(182, 218, 182)\n",
      "(182, 218, 182)\n",
      "(182, 218, 182)\n",
      "(182, 218, 182)\n",
      "(182, 218, 182)\n",
      "(182, 218, 182)\n",
      "(182, 218, 182)\n",
      "(182, 218, 182)\n",
      "(182, 218, 182)\n",
      "(182, 218, 182)\n",
      "(182, 218, 182)\n",
      "(182, 218, 182)\n",
      "(182, 218, 182)\n",
      "(182, 218, 182)\n",
      "(182, 218, 182)\n",
      "(182, 218, 182)\n",
      "(182, 218, 182)\n",
      "(182, 218, 182)\n",
      "(182, 218, 182)\n",
      "(182, 218, 182)\n",
      "(182, 218, 182)\n",
      "(182, 218, 182)\n",
      "(182, 218, 182)\n",
      "(182, 218, 182)\n",
      "(182, 218, 182)\n",
      "(182, 218, 182)\n",
      "(182, 218, 182)\n",
      "(182, 218, 182)\n",
      "(182, 218, 182)\n",
      "(182, 218, 182)\n",
      "(182, 218, 182)\n",
      "(182, 218, 182)\n",
      "(182, 218, 182)\n",
      "(182, 218, 182)\n",
      "(182, 218, 182)\n",
      "(182, 218, 182)\n",
      "(182, 218, 182)\n",
      "(182, 218, 182)\n",
      "(182, 218, 182)\n",
      "(182, 218, 182)\n",
      "(182, 218, 182)\n",
      "(182, 218, 182)\n",
      "(182, 218, 182)\n",
      "(182, 218, 182)\n",
      "(182, 218, 182)\n",
      "(182, 218, 182)\n",
      "(182, 218, 182)\n",
      "(182, 218, 182)\n",
      "(182, 218, 182)\n",
      "(182, 218, 182)\n",
      "(182, 218, 182)\n",
      "(182, 218, 182)\n",
      "(182, 218, 182)\n",
      "(182, 218, 182)\n",
      "(182, 218, 182)\n",
      "(182, 218, 182)\n",
      "(182, 218, 182)\n",
      "(182, 218, 182)\n",
      "(182, 218, 182)\n",
      "(182, 218, 182)\n"
     ]
    }
   ],
   "source": [
    "carpeta = 'Datos/Mascara/'\n",
    "for paciente, imagenes in diccionario.items():\n",
    "\n",
    "    prueba = [f for f in os.listdir(carpeta) if paciente in f][0]\n",
    "    ruta = os.path.join(carpeta, prueba)\n",
    "    imagen_nifti = nib.load(ruta)\n",
    "    datos = imagen_nifti.get_fdata()\n",
    "\n",
    "    num_index = datos.shape[1]\n",
    "    num_añadir = porcentaje(num_index, 20)\n",
    "\n",
    "    original_depth, original_width = datos.shape[0], datos.shape[2]\n",
    "\n",
    "    imagenes_redimensionadas = np.zeros((num_index, original_depth, original_width))\n",
    "\n",
    "    for idx, img in enumerate(imagenes):\n",
    "        img_resized = resize(img, (original_depth, original_width), mode='constant', preserve_range=True)\n",
    "        img_resized = (img_resized > 0.5).astype(np.float32)\n",
    "        imagenes_redimensionadas[idx + num_añadir] = img_resized\n",
    "\n",
    "\n",
    "\n",
    "    pred_masks_np = np.stack(imagenes_redimensionadas, axis=1)\n",
    "    print(pred_masks_np.shape)\n",
    "\n",
    "    nifti_img = nib.Nifti1Image(pred_masks_np, np.eye(4))\n",
    "\n",
    "    carpeta_nifti = 'Prediccion/Unet/CoronalT'\n",
    "    if not os.path.exists(carpeta_nifti):\n",
    "        os.makedirs(carpeta_nifti)\n",
    "\n",
    "    nib.save(nifti_img, os.path.join(carpeta_nifti, f'{paciente}_prediccion_Coronal.nii.gz'))"
   ]
  },
  {
   "cell_type": "markdown",
   "id": "34041598-03b9-44f6-81d3-4922a80fbc68",
   "metadata": {},
   "source": [
    "Testeo sagital"
   ]
  },
  {
   "cell_type": "code",
   "execution_count": 31,
   "id": "563b4bad-2e5f-410b-804d-66f22a61e2b3",
   "metadata": {},
   "outputs": [],
   "source": [
    "model = smp.Unet(\n",
    "    encoder_name=\"resnet34\",\n",
    "    encoder_weights=\"imagenet\",\n",
    "    in_channels=1,\n",
    "    classes=1\n",
    ")"
   ]
  },
  {
   "cell_type": "code",
   "execution_count": 32,
   "id": "0060c669-ceac-4c38-a427-8a702f1b4a00",
   "metadata": {},
   "outputs": [
    {
     "name": "stdout",
     "output_type": "stream",
     "text": [
      "cuda\n"
     ]
    }
   ],
   "source": [
    "device = torch.device(\"cuda\" if torch.cuda.is_available() else \"cpu\")\n",
    "print(device)"
   ]
  },
  {
   "cell_type": "code",
   "execution_count": 33,
   "id": "7e870d22-bdd1-4cf6-a3a1-8cf45cfaeb41",
   "metadata": {},
   "outputs": [],
   "source": [
    "model = model.to(device)\n",
    "dice_metric = Dice(average='micro').to(device)"
   ]
  },
  {
   "cell_type": "code",
   "execution_count": 34,
   "id": "404100ad-23d9-4213-8e30-305a8995a0d2",
   "metadata": {},
   "outputs": [
    {
     "name": "stderr",
     "output_type": "stream",
     "text": [
      "/tmp/ipykernel_3932771/3274674503.py:1: FutureWarning: You are using `torch.load` with `weights_only=False` (the current default value), which uses the default pickle module implicitly. It is possible to construct malicious pickle data which will execute arbitrary code during unpickling (See https://github.com/pytorch/pytorch/blob/main/SECURITY.md#untrusted-models for more details). In a future release, the default value for `weights_only` will be flipped to `True`. This limits the functions that could be executed during unpickling. Arbitrary objects will no longer be allowed to be loaded via this mode unless they are explicitly allowlisted by the user via `torch.serialization.add_safe_globals`. We recommend you start setting `weights_only=True` for any use case where you don't have full control of the loaded file. Please open an issue on GitHub for any issues related to this experimental feature.\n",
      "  model.load_state_dict(torch.load(\"UNet_mejor_Sagital.pth\"))\n"
     ]
    },
    {
     "data": {
      "text/plain": [
       "<All keys matched successfully>"
      ]
     },
     "execution_count": 34,
     "metadata": {},
     "output_type": "execute_result"
    }
   ],
   "source": [
    "model.load_state_dict(torch.load(\"UNet_mejor_Sagital.pth\"))"
   ]
  },
  {
   "cell_type": "code",
   "execution_count": 35,
   "id": "6105076e-d5f9-49ae-88fd-c7cf69ddcf80",
   "metadata": {},
   "outputs": [
    {
     "name": "stdout",
     "output_type": "stream",
     "text": [
      "7920\n"
     ]
    }
   ],
   "source": [
    "carpeta = 'Resultados2/Cerebro/Sagital/Train/'\n",
    "lista_ficheros_cerebro_sagital_test = obtener_ficheros(carpeta)\n",
    "print(len(lista_ficheros_cerebro_sagital_test))"
   ]
  },
  {
   "cell_type": "code",
   "execution_count": 36,
   "id": "3f221081-6c81-4cc9-9098-288b990ad1dd",
   "metadata": {},
   "outputs": [
    {
     "name": "stdout",
     "output_type": "stream",
     "text": [
      "7920\n"
     ]
    }
   ],
   "source": [
    "carpeta = 'Resultados2/Mascara/Sagital/Train/'\n",
    "lista_ficheros_mascara_sagital_test = obtener_ficheros(carpeta)\n",
    "print(len(lista_ficheros_mascara_sagital_test))"
   ]
  },
  {
   "cell_type": "code",
   "execution_count": 37,
   "id": "53945aea-2970-4569-9103-9a84f24223b8",
   "metadata": {},
   "outputs": [],
   "source": [
    "test_dataset = Custom_Dataset(lista_ficheros_cerebro_sagital_test, lista_ficheros_mascara_sagital_test)\n",
    "dataloader_test = DataLoader(test_dataset, batch_size=1, shuffle=False)"
   ]
  },
  {
   "cell_type": "code",
   "execution_count": 38,
   "id": "68a524ac-9ecc-4d89-834e-7cc0da4f7335",
   "metadata": {},
   "outputs": [],
   "source": [
    "carpeta = 'Resultados2/Cerebro/Sagital/Train/'\n",
    "pruebas = crear_lista_pacientes_test(carpeta)\n",
    "diccionario = crear_diccionario_pruebas_test(pruebas)\n",
    "\n",
    "dicc_dice = crear_diccionario_pruebas_test(pruebas)"
   ]
  },
  {
   "cell_type": "code",
   "execution_count": 39,
   "id": "f467857e-8d19-4e0e-8850-37a103366727",
   "metadata": {},
   "outputs": [
    {
     "name": "stdout",
     "output_type": "stream",
     "text": [
      "Paciente: P01_T1, Dice: 0.881278816407377\n",
      "Paciente: P01_T2, Dice: 0.8580874735658819\n",
      "Paciente: P01_T3, Dice: 0.8638345098292286\n",
      "Paciente: P02_T1, Dice: 0.8694498991424388\n",
      "Paciente: P02_T4, Dice: 0.792356180738319\n",
      "Paciente: P03_T2, Dice: 0.7363888030702418\n",
      "Paciente: P03_T3, Dice: 0.7615154873241078\n",
      "Paciente: P03_T4, Dice: 0.5713857249441472\n",
      "Paciente: P04_T1, Dice: 0.844052083383907\n",
      "Paciente: P04_T2, Dice: 0.8417423611676151\n",
      "Paciente: P04_T3, Dice: 0.8556866439906033\n",
      "Paciente: P05_T1, Dice: 0.7962352292104201\n",
      "Paciente: P05_T2, Dice: 0.7609320997514508\n",
      "Paciente: P06_T1, Dice: 0.7169432069767605\n",
      "Paciente: P06_T2, Dice: 0.8147803517905149\n",
      "Paciente: P06_T3, Dice: 0.7626888832246715\n",
      "Paciente: P07_T2, Dice: 0.8357094379988583\n",
      "Paciente: P08_T2, Dice: 0.8246772603555159\n",
      "Paciente: P09_T2, Dice: 0.7817615586248311\n",
      "Paciente: P09_T3, Dice: 0.7758159996433691\n",
      "Paciente: P10_T1, Dice: 0.7174764703620564\n",
      "Paciente: P10_T2, Dice: 0.7292930510911074\n",
      "Paciente: P11_T2, Dice: 0.8370955277572979\n",
      "Paciente: P12_T1, Dice: 0.8138795985416932\n",
      "Paciente: P12_T3, Dice: 0.8129412781108509\n",
      "Paciente: P12_T4, Dice: 0.7955373165282336\n",
      "Paciente: P13_T2, Dice: 0.7576926025477323\n",
      "Paciente: P14_T1, Dice: 0.9164994922551242\n",
      "Paciente: P14_T3, Dice: 0.7468532342802394\n",
      "Paciente: P15_T1, Dice: 0.8286922612650828\n",
      "Paciente: P16_T1, Dice: 0.8983190269632773\n",
      "Paciente: P17_T1, Dice: 0.8307625901292671\n",
      "Paciente: P19_T1, Dice: 0.6708619837056506\n",
      "Paciente: P19_T2, Dice: 0.6933852002024651\n",
      "Paciente: P19_T3, Dice: 0.7027278328483755\n",
      "Paciente: P19_T4, Dice: 0.7913933681493456\n",
      "Paciente: P20_T1, Dice: 0.8273561269044876\n",
      "Paciente: P20_T2, Dice: 0.7726555342024023\n",
      "Paciente: P20_T3, Dice: 0.7976455188610337\n",
      "Paciente: P21_T1, Dice: 0.8965012756260958\n",
      "Paciente: P22_T2, Dice: 0.7031412812796506\n",
      "Paciente: P24_T1, Dice: 0.7011510197411884\n",
      "Paciente: P25_T1, Dice: 0.8801970979029482\n",
      "Paciente: P26_T1, Dice: 0.7445015183903955\n",
      "Paciente: P28_T1, Dice: 0.7928691853176464\n",
      "Paciente: P28_T2, Dice: 0.651711752299558\n",
      "Paciente: P29_T1, Dice: 0.5541937450793657\n",
      "Paciente: P31_T1, Dice: 0.7589969397945837\n",
      "Paciente: P31_T2, Dice: 0.8077569870786233\n",
      "Paciente: P33_T1, Dice: 0.637925218113444\n",
      "Paciente: P33_T2, Dice: 0.676147242703221\n",
      "Paciente: P34_T1, Dice: 0.6495869616215879\n",
      "Paciente: P35_T1, Dice: 0.7033827784386548\n",
      "Paciente: P36_T1, Dice: 0.6113874612884088\n",
      "Paciente: P37_T1, Dice: 0.6929037188941782\n",
      "Paciente: P38_T1, Dice: 0.7909853948788209\n",
      "Paciente: P39_T1, Dice: 0.8728610148484056\n",
      "Paciente: P40_T1, Dice: 0.807253031839024\n",
      "Paciente: P41_T1, Dice: 0.7234551150690426\n",
      "Paciente: P42_T1, Dice: 0.8267197993668642\n",
      "Paciente: P43_T1, Dice: 0.7844851049509916\n",
      "Paciente: P45_T1, Dice: 0.9272504112937233\n",
      "Paciente: P46_T1, Dice: 0.7015800925141031\n",
      "Paciente: P48_T1, Dice: 0.5870477432215756\n",
      "Paciente: P49_T1, Dice: 0.7608839658173647\n",
      "Paciente: P49_T2, Dice: 0.7496529175476594\n",
      "Paciente: P50_T1, Dice: 0.7185133969919248\n",
      "Paciente: P50_T2, Dice: 0.835793599486351\n",
      "Paciente: P51_T2, Dice: 0.8156970014626329\n",
      "Paciente: P52_T1, Dice: 0.7733532545918768\n",
      "Paciente: P53_T1, Dice: 0.68773299025541\n",
      "Paciente: P53_T2, Dice: 0.6929129981181839\n"
     ]
    }
   ],
   "source": [
    "model = model.to(device)\n",
    "model.eval()\n",
    "\n",
    "for idx, (images, masks) in enumerate(dataloader_test):\n",
    "    images = images.to(device)\n",
    "    masks = masks.to(device)\n",
    "    \n",
    "    with torch.no_grad():\n",
    "        outputs = model(images)\n",
    "        predictions = torch.sigmoid(outputs)\n",
    "        predictions = (predictions > 0.5).float()\n",
    "        masks = masks.long()\n",
    "        \n",
    "        if masks.sum() == 0 and predictions.sum() == 0:\n",
    "            dice = torch.tensor(1.0)\n",
    "        else:\n",
    "            dice = dice_metric(predictions, masks)\n",
    "\n",
    "        dice = dice.item()\n",
    "    \n",
    "    original = images.squeeze().cpu().numpy()\n",
    "    mascara = masks.squeeze().cpu().numpy()\n",
    "    prediccion = predictions.squeeze().cpu().numpy()\n",
    "\n",
    "    filename = lista_ficheros_cerebro_sagital_test[idx]\n",
    "    partes = os.path.basename(filename).split('_')\n",
    "    paciente = '_'.join(partes[:2])\n",
    "\n",
    "    if paciente in diccionario:\n",
    "        diccionario[paciente].append(prediccion)\n",
    "        dicc_dice[paciente].append(dice)\n",
    "    \n",
    "for paciente, dice_scores in dicc_dice.items():\n",
    "    dicc_dice[paciente] = np.mean(dice_scores)\n",
    "\n",
    "for paciente, dice_score in dicc_dice.items():\n",
    "    print(f'Paciente: {paciente}, Dice: {dice_score}')"
   ]
  },
  {
   "cell_type": "code",
   "execution_count": 40,
   "id": "eabf0863-eabb-4cdd-9dfe-15c647810f45",
   "metadata": {},
   "outputs": [
    {
     "name": "stdout",
     "output_type": "stream",
     "text": [
      "(182, 218, 182)\n",
      "(182, 218, 182)\n",
      "(182, 218, 182)\n",
      "(182, 218, 182)\n",
      "(182, 218, 182)\n",
      "(182, 218, 182)\n",
      "(182, 218, 182)\n",
      "(182, 218, 182)\n",
      "(182, 218, 182)\n",
      "(182, 218, 182)\n",
      "(182, 218, 182)\n",
      "(182, 218, 182)\n",
      "(182, 218, 182)\n",
      "(182, 218, 182)\n",
      "(182, 218, 182)\n",
      "(182, 218, 182)\n",
      "(182, 218, 182)\n",
      "(182, 218, 182)\n",
      "(182, 218, 182)\n",
      "(182, 218, 182)\n",
      "(182, 218, 182)\n",
      "(182, 218, 182)\n",
      "(182, 218, 182)\n",
      "(182, 218, 182)\n",
      "(182, 218, 182)\n",
      "(182, 218, 182)\n",
      "(182, 218, 182)\n",
      "(182, 218, 182)\n",
      "(182, 218, 182)\n",
      "(182, 218, 182)\n",
      "(182, 218, 182)\n",
      "(182, 218, 182)\n",
      "(182, 218, 182)\n",
      "(182, 218, 182)\n",
      "(182, 218, 182)\n",
      "(182, 218, 182)\n",
      "(182, 218, 182)\n",
      "(182, 218, 182)\n",
      "(182, 218, 182)\n",
      "(182, 218, 182)\n",
      "(182, 218, 182)\n",
      "(182, 218, 182)\n",
      "(182, 218, 182)\n",
      "(182, 218, 182)\n",
      "(182, 218, 182)\n",
      "(182, 218, 182)\n",
      "(182, 218, 182)\n",
      "(182, 218, 182)\n",
      "(182, 218, 182)\n",
      "(182, 218, 182)\n",
      "(182, 218, 182)\n",
      "(182, 218, 182)\n",
      "(182, 218, 182)\n",
      "(182, 218, 182)\n",
      "(182, 218, 182)\n",
      "(182, 218, 182)\n",
      "(182, 218, 182)\n",
      "(182, 218, 182)\n",
      "(182, 218, 182)\n",
      "(182, 218, 182)\n",
      "(182, 218, 182)\n",
      "(182, 218, 182)\n",
      "(182, 218, 182)\n",
      "(182, 218, 182)\n",
      "(182, 218, 182)\n",
      "(182, 218, 182)\n",
      "(182, 218, 182)\n",
      "(182, 218, 182)\n",
      "(182, 218, 182)\n",
      "(182, 218, 182)\n",
      "(182, 218, 182)\n",
      "(182, 218, 182)\n"
     ]
    }
   ],
   "source": [
    "carpeta = 'Datos/Mascara/'\n",
    "for paciente, imagenes in diccionario.items():\n",
    "\n",
    "    prueba = [f for f in os.listdir(carpeta) if paciente in f][0]\n",
    "    ruta = os.path.join(carpeta, prueba)\n",
    "    imagen_nifti = nib.load(ruta)\n",
    "    datos = imagen_nifti.get_fdata()\n",
    "\n",
    "    num_index = datos.shape[0]\n",
    "    num_añadir = porcentaje(num_index, 20)\n",
    "\n",
    "    original_height, original_depth = datos.shape[1], datos.shape[2]\n",
    "\n",
    "    imagenes_redimensionadas = np.zeros((num_index, original_height, original_depth))\n",
    "\n",
    "\n",
    "    for idx, img in enumerate(imagenes):\n",
    "        img_resized = resize(img, (original_height, original_depth), mode='constant', preserve_range=True)\n",
    "        img_resized = (img_resized > 0.5).astype(np.float32)\n",
    "        imagenes_redimensionadas[idx + num_añadir] = img_resized\n",
    "\n",
    "\n",
    "    pred_masks_np = np.stack(imagenes_redimensionadas, axis=0)\n",
    "    print(pred_masks_np.shape)\n",
    "\n",
    "    nifti_img = nib.Nifti1Image(pred_masks_np, np.eye(4))\n",
    "\n",
    "    carpeta_nifti = 'Prediccion/Unet/SagitalT'\n",
    "    if not os.path.exists(carpeta_nifti):\n",
    "        os.makedirs(carpeta_nifti)\n",
    "\n",
    "    nib.save(nifti_img, os.path.join(carpeta_nifti, f'{paciente}_prediccion_Sagital.nii.gz'))"
   ]
  },
  {
   "cell_type": "code",
   "execution_count": 2,
   "id": "8f7a92a5-8601-43eb-b591-b18770e69673",
   "metadata": {},
   "outputs": [],
   "source": [
    "def copiar_archivos_gz(origen, destino):\n",
    "    for fichero in os.listdir(origen):\n",
    "        if fichero.endswith('.gz'):\n",
    "            ruta_archivo_origen = os.path.join(origen, fichero)\n",
    "            ruta_archivo_destino = os.path.join(destino, fichero)\n",
    "            shutil.copy2(ruta_archivo_origen, ruta_archivo_destino)"
   ]
  },
  {
   "cell_type": "code",
   "execution_count": 3,
   "id": "a6d53147-be2e-4a3c-a37a-f9a33b1c544b",
   "metadata": {},
   "outputs": [],
   "source": [
    "origen = \"Prediccion/Unet/Axial/\"\n",
    "destino = \"DICE_EVAL\"\n",
    "copiar_archivos_gz(origen, destino)"
   ]
  },
  {
   "cell_type": "code",
   "execution_count": 41,
   "id": "61935e16-8e94-43d1-a7e3-67cf04778308",
   "metadata": {},
   "outputs": [],
   "source": [
    "def umbralizacion(input_dir1, input_dir2, input_dir3, output_dir):\n",
    "\n",
    "    os.makedirs(output_dir, exist_ok=True)\n",
    "\n",
    "    input_dirs = [input_dir1, input_dir2, input_dir3]\n",
    "    nifti_files = []\n",
    "    for dir in input_dirs:\n",
    "        nifti_files.extend([f for f in os.listdir(dir) if f.endswith(\".nii\") or f.endswith(\".nii.gz\")])\n",
    "\n",
    "    unicas = set(\"_\".join(f.split(\"_\")[:2]) for f in nifti_files)\n",
    "    \n",
    "    for cadena in unicas:\n",
    "        matching_files = [f for f in nifti_files if cadena in f]\n",
    "        voxel_data_list = []\n",
    "\n",
    "        for file in matching_files:\n",
    "            for dir in input_dirs:\n",
    "                if file in os.listdir(dir):\n",
    "                    filepath = os.path.join(dir, file)\n",
    "                    nifti_img = nib.load(filepath)\n",
    "                    voxel_data = nifti_img.get_fdata()\n",
    "                    voxel_data_list.append(voxel_data)\n",
    "                    break\n",
    "\n",
    "        suma_voxeles = np.sum(voxel_data_list, axis=0)\n",
    "\n",
    "        umbralizado = (suma_voxeles > 1).astype(np.float32)\n",
    "\n",
    "        umbralizado_nifti = nib.Nifti1Image(umbralizado, affine=nifti_img.affine, header=nifti_img.header)\n",
    "        umbralizado_filepath = os.path.join(output_dir, f\"{cadena}_prediccion_combinado.nii.gz\")\n",
    "        nib.save(umbralizado_nifti, umbralizado_filepath)"
   ]
  },
  {
   "cell_type": "code",
   "execution_count": 43,
   "id": "b98dd5e8-a121-44d2-b9aa-29ae34f7b9de",
   "metadata": {},
   "outputs": [],
   "source": [
    "input_dir1 = \"Prediccion/Unet/AxialT/\"\n",
    "input_dir2 = \"Prediccion/Unet/CoronalT/\"\n",
    "input_dir3 = \"Prediccion/Unet/SagitalT/\"\n",
    "output_dir = \"Prediccion/Unet/umbralizacion\"\n",
    "\n",
    "umbralizacion(input_dir1, input_dir2, input_dir3, output_dir)"
   ]
  },
  {
   "cell_type": "code",
   "execution_count": 7,
   "id": "c3bd6de4-7320-4e4e-9291-d7105d6f5115",
   "metadata": {},
   "outputs": [],
   "source": [
    "origen = \"Prediccion/Unet/nifti_umbralizacion/\"\n",
    "destino = \"DICE_EVAL\"\n",
    "copiar_archivos_gz(origen, destino)"
   ]
  },
  {
   "cell_type": "code",
   "execution_count": 44,
   "id": "647bb10b-7d3e-4351-bc2b-545d5cc475c3",
   "metadata": {},
   "outputs": [],
   "source": [
    "def votacion(input_dir1, input_dir2, input_dir3, output_dir):\n",
    "\n",
    "    os.makedirs(output_dir, exist_ok=True)\n",
    "\n",
    "    input_dirs = [input_dir1, input_dir2, input_dir3]\n",
    "    nifti_files = []\n",
    "    for dir in input_dirs:\n",
    "        nifti_files.extend([f for f in os.listdir(dir) if f.endswith(\".nii\") or f.endswith(\".nii.gz\")])\n",
    "\n",
    "    unicas = set(\"_\".join(f.split(\"_\")[:2]) for f in nifti_files)\n",
    "    \n",
    "    for cadena in unicas:\n",
    "        matching_files = [f for f in nifti_files if cadena in f]\n",
    "        voxel_data_list = []\n",
    "\n",
    "        for file in matching_files:\n",
    "            for dir in input_dirs:\n",
    "                if file in os.listdir(dir):\n",
    "                    filepath = os.path.join(dir, file)\n",
    "                    nifti_img = nib.load(filepath)\n",
    "                    voxel_data = nifti_img.get_fdata()\n",
    "                    voxel_data_list.append((voxel_data > 0).astype(int))\n",
    "                    break\n",
    "\n",
    "        suma_voxeles = np.sum(voxel_data_list, axis=0)\n",
    "\n",
    "        umbralizado = (suma_voxeles >= 2).astype(np.float32)\n",
    "\n",
    "        umbralizado_nifti = nib.Nifti1Image(umbralizado, affine=nifti_img.affine, header=nifti_img.header)\n",
    "        umbralizado_filepath = os.path.join(output_dir, f\"{cadena}_prediccion_combinado.nii.gz\")\n",
    "        nib.save(umbralizado_nifti, umbralizado_filepath)"
   ]
  },
  {
   "cell_type": "code",
   "execution_count": 45,
   "id": "308779e1-4907-4168-8856-4f95fe9332e4",
   "metadata": {},
   "outputs": [],
   "source": [
    "input_dir1 = \"Prediccion/Unet/AxialT/\"\n",
    "input_dir2 = \"Prediccion/Unet/CoronalT/\"\n",
    "input_dir3 = \"Prediccion/Unet/SagitalT/\"\n",
    "output_dir = \"Prediccion/Unet/votacion\"\n",
    "\n",
    "votacion(input_dir1, input_dir2, input_dir3, output_dir)"
   ]
  },
  {
   "cell_type": "code",
   "execution_count": 46,
   "id": "bd85edb3-f097-4629-bdce-a457d477e6d2",
   "metadata": {},
   "outputs": [],
   "source": [
    "def votacion_ponderada(input_dir1, input_dir2, input_dir3, output_dir, dice_scores):\n",
    "\n",
    "    os.makedirs(output_dir, exist_ok=True)\n",
    "    \n",
    "    input_dirs = [input_dir1, input_dir2, input_dir3]\n",
    "    nifti_files = []\n",
    "    for dir in input_dirs:\n",
    "        nifti_files.extend([f for f in os.listdir(dir) if f.endswith(\".nii\") or f.endswith(\".nii.gz\")])\n",
    "    \n",
    "    unicas = set(\"_\".join(f.split(\"_\")[:2]) for f in nifti_files)\n",
    "    \n",
    "    factor_escala = 3 / sum(dice_scores)\n",
    "    pesos = [d * factor_escala for d in dice_scores]\n",
    "    print(pesos)\n",
    "    for cadena in unicas:\n",
    "        matching_files = {dir: [f for f in os.listdir(dir) if cadena in f] for dir in input_dirs}\n",
    "        \n",
    "        voxel_data_list = []\n",
    "        \n",
    "        for i, dir in enumerate(input_dirs):\n",
    "            for file in matching_files[dir]:\n",
    "                filepath = os.path.join(dir, file)\n",
    "                nifti_img = nib.load(filepath)\n",
    "                voxel_data = nifti_img.get_fdata()\n",
    "                voxel_data_list.append((voxel_data > 0).astype(float) * pesos[i])\n",
    "        \n",
    "        suma_ponderada = np.sum(voxel_data_list, axis=0)\n",
    "        \n",
    "        umbralizado = (suma_ponderada >= 1.5).astype(np.float32)\n",
    "        \n",
    "        umbralizado_nifti = nib.Nifti1Image(umbralizado, affine=nifti_img.affine, header=nifti_img.header)\n",
    "        umbralizado_filepath = os.path.join(output_dir, f\"{cadena}_prediccion_combinado.nii.gz\")\n",
    "        nib.save(umbralizado_nifti, umbralizado_filepath)"
   ]
  },
  {
   "cell_type": "code",
   "execution_count": 47,
   "id": "7c41137e-f128-4440-8449-8694fc146032",
   "metadata": {},
   "outputs": [
    {
     "name": "stdout",
     "output_type": "stream",
     "text": [
      "[1.0063160265016908, 0.9938572885633777, 0.9998266849349314]\n"
     ]
    }
   ],
   "source": [
    "input_dir1 = \"Prediccion/Unet/AxialT/\"\n",
    "input_dir2 = \"Prediccion/Unet/CoronalT/\"\n",
    "input_dir3 = \"Prediccion/Unet/SagitalT/\"\n",
    "output_dir = \"Prediccion/Unet/votacion_ponderada\"\n",
    "dice_scores = [0.756752,0.747383,0.751872]\n",
    "\n",
    "votacion_ponderada(input_dir1, input_dir2, input_dir3, output_dir, dice_scores)"
   ]
  },
  {
   "cell_type": "code",
   "execution_count": 6,
   "id": "d54976f1-13a2-42f0-ac0a-5710152875af",
   "metadata": {},
   "outputs": [],
   "source": [
    "def umbralizacion_2D_3D(input_dir1, input_dir2, input_dir3, output_dir):\n",
    "    os.makedirs(output_dir, exist_ok=True)\n",
    "    \n",
    "    lista_axial = natsorted([f for f in os.listdir(input_dir1) if f.endswith(\".nii.gz\")])\n",
    "    lista_coronal = natsorted([f for f in os.listdir(input_dir2) if f.endswith(\".nii.gz\")])\n",
    "    lista_sagital = natsorted([f for f in os.listdir(input_dir3) if f.endswith(\".nii.gz\")])\n",
    "\n",
    "    print(len(lista_axial), len(lista_coronal), len(lista_sagital))\n",
    "    \n",
    "    for i in range(len(lista_axial)):\n",
    "        paciente = \"_\".join(lista_axial[i].split('_')[:2])\n",
    "        \n",
    "        ruta_axial = os.path.join(input_dir1, lista_axial[i])\n",
    "        ruta_coronal = os.path.join(input_dir2, lista_coronal[i])\n",
    "        ruta_sagital = os.path.join(input_dir3, lista_sagital[i])\n",
    "        \n",
    "        nifti_axial = nib.load(ruta_axial)\n",
    "        nifti_coronal = nib.load(ruta_coronal)\n",
    "        nifti_sagital = nib.load(ruta_sagital)\n",
    "        \n",
    "        voxel_data_list = [nifti_axial.get_fdata(), nifti_coronal.get_fdata(), nifti_sagital.get_fdata()]\n",
    "        \n",
    "        suma_voxeles = np.sum(voxel_data_list, axis=0)\n",
    "        \n",
    "        umbralizado = (suma_voxeles > 1).astype(np.float32)\n",
    "        \n",
    "        umbralizado_nifti = nib.Nifti1Image(umbralizado, affine=nifti_axial.affine, header=nifti_axial.header)\n",
    "        \n",
    "        output_filepath = os.path.join(output_dir, f\"{paciente}_combinado_PRED.nii.gz\")\n",
    "        nib.save(umbralizado_nifti, output_filepath)"
   ]
  },
  {
   "cell_type": "code",
   "execution_count": 7,
   "id": "b12280fe-1151-48a9-bea9-af3141b932a0",
   "metadata": {},
   "outputs": [
    {
     "name": "stdout",
     "output_type": "stream",
     "text": [
      "82 82 82\n"
     ]
    }
   ],
   "source": [
    "input1 = \"Prediccion/Unet/umbralizacion/\"\n",
    "input2 = \"Prediccion/Unet++/umbralizacion/\"\n",
    "input3 = \"nnUNet/nnUNet_raw/Dataset022_Esclerosis/predictions/\"\n",
    "output = \"Prediccion/umbralizacion_2D_3D\"\n",
    "umbralizacion_2D_3D(input1, input2, input3, output)"
   ]
  },
  {
   "cell_type": "code",
   "execution_count": null,
   "id": "4a9a30db-605a-4508-ae04-926025423016",
   "metadata": {},
   "outputs": [],
   "source": []
  }
 ],
 "metadata": {
  "kernelspec": {
   "display_name": "Python 3 (ipykernel)",
   "language": "python",
   "name": "python3"
  },
  "language_info": {
   "codemirror_mode": {
    "name": "ipython",
    "version": 3
   },
   "file_extension": ".py",
   "mimetype": "text/x-python",
   "name": "python",
   "nbconvert_exporter": "python",
   "pygments_lexer": "ipython3",
   "version": "3.12.7"
  }
 },
 "nbformat": 4,
 "nbformat_minor": 5
}
