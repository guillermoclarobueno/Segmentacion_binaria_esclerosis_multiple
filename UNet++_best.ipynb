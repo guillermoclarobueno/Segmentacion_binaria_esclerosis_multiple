{
 "cells": [
  {
   "cell_type": "code",
   "execution_count": 1,
   "id": "a6fca02b-b883-449a-9f7b-0d5094f9bc4a",
   "metadata": {},
   "outputs": [
    {
     "name": "stdout",
     "output_type": "stream",
     "text": [
      "Requirement already satisfied: albumentations in /opt/anaconda/miniconda3/envs/TFG/lib/python3.12/site-packages (1.4.22)\n",
      "Requirement already satisfied: numpy>=1.24.4 in /opt/anaconda/miniconda3/envs/TFG/lib/python3.12/site-packages (from albumentations) (2.0.0)\n",
      "Requirement already satisfied: scipy>=1.10.0 in /opt/anaconda/miniconda3/envs/TFG/lib/python3.12/site-packages (from albumentations) (1.14.1)\n",
      "Requirement already satisfied: PyYAML in /opt/anaconda/miniconda3/envs/TFG/lib/python3.12/site-packages (from albumentations) (6.0.2)\n",
      "Requirement already satisfied: pydantic>=2.9.2 in /opt/anaconda/miniconda3/envs/TFG/lib/python3.12/site-packages (from albumentations) (2.10.3)\n",
      "Requirement already satisfied: albucore==0.0.21 in /opt/anaconda/miniconda3/envs/TFG/lib/python3.12/site-packages (from albumentations) (0.0.21)\n",
      "Requirement already satisfied: eval-type-backport in /opt/anaconda/miniconda3/envs/TFG/lib/python3.12/site-packages (from albumentations) (0.2.0)\n",
      "Requirement already satisfied: opencv-python-headless>=4.9.0.80 in /opt/anaconda/miniconda3/envs/TFG/lib/python3.12/site-packages (from albumentations) (4.10.0.84)\n",
      "Requirement already satisfied: stringzilla>=3.10.4 in /opt/anaconda/miniconda3/envs/TFG/lib/python3.12/site-packages (from albucore==0.0.21->albumentations) (3.11.0)\n",
      "Requirement already satisfied: simsimd>=5.9.2 in /opt/anaconda/miniconda3/envs/TFG/lib/python3.12/site-packages (from albucore==0.0.21->albumentations) (6.2.1)\n",
      "Requirement already satisfied: annotated-types>=0.6.0 in /opt/anaconda/miniconda3/envs/TFG/lib/python3.12/site-packages (from pydantic>=2.9.2->albumentations) (0.7.0)\n",
      "Requirement already satisfied: pydantic-core==2.27.1 in /opt/anaconda/miniconda3/envs/TFG/lib/python3.12/site-packages (from pydantic>=2.9.2->albumentations) (2.27.1)\n",
      "Requirement already satisfied: typing-extensions>=4.12.2 in /opt/anaconda/miniconda3/envs/TFG/lib/python3.12/site-packages (from pydantic>=2.9.2->albumentations) (4.12.2)\n"
     ]
    }
   ],
   "source": [
    "#!pip install nibabel\n",
    "#!pip install nilearn\n",
    "#!pip install opencv-python\n",
    "#!pip3 install torch torchvision torchaudio --index-url https://download.pytorch.org/whl/cu118\n",
    "#!pip install segmentation-models-pytorch\n",
    "#!pip install imageio\n",
    "#!pip install matplotlib\n",
    "#!pip install torchmetrics\n",
    "#!pip install natsort\n",
    "!pip install albumentations"
   ]
  },
  {
   "cell_type": "code",
   "execution_count": 1,
   "id": "b971bb26-305b-446c-b5ed-1d0829a618d1",
   "metadata": {},
   "outputs": [
    {
     "name": "stderr",
     "output_type": "stream",
     "text": [
      "/opt/anaconda/miniconda3/envs/TFG/lib/python3.12/site-packages/albumentations/__init__.py:24: UserWarning: A new version of Albumentations is available: 2.0.3 (you have 1.4.22). Upgrade using: pip install -U albumentations. To disable automatic update checks, set the environment variable NO_ALBUMENTATIONS_UPDATE to 1.\n",
      "  check_for_updates()\n"
     ]
    }
   ],
   "source": [
    "import nibabel as nib\n",
    "import cv2\n",
    "import numpy as np\n",
    "import os\n",
    "import imageio.v2 as imageio\n",
    "import torch\n",
    "from torch.utils.data import Dataset\n",
    "from torch.utils.data import DataLoader\n",
    "import segmentation_models_pytorch as smp\n",
    "import torch.optim as optim\n",
    "import torch.nn as nn\n",
    "from sklearn.model_selection import train_test_split\n",
    "import shutil\n",
    "import matplotlib.pyplot as plt\n",
    "from torchmetrics.classification import Dice\n",
    "from natsort import natsorted\n",
    "import albumentations as A\n",
    "from skimage.transform import resize"
   ]
  },
  {
   "cell_type": "code",
   "execution_count": 2,
   "id": "91566eb7-a33a-4cbb-9f87-7706ab85f603",
   "metadata": {},
   "outputs": [],
   "source": [
    "def porcentaje(numero, porcentaje):\n",
    "    num = numero * (porcentaje/100)\n",
    "    return int(num)"
   ]
  },
  {
   "cell_type": "code",
   "execution_count": 3,
   "id": "224db027-4c76-41b5-a2a0-d069daa2b08a",
   "metadata": {},
   "outputs": [],
   "source": [
    "def obtener_ficheros(carpeta):\n",
    "    lista_ficheros = []\n",
    "    for archivo in os.listdir(carpeta):\n",
    "        ruta = os.path.join(carpeta, archivo)\n",
    "        if archivo.lower().endswith('.png'):\n",
    "            lista_ficheros.append(ruta)\n",
    "    return natsorted(lista_ficheros)"
   ]
  },
  {
   "cell_type": "code",
   "execution_count": 4,
   "id": "2a8715c5-a5db-4a53-b9f2-44a9b4710043",
   "metadata": {},
   "outputs": [],
   "source": [
    "class Custom_Dataset(Dataset):\n",
    "    def __init__(self, imagenes, mascaras, transform=None, argument=False):\n",
    "        self.imagenes = imagenes\n",
    "        self.mascaras = mascaras\n",
    "        self.transform = transform\n",
    "        self.argument = argument\n",
    "        \n",
    "    def __len__(self):\n",
    "        return len(self.imagenes)\n",
    "        \n",
    "    def __getitem__(self, idx):\n",
    "        img = imageio.imread(self.imagenes[idx])\n",
    "        mask = imageio.imread(self.mascaras[idx])\n",
    "\n",
    "        target_height = 224\n",
    "        target_width = 224\n",
    "\n",
    "        img = cv2.resize(img, (target_width, target_height), interpolation = cv2.INTER_AREA)\n",
    "        mask = cv2.resize(mask, (target_width, target_height), interpolation = cv2.INTER_NEAREST)\n",
    "        \n",
    "        img = img/255.0\n",
    "        mask = mask/255.0\n",
    "        \n",
    "        if self.argument:\n",
    "            transform = A.Compose([\n",
    "                A.ShiftScaleRotate(shift_limit=0.0625, scale_limit=0.1, rotate_limit=15, p=0.5),\n",
    "                A.RandomBrightnessContrast(brightness_limit=0.2, contrast_limit=0.2, p=0.5),\n",
    "                A.CLAHE(clip_limit=2.0, p=0.5)\n",
    "            ])\n",
    "\n",
    "            img_for_aug = (img * 255).astype(np.uint8)\n",
    "            mask_for_aug = (mask * 255).astype(np.uint8)\n",
    "\n",
    "            augmented = transform(image=img_for_aug, mask=mask_for_aug)\n",
    "\n",
    "            img = augmented['image'].astype(np.float32) / 255.0\n",
    "            mask = augmented['mask'].astype(np.float32) / 255.0\n",
    "\n",
    "        img = np.expand_dims(img, axis=-1)\n",
    "        mask = np.expand_dims(mask, axis=-1)\n",
    "        \n",
    "        img_tensor = torch.from_numpy(img)\n",
    "        img_tensor = img_tensor.permute(2, 0, 1).float()\n",
    "        mask_tensor = torch.from_numpy(mask)\n",
    "        mask_tensor = mask_tensor.permute(2, 0, 1).float()\n",
    "\n",
    "        return img_tensor, mask_tensor"
   ]
  },
  {
   "cell_type": "code",
   "execution_count": 5,
   "id": "97727472-96b2-41fe-8614-ee599be05269",
   "metadata": {},
   "outputs": [
    {
     "name": "stdout",
     "output_type": "stream",
     "text": [
      "7920\n"
     ]
    }
   ],
   "source": [
    "carpeta = 'Resultados2/Cerebro/Axial/'\n",
    "lista_ficheros_cerebro_axial = obtener_ficheros(carpeta)\n",
    "print(len(lista_ficheros_cerebro_axial))"
   ]
  },
  {
   "cell_type": "code",
   "execution_count": 6,
   "id": "34669603-4a00-4fc5-b83d-6e7f1cb3e781",
   "metadata": {},
   "outputs": [
    {
     "name": "stdout",
     "output_type": "stream",
     "text": [
      "7920\n"
     ]
    }
   ],
   "source": [
    "carpeta = 'Resultados2/Mascara/Axial/'\n",
    "lista_ficheros_mascara_axial = obtener_ficheros(carpeta)\n",
    "print(len(lista_ficheros_mascara_axial))"
   ]
  },
  {
   "cell_type": "code",
   "execution_count": 7,
   "id": "c522bd20-6a0a-4a5e-b225-bc03e8e725e3",
   "metadata": {},
   "outputs": [
    {
     "name": "stdout",
     "output_type": "stream",
     "text": [
      "1100\n"
     ]
    }
   ],
   "source": [
    "carpeta = 'Resultados2/Cerebro/Axial/Val/'\n",
    "lista_ficheros_cerebro_axial_val = obtener_ficheros(carpeta)\n",
    "print(len(lista_ficheros_cerebro_axial_val))"
   ]
  },
  {
   "cell_type": "code",
   "execution_count": 8,
   "id": "d9b059c2-1fcc-4d72-9948-3c199e0d2e92",
   "metadata": {},
   "outputs": [
    {
     "name": "stdout",
     "output_type": "stream",
     "text": [
      "1100\n"
     ]
    }
   ],
   "source": [
    "carpeta = 'Resultados2/Mascara/Axial/Val/'\n",
    "lista_ficheros_mascara_axial_val = obtener_ficheros(carpeta)\n",
    "print(len(lista_ficheros_mascara_axial_val))"
   ]
  },
  {
   "cell_type": "code",
   "execution_count": 9,
   "id": "18d144e4-3edf-4d31-b85d-fef1da610740",
   "metadata": {},
   "outputs": [],
   "source": [
    "train_dataset = Custom_Dataset(lista_ficheros_cerebro_axial,lista_ficheros_mascara_axial, argument=True)\n",
    "dataloader_train = DataLoader(train_dataset, batch_size=16, shuffle=True)"
   ]
  },
  {
   "cell_type": "code",
   "execution_count": 10,
   "id": "b1604180-1e60-4592-8d07-f8b4d0fa35d9",
   "metadata": {},
   "outputs": [],
   "source": [
    "val_dataset = Custom_Dataset(lista_ficheros_cerebro_axial_val,lista_ficheros_mascara_axial_val)\n",
    "dataloader_val = DataLoader(val_dataset, batch_size=16, shuffle=False)"
   ]
  },
  {
   "cell_type": "code",
   "execution_count": 11,
   "id": "f7c0d564-1e55-4a11-b692-1669bf06f218",
   "metadata": {},
   "outputs": [],
   "source": [
    "model = smp.UnetPlusPlus(\n",
    "    encoder_name=\"resnet34\",\n",
    "    encoder_weights=\"imagenet\",\n",
    "    in_channels=1,\n",
    "    classes=1\n",
    ")"
   ]
  },
  {
   "cell_type": "code",
   "execution_count": 12,
   "id": "75fa12d8-ec60-41e0-ac6b-8ee67332027c",
   "metadata": {},
   "outputs": [
    {
     "name": "stdout",
     "output_type": "stream",
     "text": [
      "cuda\n"
     ]
    }
   ],
   "source": [
    "device = torch.device(\"cuda\" if torch.cuda.is_available() else \"cpu\")\n",
    "print(device)"
   ]
  },
  {
   "cell_type": "code",
   "execution_count": 13,
   "id": "a9f0ebc0-91cb-4914-b15d-a584c9bb346a",
   "metadata": {},
   "outputs": [],
   "source": [
    "model = model.to(device)\n",
    "criterion = nn.BCEWithLogitsLoss()\n",
    "optimizer = optim.Adam(model.parameters(), lr=1e-4)\n",
    "dice_metric = Dice(average='micro').to(device)"
   ]
  },
  {
   "cell_type": "code",
   "execution_count": 14,
   "id": "6948f86e-78c2-4961-9937-8946500e66a2",
   "metadata": {},
   "outputs": [],
   "source": [
    "class EarlyStopping():\n",
    "    def __init__(self, paciencia=15, min_cambio=0.005):\n",
    "\n",
    "        self.paciencia = paciencia\n",
    "        self.min_cambio = min_cambio\n",
    "        self.best_metric = None\n",
    "        self.contador = 0\n",
    "        self.early_stop = False\n",
    "\n",
    "    def __call__(self, dato, model, path='guardado.pth'):\n",
    "        if self.best_metric is None:\n",
    "            self.best_metric = dato\n",
    "            torch.save(model.state_dict(), path)\n",
    "        elif (dato - self.best_metric) > self.min_cambio:\n",
    "            self.best_metric = dato\n",
    "            torch.save(model.state_dict(), path)\n",
    "            self.contador = 0\n",
    "        else:\n",
    "            self.contador += 1\n",
    "            print(f\"Contador earlystopping: {self.contador} sobre {self.paciencia}\")\n",
    "            if self.contador >= self.paciencia:\n",
    "                self.early_stop = True"
   ]
  },
  {
   "cell_type": "code",
   "execution_count": 15,
   "id": "8113c990-94ac-4750-b92d-abd289dc57a7",
   "metadata": {},
   "outputs": [
    {
     "name": "stdout",
     "output_type": "stream",
     "text": [
      "Epoch [1/200], Loss: 0.18551275695514197, Dice: 0.05528908502116489\n",
      "Validation Loss: 0.068498145788908, Validation Dice: 0.5592803226588159\n",
      "Epoch [2/200], Loss: 0.04271417172493959, Dice: 0.633981221462741\n",
      "Validation Loss: 0.02447782216620618, Validation Dice: 0.6428214811955034\n",
      "Epoch [3/200], Loss: 0.018289934570966948, Dice: 0.7180949092513383\n",
      "Validation Loss: 0.012066071151175362, Validation Dice: 0.658196448409201\n",
      "Epoch [4/200], Loss: 0.010371507560326294, Dice: 0.7551874790528808\n",
      "Validation Loss: 0.007738625529505636, Validation Dice: 0.6576557623549782\n",
      "Contador earlystopping: 1 sobre 15\n",
      "Epoch [5/200], Loss: 0.00704578421351434, Dice: 0.7689554770787557\n",
      "Validation Loss: 0.005370266873902385, Validation Dice: 0.6640831911624274\n",
      "Epoch [6/200], Loss: 0.0053708704197873375, Dice: 0.7831489838735022\n",
      "Validation Loss: 0.004289888348295421, Validation Dice: 0.6923452363167282\n",
      "Epoch [7/200], Loss: 0.004368601833479573, Dice: 0.7917932686179575\n",
      "Validation Loss: 0.0038285741356430926, Validation Dice: 0.6908786667129565\n",
      "Contador earlystopping: 1 sobre 15\n",
      "Epoch [8/200], Loss: 0.003711124943484637, Dice: 0.8017343736658192\n",
      "Validation Loss: 0.0032243079175173803, Validation Dice: 0.6931372696493306\n",
      "Contador earlystopping: 2 sobre 15\n",
      "Epoch [9/200], Loss: 0.0032713337474493216, Dice: 0.8100603515451604\n",
      "Validation Loss: 0.0029698282858167868, Validation Dice: 0.697079607528513\n",
      "Contador earlystopping: 3 sobre 15\n",
      "Epoch [10/200], Loss: 0.00295429799019011, Dice: 0.8140574481752184\n",
      "Validation Loss: 0.0028287679854564476, Validation Dice: 0.6862847995438167\n",
      "Contador earlystopping: 4 sobre 15\n",
      "Epoch [11/200], Loss: 0.0027805712600850094, Dice: 0.8186457620726691\n",
      "Validation Loss: 0.0030768418092402103, Validation Dice: 0.6988329894105108\n",
      "Epoch [12/200], Loss: 0.0026002876781576283, Dice: 0.8207876063356496\n",
      "Validation Loss: 0.002690559155240223, Validation Dice: 0.706391724302312\n",
      "Epoch [13/200], Loss: 0.0024473980298463367, Dice: 0.8291686580638693\n",
      "Validation Loss: 0.00288160159012161, Validation Dice: 0.6970680425638683\n",
      "Contador earlystopping: 1 sobre 15\n",
      "Epoch [14/200], Loss: 0.002397251575291533, Dice: 0.8276759722016075\n",
      "Validation Loss: 0.0027999599252074986, Validation Dice: 0.6970183581343271\n",
      "Contador earlystopping: 2 sobre 15\n",
      "Epoch [15/200], Loss: 0.0023046369092877615, Dice: 0.8322918716103139\n",
      "Validation Loss: 0.0025088639560398524, Validation Dice: 0.7056433792813155\n",
      "Contador earlystopping: 3 sobre 15\n",
      "Epoch [16/200], Loss: 0.0022199391743116495, Dice: 0.8363479115746238\n",
      "Validation Loss: 0.0024351138816437806, Validation Dice: 0.677402119308312\n",
      "Contador earlystopping: 4 sobre 15\n",
      "Epoch [17/200], Loss: 0.0020913559867003274, Dice: 0.8454751235066038\n",
      "Validation Loss: 0.002543771235492465, Validation Dice: 0.6815970252180283\n",
      "Contador earlystopping: 5 sobre 15\n",
      "Epoch [18/200], Loss: 0.0020396043654681757, Dice: 0.8452464731052668\n",
      "Validation Loss: 0.0027455622729958386, Validation Dice: 0.6966513127292695\n",
      "Contador earlystopping: 6 sobre 15\n",
      "Epoch [19/200], Loss: 0.0019827186129399285, Dice: 0.8488023071578055\n",
      "Validation Loss: 0.002495978112046546, Validation Dice: 0.6937943596251147\n",
      "Contador earlystopping: 7 sobre 15\n",
      "Epoch [20/200], Loss: 0.0019458831099774501, Dice: 0.8497918408326428\n",
      "Validation Loss: 0.0025236707424219408, Validation Dice: 0.6925486766065106\n",
      "Contador earlystopping: 8 sobre 15\n",
      "Epoch [21/200], Loss: 0.0019219782194616556, Dice: 0.8513764663176103\n",
      "Validation Loss: 0.002693305592823679, Validation Dice: 0.6900919271697141\n",
      "Contador earlystopping: 9 sobre 15\n",
      "Epoch [22/200], Loss: 0.0018370096532350426, Dice: 0.8566044371537488\n",
      "Validation Loss: 0.002815618730259619, Validation Dice: 0.6985083656584627\n",
      "Contador earlystopping: 10 sobre 15\n",
      "Epoch [23/200], Loss: 0.0018720561770176646, Dice: 0.8543447386134755\n",
      "Validation Loss: 0.0025896372491210377, Validation Dice: 0.6828932157866117\n",
      "Contador earlystopping: 11 sobre 15\n",
      "Epoch [24/200], Loss: 0.0017780663083998881, Dice: 0.8603421788022976\n",
      "Validation Loss: 0.002791356506125906, Validation Dice: 0.6991033900353679\n",
      "Contador earlystopping: 12 sobre 15\n",
      "Epoch [25/200], Loss: 0.0017327850691579057, Dice: 0.8653982020387746\n",
      "Validation Loss: 0.0028945750903047788, Validation Dice: 0.6978821599117034\n",
      "Contador earlystopping: 13 sobre 15\n",
      "Epoch [26/200], Loss: 0.0017488713530268557, Dice: 0.8635670047817808\n",
      "Validation Loss: 0.0025802450404032993, Validation Dice: 0.68365951361931\n",
      "Contador earlystopping: 14 sobre 15\n",
      "Epoch [27/200], Loss: 0.0017131601619614157, Dice: 0.8671221448917582\n",
      "Validation Loss: 0.0031978005458768166, Validation Dice: 0.6958844707907595\n",
      "Contador earlystopping: 15 sobre 15\n",
      "Early stopping\n"
     ]
    }
   ],
   "source": [
    "perdidas_train = []\n",
    "perdidas_val = []\n",
    "dice_train = []\n",
    "dice_val = []\n",
    "num_epochs = 200\n",
    "stop = EarlyStopping(paciencia=15, min_cambio=0.005)\n",
    "\n",
    "for epoch in range(num_epochs):\n",
    "    model.train()\n",
    "    running_loss = 0.0\n",
    "    running_dice = 0.0\n",
    "    \n",
    "    for images, masks in dataloader_train:\n",
    "        images = images.to(device)\n",
    "        masks = masks.to(device)\n",
    "\n",
    "        outputs = model(images)\n",
    "        loss = criterion(outputs, masks)\n",
    "\n",
    "        optimizer.zero_grad()\n",
    "        loss.backward()\n",
    "        optimizer.step()\n",
    "\n",
    "        running_loss += loss.item()\n",
    "\n",
    "        predictions = torch.sigmoid(outputs)\n",
    "        masks = masks.long()\n",
    "        \n",
    "        dice = dice_metric(predictions, masks)\n",
    "        \n",
    "        running_dice += dice.item()\n",
    "\n",
    "    perdida = running_loss/len(dataloader_train)\n",
    "    perdidas_train.append(perdida)\n",
    "\n",
    "    fiabilidad = running_dice/len(dataloader_train)\n",
    "    dice_train.append(fiabilidad)\n",
    "    \n",
    "    print(f'Epoch [{epoch+1}/{num_epochs}], Loss: {perdida}, Dice: {fiabilidad}')\n",
    "\n",
    "    model.eval()\n",
    "    val_loss = 0.0\n",
    "    val_dice = 0.0\n",
    "    \n",
    "    with torch.no_grad():\n",
    "        for images, masks in dataloader_val:\n",
    "            images = images.to(device)\n",
    "            masks = masks.to(device)\n",
    "            \n",
    "            outputs = model(images)\n",
    "            loss = criterion(outputs, masks)\n",
    "            \n",
    "            val_loss += loss.item()\n",
    "\n",
    "            predictions = torch.sigmoid(outputs)\n",
    "            predictions = (predictions > 0.5).float()\n",
    "            masks = masks.long()\n",
    "          \n",
    "            batch_dice = 0.0\n",
    "            for i in range(images.size(0)):\n",
    "                if masks[i].sum() == 0 and predictions[i].sum() == 0:\n",
    "                    dice = torch.tensor(1.0)\n",
    "                else:\n",
    "                    dice = dice_metric(predictions[i], masks[i])\n",
    "    \n",
    "                batch_dice += dice.item()\n",
    "            \n",
    "            batch_dice_media = batch_dice / images.size(0)\n",
    "            val_dice += batch_dice_media\n",
    "    \n",
    "    perdida = val_loss/len(dataloader_val)\n",
    "    perdidas_val.append(perdida)\n",
    "\n",
    "    fiabilidad = val_dice/len(dataloader_val)\n",
    "    dice_val.append(fiabilidad)\n",
    "    \n",
    "    print(f'Validation Loss: {perdida}, Validation Dice: {fiabilidad}')\n",
    "\n",
    "    stop(fiabilidad, model, path='UNet++_mejor_Axial.pth')\n",
    "    if stop.early_stop:\n",
    "        print(\"Early stopping\")\n",
    "        break"
   ]
  },
  {
   "cell_type": "markdown",
   "id": "4e6ba076-acdc-4681-bd62-1da8e01974b5",
   "metadata": {},
   "source": [
    "Coronal"
   ]
  },
  {
   "cell_type": "code",
   "execution_count": 16,
   "id": "8ed13049-5ac2-4a4c-bb23-39d59b181728",
   "metadata": {},
   "outputs": [
    {
     "name": "stdout",
     "output_type": "stream",
     "text": [
      "9504\n"
     ]
    }
   ],
   "source": [
    "carpeta = 'Resultados2/Cerebro/Coronal/'\n",
    "lista_ficheros_cerebro_coronal = obtener_ficheros(carpeta)\n",
    "print(len(lista_ficheros_cerebro_coronal))"
   ]
  },
  {
   "cell_type": "code",
   "execution_count": 17,
   "id": "c6f6aab6-20a4-4dc0-8337-e2ea11649ca8",
   "metadata": {},
   "outputs": [
    {
     "name": "stdout",
     "output_type": "stream",
     "text": [
      "9504\n"
     ]
    }
   ],
   "source": [
    "carpeta = 'Resultados2/Mascara/Coronal/'\n",
    "lista_ficheros_mascara_coronal = obtener_ficheros(carpeta)\n",
    "print(len(lista_ficheros_mascara_coronal))"
   ]
  },
  {
   "cell_type": "code",
   "execution_count": 18,
   "id": "27ec9381-a16d-4a4d-b48a-6e6f60b8e1f8",
   "metadata": {},
   "outputs": [
    {
     "name": "stdout",
     "output_type": "stream",
     "text": [
      "1320\n"
     ]
    }
   ],
   "source": [
    "carpeta = 'Resultados2/Cerebro/Coronal/Val/'\n",
    "lista_ficheros_cerebro_coronal_val = obtener_ficheros(carpeta)\n",
    "print(len(lista_ficheros_cerebro_coronal_val))"
   ]
  },
  {
   "cell_type": "code",
   "execution_count": 19,
   "id": "48e8be00-8943-4f07-abe9-979437c19b72",
   "metadata": {},
   "outputs": [
    {
     "name": "stdout",
     "output_type": "stream",
     "text": [
      "1320\n"
     ]
    }
   ],
   "source": [
    "carpeta = 'Resultados2/Mascara/Coronal/Val/'\n",
    "lista_ficheros_mascara_coronal_val = obtener_ficheros(carpeta)\n",
    "print(len(lista_ficheros_mascara_coronal_val))"
   ]
  },
  {
   "cell_type": "code",
   "execution_count": 20,
   "id": "e2c5d316-c2a7-460d-bb98-53efd6c1bdac",
   "metadata": {},
   "outputs": [],
   "source": [
    "train_dataset = Custom_Dataset(lista_ficheros_cerebro_coronal,lista_ficheros_mascara_coronal, argument=True)\n",
    "dataloader_train = DataLoader(train_dataset, batch_size=16, shuffle=True)"
   ]
  },
  {
   "cell_type": "code",
   "execution_count": 21,
   "id": "9ab1ea9e-b41a-4991-bcbb-b3d02edf4ddb",
   "metadata": {},
   "outputs": [],
   "source": [
    "val_dataset = Custom_Dataset(lista_ficheros_cerebro_coronal_val,lista_ficheros_mascara_coronal_val)\n",
    "dataloader_val = DataLoader(val_dataset, batch_size=16, shuffle=False)"
   ]
  },
  {
   "cell_type": "code",
   "execution_count": 22,
   "id": "4cdc4ae4-5666-4fc8-9369-0e947d515293",
   "metadata": {},
   "outputs": [],
   "source": [
    "model = smp.UnetPlusPlus(\n",
    "    encoder_name=\"resnet34\",\n",
    "    encoder_weights=\"imagenet\",\n",
    "    in_channels=1,\n",
    "    classes=1\n",
    ")"
   ]
  },
  {
   "cell_type": "code",
   "execution_count": 23,
   "id": "1fcb2dbe-0aca-44c6-b6b0-d010aff1d37f",
   "metadata": {},
   "outputs": [
    {
     "name": "stdout",
     "output_type": "stream",
     "text": [
      "cuda\n"
     ]
    }
   ],
   "source": [
    "device = torch.device(\"cuda\" if torch.cuda.is_available() else \"cpu\")\n",
    "print(device)"
   ]
  },
  {
   "cell_type": "code",
   "execution_count": 24,
   "id": "8aed1127-e568-4e0d-8609-0a84419988fd",
   "metadata": {},
   "outputs": [],
   "source": [
    "model = model.to(device)\n",
    "criterion = nn.BCEWithLogitsLoss()\n",
    "optimizer = optim.Adam(model.parameters(), lr=1e-4)\n",
    "dice_metric = Dice(average='micro').to(device)"
   ]
  },
  {
   "cell_type": "code",
   "execution_count": 25,
   "id": "ec722684-d0a7-430c-9b54-ef487536aba9",
   "metadata": {},
   "outputs": [
    {
     "name": "stdout",
     "output_type": "stream",
     "text": [
      "Epoch [1/200], Loss: 0.19882993943211608, Dice: 0.4799593657444103\n",
      "Validation Loss: 0.07637125837156572, Validation Dice: 0.6048868394313739\n",
      "Epoch [2/200], Loss: 0.04546027647814265, Dice: 0.7289735053223793\n",
      "Validation Loss: 0.025361827249268453, Validation Dice: 0.6172056285487713\n",
      "Epoch [3/200], Loss: 0.0178106258582537, Dice: 0.7596769022821176\n",
      "Validation Loss: 0.012048879694418016, Validation Dice: 0.6375912591500814\n",
      "Epoch [4/200], Loss: 0.009968816670385324, Dice: 0.7734102873689799\n",
      "Validation Loss: 0.00732212136667895, Validation Dice: 0.6668506147317499\n",
      "Epoch [5/200], Loss: 0.006705661007965153, Dice: 0.7880878220704268\n",
      "Validation Loss: 0.0054982516673359886, Validation Dice: 0.6525403044161285\n",
      "Contador earlystopping: 1 sobre 15\n",
      "Epoch [6/200], Loss: 0.005072144009894143, Dice: 0.7953285936153296\n",
      "Validation Loss: 0.004224569662979029, Validation Dice: 0.6548329461730613\n",
      "Contador earlystopping: 2 sobre 15\n",
      "Epoch [7/200], Loss: 0.0040952607860744806, Dice: 0.8046204644421535\n",
      "Validation Loss: 0.003581036328259541, Validation Dice: 0.6770858146076326\n",
      "Epoch [8/200], Loss: 0.0034976832416560816, Dice: 0.8104597398327658\n",
      "Validation Loss: 0.0031942603976398438, Validation Dice: 0.6778065782932408\n",
      "Contador earlystopping: 1 sobre 15\n",
      "Epoch [9/200], Loss: 0.0030757359996115043, Dice: 0.8165568485605195\n",
      "Validation Loss: 0.0030139449903887347, Validation Dice: 0.6735745946671926\n",
      "Contador earlystopping: 2 sobre 15\n",
      "Epoch [10/200], Loss: 0.002816453627044153, Dice: 0.821553371871762\n",
      "Validation Loss: 0.0029196345562210687, Validation Dice: 0.6706097697956959\n",
      "Contador earlystopping: 3 sobre 15\n",
      "Epoch [11/200], Loss: 0.002602255198910914, Dice: 0.8258956481109966\n",
      "Validation Loss: 0.002930959500793188, Validation Dice: 0.6807336119895644\n",
      "Contador earlystopping: 4 sobre 15\n",
      "Epoch [12/200], Loss: 0.0024434626909907316, Dice: 0.8315012717889214\n",
      "Validation Loss: 0.0027557087156441936, Validation Dice: 0.6820197639852223\n",
      "Contador earlystopping: 5 sobre 15\n",
      "Epoch [13/200], Loss: 0.0023103946014793484, Dice: 0.8369888082297161\n",
      "Validation Loss: 0.0028913088610286386, Validation Dice: 0.6788120731726817\n",
      "Contador earlystopping: 6 sobre 15\n",
      "Epoch [14/200], Loss: 0.002214082689588946, Dice: 0.839918823856296\n",
      "Validation Loss: 0.0028520678467200003, Validation Dice: 0.6787355908736901\n",
      "Contador earlystopping: 7 sobre 15\n",
      "Epoch [15/200], Loss: 0.002124744275371585, Dice: 0.8438449174868138\n",
      "Validation Loss: 0.00275656044537886, Validation Dice: 0.686908558799313\n",
      "Epoch [16/200], Loss: 0.0020950829572207374, Dice: 0.8446801400144494\n",
      "Validation Loss: 0.002874998036345624, Validation Dice: 0.6795219632387386\n",
      "Contador earlystopping: 1 sobre 15\n",
      "Epoch [17/200], Loss: 0.001991600342943907, Dice: 0.8507808758955612\n",
      "Validation Loss: 0.00286746168290321, Validation Dice: 0.6806160281692822\n",
      "Contador earlystopping: 2 sobre 15\n",
      "Epoch [18/200], Loss: 0.001941804744217777, Dice: 0.8529153264532185\n",
      "Validation Loss: 0.002937556862056533, Validation Dice: 0.6706519549016852\n",
      "Contador earlystopping: 3 sobre 15\n",
      "Epoch [19/200], Loss: 0.0019065037388150716, Dice: 0.8553716224251371\n",
      "Validation Loss: 0.0031727887674726416, Validation Dice: 0.6719271409976105\n",
      "Contador earlystopping: 4 sobre 15\n",
      "Epoch [20/200], Loss: 0.0018773120896567776, Dice: 0.8559357728620972\n",
      "Validation Loss: 0.0031383753821062847, Validation Dice: 0.6733151935012899\n",
      "Contador earlystopping: 5 sobre 15\n",
      "Epoch [21/200], Loss: 0.0018368293055974461, Dice: 0.8597619917858329\n",
      "Validation Loss: 0.003104471171815043, Validation Dice: 0.6754947541792126\n",
      "Contador earlystopping: 6 sobre 15\n",
      "Epoch [22/200], Loss: 0.0018037016959570862, Dice: 0.8618446784188049\n",
      "Validation Loss: 0.003347346730349152, Validation Dice: 0.6775260140336713\n",
      "Contador earlystopping: 7 sobre 15\n",
      "Epoch [23/200], Loss: 0.0017561156935527332, Dice: 0.8657543318038837\n",
      "Validation Loss: 0.003207341174835077, Validation Dice: 0.6808485146415566\n",
      "Contador earlystopping: 8 sobre 15\n",
      "Epoch [24/200], Loss: 0.001733854971296916, Dice: 0.8671815717461133\n",
      "Validation Loss: 0.003217943568267719, Validation Dice: 0.6845352040598146\n",
      "Contador earlystopping: 9 sobre 15\n",
      "Epoch [25/200], Loss: 0.001740656756566248, Dice: 0.8660827742682563\n",
      "Validation Loss: 0.003294769319839372, Validation Dice: 0.6859263494338683\n",
      "Contador earlystopping: 10 sobre 15\n",
      "Epoch [26/200], Loss: 0.0016666148687902562, Dice: 0.8715207519555332\n",
      "Validation Loss: 0.003201302846357439, Validation Dice: 0.6872881263612309\n",
      "Contador earlystopping: 11 sobre 15\n",
      "Epoch [27/200], Loss: 0.0016453130582174261, Dice: 0.8732366666247949\n",
      "Validation Loss: 0.0033079055524001845, Validation Dice: 0.6767858372417739\n",
      "Contador earlystopping: 12 sobre 15\n",
      "Epoch [28/200], Loss: 0.001611177825754248, Dice: 0.8765535645613365\n",
      "Validation Loss: 0.00350962938220361, Validation Dice: 0.6776054826430438\n",
      "Contador earlystopping: 13 sobre 15\n",
      "Epoch [29/200], Loss: 0.001596094172862233, Dice: 0.8770859560581169\n",
      "Validation Loss: 0.0034863522808662706, Validation Dice: 0.6758000959140102\n",
      "Contador earlystopping: 14 sobre 15\n",
      "Epoch [30/200], Loss: 0.0015828068455742352, Dice: 0.8782662839600535\n",
      "Validation Loss: 0.0034560532140359835, Validation Dice: 0.6763507288330829\n",
      "Contador earlystopping: 15 sobre 15\n",
      "Early stopping\n"
     ]
    }
   ],
   "source": [
    "perdidas_train = []\n",
    "perdidas_val = []\n",
    "dice_train = []\n",
    "dice_val = []\n",
    "num_epochs = 200\n",
    "stop = EarlyStopping(paciencia=15, min_cambio=0.005)\n",
    "\n",
    "for epoch in range(num_epochs):\n",
    "    model.train()\n",
    "    running_loss = 0.0\n",
    "    running_dice = 0.0\n",
    "    \n",
    "    for images, masks in dataloader_train:\n",
    "        images = images.to(device)\n",
    "        masks = masks.to(device)\n",
    "\n",
    "        outputs = model(images)\n",
    "        loss = criterion(outputs, masks)\n",
    "\n",
    "        optimizer.zero_grad()\n",
    "        loss.backward()\n",
    "        optimizer.step()\n",
    "\n",
    "        running_loss += loss.item()\n",
    "\n",
    "        predictions = torch.sigmoid(outputs)\n",
    "        masks = masks.long()\n",
    "        \n",
    "        dice = dice_metric(predictions, masks)\n",
    "        \n",
    "        running_dice += dice.item()\n",
    "\n",
    "    perdida = running_loss/len(dataloader_train)\n",
    "    perdidas_train.append(perdida)\n",
    "\n",
    "    fiabilidad = running_dice/len(dataloader_train)\n",
    "    dice_train.append(fiabilidad)\n",
    "    \n",
    "    print(f'Epoch [{epoch+1}/{num_epochs}], Loss: {perdida}, Dice: {fiabilidad}')\n",
    "\n",
    "    model.eval()\n",
    "    val_loss = 0.0\n",
    "    val_dice = 0.0\n",
    "    \n",
    "    with torch.no_grad():\n",
    "        for images, masks in dataloader_val:\n",
    "            images = images.to(device)\n",
    "            masks = masks.to(device)\n",
    "            \n",
    "            outputs = model(images)\n",
    "            loss = criterion(outputs, masks)\n",
    "            \n",
    "            val_loss += loss.item()\n",
    "\n",
    "            predictions = torch.sigmoid(outputs)\n",
    "            predictions = (predictions > 0.5).float()\n",
    "            masks = masks.long()\n",
    "          \n",
    "            batch_dice = 0.0\n",
    "            for i in range(images.size(0)):\n",
    "                if masks[i].sum() == 0 and predictions[i].sum() == 0:\n",
    "                    dice = torch.tensor(1.0)\n",
    "                else:\n",
    "                    dice = dice_metric(predictions[i], masks[i])\n",
    "    \n",
    "                batch_dice += dice.item()\n",
    "            \n",
    "            batch_dice_media = batch_dice / images.size(0)\n",
    "            val_dice += batch_dice_media\n",
    "    \n",
    "    perdida = val_loss/len(dataloader_val)\n",
    "    perdidas_val.append(perdida)\n",
    "\n",
    "    fiabilidad = val_dice/len(dataloader_val)\n",
    "    dice_val.append(fiabilidad)\n",
    "    \n",
    "    print(f'Validation Loss: {perdida}, Validation Dice: {fiabilidad}')\n",
    "\n",
    "    stop(fiabilidad, model, path='UNet++_mejor_Coronal.pth')\n",
    "    if stop.early_stop:\n",
    "        print(\"Early stopping\")\n",
    "        break"
   ]
  },
  {
   "cell_type": "markdown",
   "id": "40ce875e-5d36-4ec9-98ce-ffd1f46ac4cb",
   "metadata": {},
   "source": [
    "Sagital"
   ]
  },
  {
   "cell_type": "code",
   "execution_count": 26,
   "id": "81e299a3-6504-43af-8b5b-e3af56853047",
   "metadata": {},
   "outputs": [
    {
     "name": "stdout",
     "output_type": "stream",
     "text": [
      "7920\n"
     ]
    }
   ],
   "source": [
    "carpeta = 'Resultados2/Cerebro/Sagital/'\n",
    "lista_ficheros_cerebro_sagital = obtener_ficheros(carpeta)\n",
    "print(len(lista_ficheros_cerebro_sagital))"
   ]
  },
  {
   "cell_type": "code",
   "execution_count": 27,
   "id": "6fe8b428-f301-43ce-a021-d6200b8ab1a6",
   "metadata": {},
   "outputs": [
    {
     "name": "stdout",
     "output_type": "stream",
     "text": [
      "7920\n"
     ]
    }
   ],
   "source": [
    "carpeta = 'Resultados2/Mascara/Sagital/'\n",
    "lista_ficheros_mascara_sagital = obtener_ficheros(carpeta)\n",
    "print(len(lista_ficheros_mascara_sagital))"
   ]
  },
  {
   "cell_type": "code",
   "execution_count": 28,
   "id": "7ae08caa-43d3-43b6-a99d-838a61af81c7",
   "metadata": {},
   "outputs": [
    {
     "name": "stdout",
     "output_type": "stream",
     "text": [
      "1100\n"
     ]
    }
   ],
   "source": [
    "carpeta = 'Resultados2/Cerebro/Sagital/Val/'\n",
    "lista_ficheros_cerebro_sagital_val = obtener_ficheros(carpeta)\n",
    "print(len(lista_ficheros_cerebro_sagital_val))"
   ]
  },
  {
   "cell_type": "code",
   "execution_count": 29,
   "id": "b6ea6e59-c685-4a33-b457-72a0e60668d7",
   "metadata": {},
   "outputs": [
    {
     "name": "stdout",
     "output_type": "stream",
     "text": [
      "1100\n"
     ]
    }
   ],
   "source": [
    "carpeta = 'Resultados2/Mascara/Sagital/Val/'\n",
    "lista_ficheros_mascara_sagital_val = obtener_ficheros(carpeta)\n",
    "print(len(lista_ficheros_mascara_sagital_val))"
   ]
  },
  {
   "cell_type": "code",
   "execution_count": 30,
   "id": "938eb364-fe39-47db-9839-29935fc42c8c",
   "metadata": {},
   "outputs": [],
   "source": [
    "train_dataset = Custom_Dataset(lista_ficheros_cerebro_sagital,lista_ficheros_mascara_sagital, argument=True)\n",
    "dataloader_train = DataLoader(train_dataset, batch_size=16, shuffle=True)"
   ]
  },
  {
   "cell_type": "code",
   "execution_count": 31,
   "id": "d6dbcd4b-dc14-41fc-b9c2-1dd3cb318036",
   "metadata": {},
   "outputs": [],
   "source": [
    "val_dataset = Custom_Dataset(lista_ficheros_cerebro_sagital_val,lista_ficheros_mascara_sagital_val)\n",
    "dataloader_val = DataLoader(val_dataset, batch_size=16, shuffle=False)"
   ]
  },
  {
   "cell_type": "code",
   "execution_count": 32,
   "id": "5126487e-41c8-4bef-8d78-763c858215ea",
   "metadata": {},
   "outputs": [],
   "source": [
    "model = smp.UnetPlusPlus(\n",
    "    encoder_name=\"resnet34\",\n",
    "    encoder_weights=\"imagenet\",\n",
    "    in_channels=1,\n",
    "    classes=1\n",
    ")"
   ]
  },
  {
   "cell_type": "code",
   "execution_count": 33,
   "id": "909dd1df-7e2f-4a5c-84e8-bbd533e0531c",
   "metadata": {},
   "outputs": [
    {
     "name": "stdout",
     "output_type": "stream",
     "text": [
      "cuda\n"
     ]
    }
   ],
   "source": [
    "device = torch.device(\"cuda\" if torch.cuda.is_available() else \"cpu\")\n",
    "print(device)"
   ]
  },
  {
   "cell_type": "code",
   "execution_count": 34,
   "id": "8a964720-68d7-45f4-b28c-f82f2048eda8",
   "metadata": {},
   "outputs": [],
   "source": [
    "model = model.to(device)\n",
    "criterion = nn.BCEWithLogitsLoss()\n",
    "optimizer = optim.Adam(model.parameters(), lr=1e-4)\n",
    "dice_metric = Dice(average='micro').to(device)"
   ]
  },
  {
   "cell_type": "code",
   "execution_count": 35,
   "id": "550e1918-42f4-4060-a0dc-c89100a8fcae",
   "metadata": {},
   "outputs": [
    {
     "name": "stdout",
     "output_type": "stream",
     "text": [
      "Epoch [1/200], Loss: 0.2599256355955143, Dice: 0.23188754436436504\n",
      "Validation Loss: 0.09589832254509995, Validation Dice: 0.5185002544962302\n",
      "Epoch [2/200], Loss: 0.060041269870719526, Dice: 0.618037567265106\n",
      "Validation Loss: 0.03556923697824064, Validation Dice: 0.5842343607008039\n",
      "Epoch [3/200], Loss: 0.025851073612769445, Dice: 0.7149953687431836\n",
      "Validation Loss: 0.017944242238350536, Validation Dice: 0.6369788815154344\n",
      "Epoch [4/200], Loss: 0.014630949175493284, Dice: 0.7472448227381465\n",
      "Validation Loss: 0.01128815626050683, Validation Dice: 0.6172968458608108\n",
      "Contador earlystopping: 1 sobre 15\n",
      "Epoch [5/200], Loss: 0.009758290012526994, Dice: 0.7670067600529603\n",
      "Validation Loss: 0.007451651455915492, Validation Dice: 0.6735805277690148\n",
      "Epoch [6/200], Loss: 0.007166865693800377, Dice: 0.7756671909732048\n",
      "Validation Loss: 0.0061071344138379545, Validation Dice: 0.6734876984467163\n",
      "Contador earlystopping: 1 sobre 15\n",
      "Epoch [7/200], Loss: 0.005807606726790769, Dice: 0.7793158796098497\n",
      "Validation Loss: 0.005049089739180129, Validation Dice: 0.6832996799727532\n",
      "Epoch [8/200], Loss: 0.004665553562267862, Dice: 0.7921523772104822\n",
      "Validation Loss: 0.004158831002406668, Validation Dice: 0.6793706254192272\n",
      "Contador earlystopping: 1 sobre 15\n",
      "Epoch [9/200], Loss: 0.003972731037723898, Dice: 0.8030441482861836\n",
      "Validation Loss: 0.0037192715638978543, Validation Dice: 0.6844596851117692\n",
      "Contador earlystopping: 2 sobre 15\n",
      "Epoch [10/200], Loss: 0.0034683779213633952, Dice: 0.8095624334884413\n",
      "Validation Loss: 0.003394015007686086, Validation Dice: 0.6946605651567416\n",
      "Epoch [11/200], Loss: 0.0031868058633096894, Dice: 0.8132661202941278\n",
      "Validation Loss: 0.003416965820192211, Validation Dice: 0.6854336186039941\n",
      "Contador earlystopping: 1 sobre 15\n",
      "Epoch [12/200], Loss: 0.002923283684820012, Dice: 0.8184935737137843\n",
      "Validation Loss: 0.0027789029544151886, Validation Dice: 0.6930979910590078\n",
      "Contador earlystopping: 2 sobre 15\n",
      "Epoch [13/200], Loss: 0.0027057360229787953, Dice: 0.8210373689429928\n",
      "Validation Loss: 0.0029665718624449296, Validation Dice: 0.6987540871905982\n",
      "Contador earlystopping: 3 sobre 15\n",
      "Epoch [14/200], Loss: 0.0025189577140892396, Dice: 0.829119432935811\n",
      "Validation Loss: 0.0029370606618771412, Validation Dice: 0.6913295573971666\n",
      "Contador earlystopping: 4 sobre 15\n",
      "Epoch [15/200], Loss: 0.0024085351496445713, Dice: 0.8319359386810149\n",
      "Validation Loss: 0.0028172660063516914, Validation Dice: 0.6932809868746478\n",
      "Contador earlystopping: 5 sobre 15\n",
      "Epoch [16/200], Loss: 0.0022598833758195845, Dice: 0.8393466307659342\n",
      "Validation Loss: 0.0031176423462043663, Validation Dice: 0.6927439043453584\n",
      "Contador earlystopping: 6 sobre 15\n",
      "Epoch [17/200], Loss: 0.0022269139049875767, Dice: 0.8385261031112285\n",
      "Validation Loss: 0.0026091751497006044, Validation Dice: 0.6823393940477934\n",
      "Contador earlystopping: 7 sobre 15\n",
      "Epoch [18/200], Loss: 0.002157388953668432, Dice: 0.840042881291322\n",
      "Validation Loss: 0.002835126724359883, Validation Dice: 0.6986769322232244\n",
      "Contador earlystopping: 8 sobre 15\n",
      "Epoch [19/200], Loss: 0.0020402328451069995, Dice: 0.8476873268984785\n",
      "Validation Loss: 0.0028492286185518014, Validation Dice: 0.6995155613302536\n",
      "Contador earlystopping: 9 sobre 15\n",
      "Epoch [20/200], Loss: 0.0020035618392872916, Dice: 0.849847390796199\n",
      "Validation Loss: 0.0029290550516199564, Validation Dice: 0.6794113665447988\n",
      "Contador earlystopping: 10 sobre 15\n",
      "Epoch [21/200], Loss: 0.001936539343435957, Dice: 0.8545810251524955\n",
      "Validation Loss: 0.002836523011417054, Validation Dice: 0.6875352518239896\n",
      "Contador earlystopping: 11 sobre 15\n",
      "Epoch [22/200], Loss: 0.0018907417397419312, Dice: 0.8556970454225636\n",
      "Validation Loss: 0.0029243102571986064, Validation Dice: 0.7014128929105304\n",
      "Epoch [23/200], Loss: 0.0018550254453345192, Dice: 0.8571125066641605\n",
      "Validation Loss: 0.0030343866907798288, Validation Dice: 0.696672824214793\n",
      "Contador earlystopping: 1 sobre 15\n",
      "Epoch [24/200], Loss: 0.0018414340178350532, Dice: 0.8591596378220452\n",
      "Validation Loss: 0.003090943790559085, Validation Dice: 0.6940690940549679\n",
      "Contador earlystopping: 2 sobre 15\n",
      "Epoch [25/200], Loss: 0.0017668038975880151, Dice: 0.8620922218669544\n",
      "Validation Loss: 0.002962744066689334, Validation Dice: 0.6936815386685287\n",
      "Contador earlystopping: 3 sobre 15\n",
      "Epoch [26/200], Loss: 0.0017589056736794348, Dice: 0.8641504423786895\n",
      "Validation Loss: 0.0029791874097930345, Validation Dice: 0.6990908389384656\n",
      "Contador earlystopping: 4 sobre 15\n",
      "Epoch [27/200], Loss: 0.0017198613206291515, Dice: 0.8664524128942779\n",
      "Validation Loss: 0.003061443610865841, Validation Dice: 0.6959713003311333\n",
      "Contador earlystopping: 5 sobre 15\n",
      "Epoch [28/200], Loss: 0.0016924931206787476, Dice: 0.8683678753448255\n",
      "Validation Loss: 0.0029734680074727585, Validation Dice: 0.6992479390329749\n",
      "Contador earlystopping: 6 sobre 15\n",
      "Epoch [29/200], Loss: 0.0016716418946585195, Dice: 0.8702645015234899\n",
      "Validation Loss: 0.003135321525451877, Validation Dice: 0.6921508646309196\n",
      "Contador earlystopping: 7 sobre 15\n",
      "Epoch [30/200], Loss: 0.0016288516265716441, Dice: 0.872318915766899\n",
      "Validation Loss: 0.0031794832868228327, Validation Dice: 0.6972764236481347\n",
      "Contador earlystopping: 8 sobre 15\n",
      "Epoch [31/200], Loss: 0.0016209694703880962, Dice: 0.8723766411193693\n",
      "Validation Loss: 0.0032881428181600063, Validation Dice: 0.6929212738489867\n",
      "Contador earlystopping: 9 sobre 15\n",
      "Epoch [32/200], Loss: 0.001604185806942464, Dice: 0.8752509870914498\n",
      "Validation Loss: 0.0031473529920566616, Validation Dice: 0.696333250535904\n",
      "Contador earlystopping: 10 sobre 15\n",
      "Epoch [33/200], Loss: 0.0015655440458853852, Dice: 0.8767455504398153\n",
      "Validation Loss: 0.0034964505552968635, Validation Dice: 0.7002229150806459\n",
      "Contador earlystopping: 11 sobre 15\n",
      "Epoch [34/200], Loss: 0.0015529216100776927, Dice: 0.8773152291172682\n",
      "Validation Loss: 0.003266374158118302, Validation Dice: 0.6948047527292033\n",
      "Contador earlystopping: 12 sobre 15\n",
      "Epoch [35/200], Loss: 0.0015231464662579725, Dice: 0.8819195844910361\n",
      "Validation Loss: 0.0034740526605647588, Validation Dice: 0.6998856991716742\n",
      "Contador earlystopping: 13 sobre 15\n",
      "Epoch [36/200], Loss: 0.00152606633668201, Dice: 0.8800830973519219\n",
      "Validation Loss: 0.0032302935499277396, Validation Dice: 0.6855472648158616\n",
      "Contador earlystopping: 14 sobre 15\n",
      "Epoch [37/200], Loss: 0.0015205009464724837, Dice: 0.8809131636764064\n",
      "Validation Loss: 0.0034213032147857557, Validation Dice: 0.6856295428250619\n",
      "Contador earlystopping: 15 sobre 15\n",
      "Early stopping\n"
     ]
    }
   ],
   "source": [
    "perdidas_train = []\n",
    "perdidas_val = []\n",
    "dice_train = []\n",
    "dice_val = []\n",
    "num_epochs = 200\n",
    "stop = EarlyStopping(paciencia=15, min_cambio=0.005)\n",
    "\n",
    "for epoch in range(num_epochs):\n",
    "    model.train()\n",
    "    running_loss = 0.0\n",
    "    running_dice = 0.0\n",
    "    \n",
    "    for images, masks in dataloader_train:\n",
    "        images = images.to(device)\n",
    "        masks = masks.to(device)\n",
    "\n",
    "        outputs = model(images)\n",
    "        loss = criterion(outputs, masks)\n",
    "\n",
    "        optimizer.zero_grad()\n",
    "        loss.backward()\n",
    "        optimizer.step()\n",
    "\n",
    "        running_loss += loss.item()\n",
    "\n",
    "        predictions = torch.sigmoid(outputs)\n",
    "        masks = masks.long()\n",
    "        \n",
    "        dice = dice_metric(predictions, masks)\n",
    "        \n",
    "        running_dice += dice.item()\n",
    "\n",
    "    perdida = running_loss/len(dataloader_train)\n",
    "    perdidas_train.append(perdida)\n",
    "\n",
    "    fiabilidad = running_dice/len(dataloader_train)\n",
    "    dice_train.append(fiabilidad)\n",
    "    \n",
    "    print(f'Epoch [{epoch+1}/{num_epochs}], Loss: {perdida}, Dice: {fiabilidad}')\n",
    "\n",
    "    model.eval()\n",
    "    val_loss = 0.0\n",
    "    val_dice = 0.0\n",
    "    \n",
    "    with torch.no_grad():\n",
    "        for images, masks in dataloader_val:\n",
    "            images = images.to(device)\n",
    "            masks = masks.to(device)\n",
    "            \n",
    "            outputs = model(images)\n",
    "            loss = criterion(outputs, masks)\n",
    "            \n",
    "            val_loss += loss.item()\n",
    "\n",
    "            predictions = torch.sigmoid(outputs)\n",
    "            predictions = (predictions > 0.5).float()\n",
    "            masks = masks.long()\n",
    "          \n",
    "            batch_dice = 0.0\n",
    "            for i in range(images.size(0)):\n",
    "                if masks[i].sum() == 0 and predictions[i].sum() == 0:\n",
    "                    dice = torch.tensor(1.0)\n",
    "                else:\n",
    "                    dice = dice_metric(predictions[i], masks[i])\n",
    "    \n",
    "                batch_dice += dice.item()\n",
    "            \n",
    "            batch_dice_media = batch_dice / images.size(0)\n",
    "            val_dice += batch_dice_media\n",
    "    \n",
    "    perdida = val_loss/len(dataloader_val)\n",
    "    perdidas_val.append(perdida)\n",
    "\n",
    "    fiabilidad = val_dice/len(dataloader_val)\n",
    "    dice_val.append(fiabilidad)\n",
    "    \n",
    "    print(f'Validation Loss: {perdida}, Validation Dice: {fiabilidad}')\n",
    "\n",
    "    stop(fiabilidad, model, path='UNet++_mejor_Sagital.pth')\n",
    "    if stop.early_stop:\n",
    "        print(\"Early stopping\")\n",
    "        break"
   ]
  },
  {
   "cell_type": "markdown",
   "id": "526fd37d-d1c5-4317-a629-096f56365b79",
   "metadata": {},
   "source": [
    "Testeo axial"
   ]
  },
  {
   "cell_type": "code",
   "execution_count": 5,
   "id": "b8774f3a-4ffe-4fed-a5a2-de75c7df2eb7",
   "metadata": {},
   "outputs": [],
   "source": [
    "def crear_lista_pacientes_test(carpeta):\n",
    "    pruebas = []\n",
    "    for foto in os.listdir(carpeta):\n",
    "        partes = foto.split('_')\n",
    "        paciente = '_'.join(partes[:2])\n",
    "        if paciente not in pruebas:\n",
    "            pruebas.append(paciente)\n",
    "    return natsorted(pruebas)"
   ]
  },
  {
   "cell_type": "code",
   "execution_count": 6,
   "id": "bd0420ff-ba02-46f4-8dd7-9e2d65d0be2e",
   "metadata": {},
   "outputs": [],
   "source": [
    "def crear_diccionario_pruebas_test(pruebas):\n",
    "    return {clave: [] for clave in pruebas}"
   ]
  },
  {
   "cell_type": "code",
   "execution_count": 7,
   "id": "9d7725f2-1074-4286-aa12-4d020ef85ce2",
   "metadata": {},
   "outputs": [],
   "source": [
    "model = smp.UnetPlusPlus(\n",
    "    encoder_name=\"resnet34\",\n",
    "    encoder_weights=\"imagenet\",\n",
    "    in_channels=1,\n",
    "    classes=1\n",
    ")"
   ]
  },
  {
   "cell_type": "code",
   "execution_count": 8,
   "id": "38104e3b-3b92-4f67-a395-d8ab0884af84",
   "metadata": {},
   "outputs": [
    {
     "name": "stdout",
     "output_type": "stream",
     "text": [
      "cuda\n"
     ]
    }
   ],
   "source": [
    "device = torch.device(\"cuda\" if torch.cuda.is_available() else \"cpu\")\n",
    "print(device)"
   ]
  },
  {
   "cell_type": "code",
   "execution_count": 9,
   "id": "d5809dbd-191a-452e-9966-5001f882217e",
   "metadata": {},
   "outputs": [],
   "source": [
    "model = model.to(device)\n",
    "dice_metric = Dice(average='micro').to(device)"
   ]
  },
  {
   "cell_type": "code",
   "execution_count": 10,
   "id": "bdd7d8d8-55d1-44f2-b149-b671d631b424",
   "metadata": {},
   "outputs": [
    {
     "name": "stderr",
     "output_type": "stream",
     "text": [
      "/tmp/ipykernel_124518/1383974660.py:1: FutureWarning: You are using `torch.load` with `weights_only=False` (the current default value), which uses the default pickle module implicitly. It is possible to construct malicious pickle data which will execute arbitrary code during unpickling (See https://github.com/pytorch/pytorch/blob/main/SECURITY.md#untrusted-models for more details). In a future release, the default value for `weights_only` will be flipped to `True`. This limits the functions that could be executed during unpickling. Arbitrary objects will no longer be allowed to be loaded via this mode unless they are explicitly allowlisted by the user via `torch.serialization.add_safe_globals`. We recommend you start setting `weights_only=True` for any use case where you don't have full control of the loaded file. Please open an issue on GitHub for any issues related to this experimental feature.\n",
      "  model.load_state_dict(torch.load(\"UNet++_mejor_Axial.pth\"))\n"
     ]
    },
    {
     "data": {
      "text/plain": [
       "<All keys matched successfully>"
      ]
     },
     "execution_count": 10,
     "metadata": {},
     "output_type": "execute_result"
    }
   ],
   "source": [
    "model.load_state_dict(torch.load(\"UNet++_mejor_Axial.pth\"))"
   ]
  },
  {
   "cell_type": "code",
   "execution_count": 11,
   "id": "7ea123e0-c61a-4a9c-bf51-7cd607df7e6a",
   "metadata": {},
   "outputs": [
    {
     "name": "stdout",
     "output_type": "stream",
     "text": [
      "7920\n"
     ]
    }
   ],
   "source": [
    "carpeta = 'Resultados2/Cerebro/Axial/Train/'\n",
    "lista_ficheros_cerebro_axial_test = obtener_ficheros(carpeta)\n",
    "print(len(lista_ficheros_cerebro_axial_test))"
   ]
  },
  {
   "cell_type": "code",
   "execution_count": 12,
   "id": "2b6fb01c-2154-46a7-bd60-26acbf7ce217",
   "metadata": {},
   "outputs": [
    {
     "name": "stdout",
     "output_type": "stream",
     "text": [
      "7920\n"
     ]
    }
   ],
   "source": [
    "carpeta = 'Resultados2/Mascara/Axial/Train/'\n",
    "lista_ficheros_mascara_axial_test = obtener_ficheros(carpeta)\n",
    "print(len(lista_ficheros_mascara_axial_test))"
   ]
  },
  {
   "cell_type": "code",
   "execution_count": 13,
   "id": "a1fbc340-5e05-42b6-ac1d-71f03dd9d388",
   "metadata": {},
   "outputs": [],
   "source": [
    "test_dataset = Custom_Dataset(lista_ficheros_cerebro_axial_test, lista_ficheros_mascara_axial_test)\n",
    "dataloader_test = DataLoader(test_dataset, batch_size=1, shuffle=False)"
   ]
  },
  {
   "cell_type": "code",
   "execution_count": 14,
   "id": "53955104-e2a6-402c-9519-40ec82cc9aa4",
   "metadata": {},
   "outputs": [],
   "source": [
    "carpeta = 'Resultados2/Cerebro/Axial/Train/'\n",
    "pruebas = crear_lista_pacientes_test(carpeta)\n",
    "diccionario = crear_diccionario_pruebas_test(pruebas)\n",
    "\n",
    "dicc_dice = crear_diccionario_pruebas_test(pruebas)"
   ]
  },
  {
   "cell_type": "code",
   "execution_count": 15,
   "id": "ba6e002f-afd9-49fc-9d35-40bf5c46b342",
   "metadata": {},
   "outputs": [
    {
     "name": "stdout",
     "output_type": "stream",
     "text": [
      "Paciente: P01_T1, Dice: 0.8453110216693445\n",
      "Paciente: P01_T2, Dice: 0.8766674368896268\n",
      "Paciente: P01_T3, Dice: 0.8670611959966746\n",
      "Paciente: P02_T1, Dice: 0.9284899339079857\n",
      "Paciente: P02_T4, Dice: 0.9036338865756989\n",
      "Paciente: P03_T2, Dice: 0.8016547436741266\n",
      "Paciente: P03_T3, Dice: 0.7305170657959852\n",
      "Paciente: P03_T4, Dice: 0.82818185524507\n",
      "Paciente: P04_T1, Dice: 0.8744450173594734\n",
      "Paciente: P04_T2, Dice: 0.7870685119520534\n",
      "Paciente: P04_T3, Dice: 0.842849757454612\n",
      "Paciente: P05_T1, Dice: 0.7124398116361012\n",
      "Paciente: P05_T2, Dice: 0.8177843057973818\n",
      "Paciente: P06_T1, Dice: 0.7784419444474306\n",
      "Paciente: P06_T2, Dice: 0.802127819982442\n",
      "Paciente: P06_T3, Dice: 0.8291117765686729\n",
      "Paciente: P07_T2, Dice: 0.8522535199468786\n",
      "Paciente: P08_T2, Dice: 0.788074712997133\n",
      "Paciente: P09_T2, Dice: 0.7955000178380446\n",
      "Paciente: P09_T3, Dice: 0.8455659465356307\n",
      "Paciente: P10_T1, Dice: 0.7757848670536821\n",
      "Paciente: P10_T2, Dice: 0.7320057616315104\n",
      "Paciente: P11_T2, Dice: 0.879057497327978\n",
      "Paciente: P12_T1, Dice: 0.7981994621455669\n",
      "Paciente: P12_T3, Dice: 0.8447369223291223\n",
      "Paciente: P12_T4, Dice: 0.8329868958754973\n",
      "Paciente: P13_T2, Dice: 0.7878035617145625\n",
      "Paciente: P14_T1, Dice: 0.8794477080756967\n",
      "Paciente: P14_T3, Dice: 0.8369378886439583\n",
      "Paciente: P15_T1, Dice: 0.9351454187523235\n",
      "Paciente: P16_T1, Dice: 0.917784421281381\n",
      "Paciente: P17_T1, Dice: 0.8248920549045909\n",
      "Paciente: P19_T1, Dice: 0.7341318257830359\n",
      "Paciente: P19_T2, Dice: 0.6999071784994819\n",
      "Paciente: P19_T3, Dice: 0.7563552185893059\n",
      "Paciente: P19_T4, Dice: 0.8183413871309974\n",
      "Paciente: P20_T1, Dice: 0.7761477175084027\n",
      "Paciente: P20_T2, Dice: 0.7784639859741385\n",
      "Paciente: P20_T3, Dice: 0.820935855941339\n",
      "Paciente: P21_T1, Dice: 0.8963721649213271\n",
      "Paciente: P22_T2, Dice: 0.7969461836598136\n",
      "Paciente: P24_T1, Dice: 0.7792106903412125\n",
      "Paciente: P25_T1, Dice: 0.9138327333060178\n",
      "Paciente: P26_T1, Dice: 0.7806936511939222\n",
      "Paciente: P28_T1, Dice: 0.8937862494452433\n",
      "Paciente: P28_T2, Dice: 0.7248601120981303\n",
      "Paciente: P29_T1, Dice: 0.7156998184594241\n",
      "Paciente: P31_T1, Dice: 0.7745170400901275\n",
      "Paciente: P31_T2, Dice: 0.7886852384968237\n",
      "Paciente: P33_T1, Dice: 0.7108444544402036\n",
      "Paciente: P33_T2, Dice: 0.7136166988448663\n",
      "Paciente: P34_T1, Dice: 0.8430849646980112\n",
      "Paciente: P35_T1, Dice: 0.6924267191778529\n",
      "Paciente: P36_T1, Dice: 0.8116011536934159\n",
      "Paciente: P37_T1, Dice: 0.8662143147804521\n",
      "Paciente: P38_T1, Dice: 0.8303396894173188\n",
      "Paciente: P39_T1, Dice: 0.9077199540354989\n",
      "Paciente: P40_T1, Dice: 0.9011205624450337\n",
      "Paciente: P41_T1, Dice: 0.8267373551021923\n",
      "Paciente: P42_T1, Dice: 0.8626618832349777\n",
      "Paciente: P43_T1, Dice: 0.8115739685567942\n",
      "Paciente: P45_T1, Dice: 0.8794245058839971\n",
      "Paciente: P46_T1, Dice: 0.8731382361867212\n",
      "Paciente: P48_T1, Dice: 0.7445161777463827\n",
      "Paciente: P49_T1, Dice: 0.8980101894248615\n",
      "Paciente: P49_T2, Dice: 0.8515183371237733\n",
      "Paciente: P50_T1, Dice: 0.8185774060812864\n",
      "Paciente: P50_T2, Dice: 0.8743724915114316\n",
      "Paciente: P51_T2, Dice: 0.7738107155669819\n",
      "Paciente: P52_T1, Dice: 0.7908818599852648\n",
      "Paciente: P53_T1, Dice: 0.7946044599468057\n",
      "Paciente: P53_T2, Dice: 0.8680341965772889\n"
     ]
    }
   ],
   "source": [
    "model = model.to(device)\n",
    "model.eval()\n",
    "\n",
    "for idx, (images, masks) in enumerate(dataloader_test):\n",
    "    images = images.to(device)\n",
    "    masks = masks.to(device)\n",
    "    \n",
    "    with torch.no_grad():\n",
    "        outputs = model(images)\n",
    "        predictions = torch.sigmoid(outputs)\n",
    "        predictions = (predictions > 0.5).float()\n",
    "        masks = masks.long()\n",
    "        \n",
    "        if masks.sum() == 0 and predictions.sum() == 0:\n",
    "            dice = torch.tensor(1.0)\n",
    "        else:\n",
    "            dice = dice_metric(predictions, masks)\n",
    "\n",
    "        dice = dice.item()\n",
    "    \n",
    "    original = images.squeeze().cpu().numpy()\n",
    "    mascara = masks.squeeze().cpu().numpy()\n",
    "    prediccion = predictions.squeeze().cpu().numpy()\n",
    "\n",
    "    filename = lista_ficheros_cerebro_axial_test[idx]\n",
    "    partes = os.path.basename(filename).split('_')\n",
    "    paciente = '_'.join(partes[:2])\n",
    "\n",
    "    if paciente in diccionario:\n",
    "        diccionario[paciente].append(prediccion)\n",
    "        dicc_dice[paciente].append(dice)\n",
    "    \n",
    "for paciente, dice_scores in dicc_dice.items():\n",
    "    dicc_dice[paciente] = np.mean(dice_scores)\n",
    "\n",
    "for paciente, dice_score in dicc_dice.items():\n",
    "    print(f'Paciente: {paciente}, Dice: {dice_score}')"
   ]
  },
  {
   "cell_type": "code",
   "execution_count": 16,
   "id": "5f6f49af-3759-4de1-a23c-3f74c93d85f1",
   "metadata": {},
   "outputs": [
    {
     "name": "stdout",
     "output_type": "stream",
     "text": [
      "(182, 218, 182)\n",
      "(182, 218, 182)\n",
      "(182, 218, 182)\n",
      "(182, 218, 182)\n",
      "(182, 218, 182)\n",
      "(182, 218, 182)\n",
      "(182, 218, 182)\n",
      "(182, 218, 182)\n",
      "(182, 218, 182)\n",
      "(182, 218, 182)\n",
      "(182, 218, 182)\n",
      "(182, 218, 182)\n",
      "(182, 218, 182)\n",
      "(182, 218, 182)\n",
      "(182, 218, 182)\n",
      "(182, 218, 182)\n",
      "(182, 218, 182)\n",
      "(182, 218, 182)\n",
      "(182, 218, 182)\n",
      "(182, 218, 182)\n",
      "(182, 218, 182)\n",
      "(182, 218, 182)\n",
      "(182, 218, 182)\n",
      "(182, 218, 182)\n",
      "(182, 218, 182)\n",
      "(182, 218, 182)\n",
      "(182, 218, 182)\n",
      "(182, 218, 182)\n",
      "(182, 218, 182)\n",
      "(182, 218, 182)\n",
      "(182, 218, 182)\n",
      "(182, 218, 182)\n",
      "(182, 218, 182)\n",
      "(182, 218, 182)\n",
      "(182, 218, 182)\n",
      "(182, 218, 182)\n",
      "(182, 218, 182)\n",
      "(182, 218, 182)\n",
      "(182, 218, 182)\n",
      "(182, 218, 182)\n",
      "(182, 218, 182)\n",
      "(182, 218, 182)\n",
      "(182, 218, 182)\n",
      "(182, 218, 182)\n",
      "(182, 218, 182)\n",
      "(182, 218, 182)\n",
      "(182, 218, 182)\n",
      "(182, 218, 182)\n",
      "(182, 218, 182)\n",
      "(182, 218, 182)\n",
      "(182, 218, 182)\n",
      "(182, 218, 182)\n",
      "(182, 218, 182)\n",
      "(182, 218, 182)\n",
      "(182, 218, 182)\n",
      "(182, 218, 182)\n",
      "(182, 218, 182)\n",
      "(182, 218, 182)\n",
      "(182, 218, 182)\n",
      "(182, 218, 182)\n",
      "(182, 218, 182)\n",
      "(182, 218, 182)\n",
      "(182, 218, 182)\n",
      "(182, 218, 182)\n",
      "(182, 218, 182)\n",
      "(182, 218, 182)\n",
      "(182, 218, 182)\n",
      "(182, 218, 182)\n",
      "(182, 218, 182)\n",
      "(182, 218, 182)\n",
      "(182, 218, 182)\n",
      "(182, 218, 182)\n"
     ]
    }
   ],
   "source": [
    "carpeta = 'Datos/Mascara/'\n",
    "for paciente, imagenes in diccionario.items():\n",
    "  \n",
    "    prueba = [f for f in os.listdir(carpeta) if paciente in f][0]\n",
    "    ruta = os.path.join(carpeta, prueba)\n",
    "    imagen_nifti = nib.load(ruta)\n",
    "    datos = imagen_nifti.get_fdata()\n",
    "    \n",
    "    num_index = datos.shape[2]\n",
    "    num_añadir = porcentaje(num_index, 20)\n",
    "\n",
    "    original_height, original_width = datos.shape[:2]\n",
    "\n",
    "    imagenes_redimensionadas = np.zeros((num_index, original_height, original_width))\n",
    "\n",
    "\n",
    "    for idx, img in enumerate(imagenes):\n",
    "        img_resized = resize(img, (original_height, original_width), mode='constant', preserve_range=True)\n",
    "        img_resized = (img_resized > 0.5).astype(np.float32)\n",
    "        imagenes_redimensionadas[idx + num_añadir] = img_resized\n",
    "\n",
    "\n",
    "    pred_masks_np = np.stack(imagenes_redimensionadas, axis=-1)\n",
    "    print(pred_masks_np.shape)\n",
    "    \n",
    "    nifti_img = nib.Nifti1Image(pred_masks_np, np.eye(4))\n",
    "\n",
    "    carpeta_nifti = 'Prediccion/Unet++/AxialT'\n",
    "    if not os.path.exists(carpeta_nifti):\n",
    "        os.makedirs(carpeta_nifti)\n",
    "    \n",
    "    nib.save(nifti_img, os.path.join(carpeta_nifti, f'{paciente}_prediccion_Axial.nii.gz'))"
   ]
  },
  {
   "cell_type": "markdown",
   "id": "dac5fb17-4058-4a64-9471-f64cc182a3b3",
   "metadata": {},
   "source": [
    "Testeo coronal"
   ]
  },
  {
   "cell_type": "code",
   "execution_count": 17,
   "id": "934ea89d-84cd-4e4d-a18e-80a13c71daad",
   "metadata": {},
   "outputs": [],
   "source": [
    "model = smp.UnetPlusPlus(\n",
    "    encoder_name=\"resnet34\",\n",
    "    encoder_weights=\"imagenet\",\n",
    "    in_channels=1,\n",
    "    classes=1\n",
    ")"
   ]
  },
  {
   "cell_type": "code",
   "execution_count": 18,
   "id": "02cdd53c-f4b1-4846-911d-c0d1cd2caa0d",
   "metadata": {},
   "outputs": [
    {
     "name": "stdout",
     "output_type": "stream",
     "text": [
      "cuda\n"
     ]
    }
   ],
   "source": [
    "device = torch.device(\"cuda\" if torch.cuda.is_available() else \"cpu\")\n",
    "print(device)"
   ]
  },
  {
   "cell_type": "code",
   "execution_count": 19,
   "id": "d1053ee2-f07e-4c26-becc-1e646603cb9b",
   "metadata": {},
   "outputs": [],
   "source": [
    "model = model.to(device)\n",
    "dice_metric = Dice(average='micro').to(device)"
   ]
  },
  {
   "cell_type": "code",
   "execution_count": 20,
   "id": "e140bbb5-cb9e-4372-8f4e-22b2fe2b535a",
   "metadata": {},
   "outputs": [
    {
     "name": "stderr",
     "output_type": "stream",
     "text": [
      "/tmp/ipykernel_124518/4009313429.py:1: FutureWarning: You are using `torch.load` with `weights_only=False` (the current default value), which uses the default pickle module implicitly. It is possible to construct malicious pickle data which will execute arbitrary code during unpickling (See https://github.com/pytorch/pytorch/blob/main/SECURITY.md#untrusted-models for more details). In a future release, the default value for `weights_only` will be flipped to `True`. This limits the functions that could be executed during unpickling. Arbitrary objects will no longer be allowed to be loaded via this mode unless they are explicitly allowlisted by the user via `torch.serialization.add_safe_globals`. We recommend you start setting `weights_only=True` for any use case where you don't have full control of the loaded file. Please open an issue on GitHub for any issues related to this experimental feature.\n",
      "  model.load_state_dict(torch.load(\"UNet++_mejor_Coronal.pth\"))\n"
     ]
    },
    {
     "data": {
      "text/plain": [
       "<All keys matched successfully>"
      ]
     },
     "execution_count": 20,
     "metadata": {},
     "output_type": "execute_result"
    }
   ],
   "source": [
    "model.load_state_dict(torch.load(\"UNet++_mejor_Coronal.pth\"))"
   ]
  },
  {
   "cell_type": "code",
   "execution_count": 21,
   "id": "b009e7d6-0b1a-4c5e-a698-d03b0146eeb5",
   "metadata": {},
   "outputs": [
    {
     "name": "stdout",
     "output_type": "stream",
     "text": [
      "9504\n"
     ]
    }
   ],
   "source": [
    "carpeta = 'Resultados2/Cerebro/Coronal/Train/'\n",
    "lista_ficheros_cerebro_coronal_test = obtener_ficheros(carpeta)\n",
    "print(len(lista_ficheros_cerebro_coronal_test))"
   ]
  },
  {
   "cell_type": "code",
   "execution_count": 22,
   "id": "35fba5ed-3448-4eb9-b90c-447672122e84",
   "metadata": {},
   "outputs": [
    {
     "name": "stdout",
     "output_type": "stream",
     "text": [
      "9504\n"
     ]
    }
   ],
   "source": [
    "carpeta = 'Resultados2/Mascara/Coronal/Train/'\n",
    "lista_ficheros_mascara_coronal_test = obtener_ficheros(carpeta)\n",
    "print(len(lista_ficheros_mascara_coronal_test))"
   ]
  },
  {
   "cell_type": "code",
   "execution_count": 23,
   "id": "3bde92b1-8b28-4283-b09b-4b554825f7bd",
   "metadata": {},
   "outputs": [],
   "source": [
    "test_dataset = Custom_Dataset(lista_ficheros_cerebro_coronal_test, lista_ficheros_mascara_coronal_test)\n",
    "dataloader_test = DataLoader(test_dataset, batch_size=1, shuffle=False)"
   ]
  },
  {
   "cell_type": "code",
   "execution_count": 24,
   "id": "fcab128a-5da1-45aa-8d3e-9f243f36bdeb",
   "metadata": {},
   "outputs": [],
   "source": [
    "carpeta = 'Resultados2/Cerebro/Coronal/Train/'\n",
    "pruebas = crear_lista_pacientes_test(carpeta)\n",
    "diccionario = crear_diccionario_pruebas_test(pruebas)\n",
    "\n",
    "dicc_dice = crear_diccionario_pruebas_test(pruebas)"
   ]
  },
  {
   "cell_type": "code",
   "execution_count": 25,
   "id": "eac2756f-3a54-4f95-96ff-1896cb05d008",
   "metadata": {},
   "outputs": [
    {
     "name": "stdout",
     "output_type": "stream",
     "text": [
      "Paciente: P01_T1, Dice: 0.8482138706427632\n",
      "Paciente: P01_T2, Dice: 0.8653503527695482\n",
      "Paciente: P01_T3, Dice: 0.9090119473861925\n",
      "Paciente: P02_T1, Dice: 0.8134804602825281\n",
      "Paciente: P02_T4, Dice: 0.8290217107895649\n",
      "Paciente: P03_T2, Dice: 0.7504890299204624\n",
      "Paciente: P03_T3, Dice: 0.715777959900372\n",
      "Paciente: P03_T4, Dice: 0.7465936270627108\n",
      "Paciente: P04_T1, Dice: 0.8709718126690749\n",
      "Paciente: P04_T2, Dice: 0.8183273284724264\n",
      "Paciente: P04_T3, Dice: 0.9007620292179512\n",
      "Paciente: P05_T1, Dice: 0.7572742050344293\n",
      "Paciente: P05_T2, Dice: 0.7828762685936509\n",
      "Paciente: P06_T1, Dice: 0.804261901839213\n",
      "Paciente: P06_T2, Dice: 0.8036163015799089\n",
      "Paciente: P06_T3, Dice: 0.836940661072731\n",
      "Paciente: P07_T2, Dice: 0.8898644799535925\n",
      "Paciente: P08_T2, Dice: 0.80712472624851\n",
      "Paciente: P09_T2, Dice: 0.8207602875702309\n",
      "Paciente: P09_T3, Dice: 0.8141266157229742\n",
      "Paciente: P10_T1, Dice: 0.7382670732384379\n",
      "Paciente: P10_T2, Dice: 0.7098471264947545\n",
      "Paciente: P11_T2, Dice: 0.9061558418201677\n",
      "Paciente: P12_T1, Dice: 0.8528648215261373\n",
      "Paciente: P12_T3, Dice: 0.8786200045636205\n",
      "Paciente: P12_T4, Dice: 0.8641219473246372\n",
      "Paciente: P13_T2, Dice: 0.7712997444199793\n",
      "Paciente: P14_T1, Dice: 0.9189262046958461\n",
      "Paciente: P14_T3, Dice: 0.9059392024170269\n",
      "Paciente: P15_T1, Dice: 0.8920620995940585\n",
      "Paciente: P16_T1, Dice: 0.9323261745951392\n",
      "Paciente: P17_T1, Dice: 0.8511579749033307\n",
      "Paciente: P19_T1, Dice: 0.8141117789077036\n",
      "Paciente: P19_T2, Dice: 0.8149759256930063\n",
      "Paciente: P19_T3, Dice: 0.8056810918179426\n",
      "Paciente: P19_T4, Dice: 0.8094685651136168\n",
      "Paciente: P20_T1, Dice: 0.8827815148414988\n",
      "Paciente: P20_T2, Dice: 0.7949150464299953\n",
      "Paciente: P20_T3, Dice: 0.8058809787034988\n",
      "Paciente: P21_T1, Dice: 0.9083547314459627\n",
      "Paciente: P22_T2, Dice: 0.7410015861193339\n",
      "Paciente: P24_T1, Dice: 0.7755106443708594\n",
      "Paciente: P25_T1, Dice: 0.8781557369864348\n",
      "Paciente: P26_T1, Dice: 0.7902263954959132\n",
      "Paciente: P28_T1, Dice: 0.8657882525726701\n",
      "Paciente: P28_T2, Dice: 0.7666248085372376\n",
      "Paciente: P29_T1, Dice: 0.7716713472071922\n",
      "Paciente: P31_T1, Dice: 0.7627812872330347\n",
      "Paciente: P31_T2, Dice: 0.7575544209191294\n",
      "Paciente: P33_T1, Dice: 0.8087956018068574\n",
      "Paciente: P33_T2, Dice: 0.7780204103187178\n",
      "Paciente: P34_T1, Dice: 0.6956864712816296\n",
      "Paciente: P35_T1, Dice: 0.8259599761980952\n",
      "Paciente: P36_T1, Dice: 0.7884682234038006\n",
      "Paciente: P37_T1, Dice: 0.8024831113941742\n",
      "Paciente: P38_T1, Dice: 0.8602479287620747\n",
      "Paciente: P39_T1, Dice: 0.8992100520567461\n",
      "Paciente: P40_T1, Dice: 0.8251076233432149\n",
      "Paciente: P41_T1, Dice: 0.826002114649975\n",
      "Paciente: P42_T1, Dice: 0.8788171716485963\n",
      "Paciente: P43_T1, Dice: 0.8201650753617287\n",
      "Paciente: P45_T1, Dice: 0.7802402494531689\n",
      "Paciente: P46_T1, Dice: 0.7886910850577282\n",
      "Paciente: P48_T1, Dice: 0.744377260689031\n",
      "Paciente: P49_T1, Dice: 0.8698213673902281\n",
      "Paciente: P49_T2, Dice: 0.7962137973218253\n",
      "Paciente: P50_T1, Dice: 0.7566731099716641\n",
      "Paciente: P50_T2, Dice: 0.8371234098167131\n",
      "Paciente: P51_T2, Dice: 0.8311904167587106\n",
      "Paciente: P52_T1, Dice: 0.7859976658541145\n",
      "Paciente: P53_T1, Dice: 0.7186024255599036\n",
      "Paciente: P53_T2, Dice: 0.7786338996480812\n"
     ]
    }
   ],
   "source": [
    "model = model.to(device)\n",
    "model.eval()\n",
    "\n",
    "for idx, (images, masks) in enumerate(dataloader_test):\n",
    "    images = images.to(device)\n",
    "    masks = masks.to(device)\n",
    "    \n",
    "    with torch.no_grad():\n",
    "        outputs = model(images)\n",
    "        predictions = torch.sigmoid(outputs)\n",
    "        predictions = (predictions > 0.5).float()\n",
    "        masks = masks.long()\n",
    "        \n",
    "        if masks.sum() == 0 and predictions.sum() == 0:\n",
    "            dice = torch.tensor(1.0)\n",
    "        else:\n",
    "            dice = dice_metric(predictions, masks)\n",
    "\n",
    "        dice = dice.item()\n",
    "    \n",
    "    original = images.squeeze().cpu().numpy()\n",
    "    mascara = masks.squeeze().cpu().numpy()\n",
    "    prediccion = predictions.squeeze().cpu().numpy()\n",
    "\n",
    "    filename = lista_ficheros_cerebro_coronal_test[idx]\n",
    "    partes = os.path.basename(filename).split('_')\n",
    "    paciente = '_'.join(partes[:2])\n",
    "\n",
    "    if paciente in diccionario:\n",
    "        diccionario[paciente].append(prediccion)\n",
    "        dicc_dice[paciente].append(dice)\n",
    "    \n",
    "for paciente, dice_scores in dicc_dice.items():\n",
    "    dicc_dice[paciente] = np.mean(dice_scores)\n",
    "\n",
    "for paciente, dice_score in dicc_dice.items():\n",
    "    print(f'Paciente: {paciente}, Dice: {dice_score}')"
   ]
  },
  {
   "cell_type": "code",
   "execution_count": 26,
   "id": "de086da9-66ad-46d5-8bcc-0122177cb379",
   "metadata": {},
   "outputs": [
    {
     "name": "stdout",
     "output_type": "stream",
     "text": [
      "(182, 218, 182)\n",
      "(182, 218, 182)\n",
      "(182, 218, 182)\n",
      "(182, 218, 182)\n",
      "(182, 218, 182)\n",
      "(182, 218, 182)\n",
      "(182, 218, 182)\n",
      "(182, 218, 182)\n",
      "(182, 218, 182)\n",
      "(182, 218, 182)\n",
      "(182, 218, 182)\n",
      "(182, 218, 182)\n",
      "(182, 218, 182)\n",
      "(182, 218, 182)\n",
      "(182, 218, 182)\n",
      "(182, 218, 182)\n",
      "(182, 218, 182)\n",
      "(182, 218, 182)\n",
      "(182, 218, 182)\n",
      "(182, 218, 182)\n",
      "(182, 218, 182)\n",
      "(182, 218, 182)\n",
      "(182, 218, 182)\n",
      "(182, 218, 182)\n",
      "(182, 218, 182)\n",
      "(182, 218, 182)\n",
      "(182, 218, 182)\n",
      "(182, 218, 182)\n",
      "(182, 218, 182)\n",
      "(182, 218, 182)\n",
      "(182, 218, 182)\n",
      "(182, 218, 182)\n",
      "(182, 218, 182)\n",
      "(182, 218, 182)\n",
      "(182, 218, 182)\n",
      "(182, 218, 182)\n",
      "(182, 218, 182)\n",
      "(182, 218, 182)\n",
      "(182, 218, 182)\n",
      "(182, 218, 182)\n",
      "(182, 218, 182)\n",
      "(182, 218, 182)\n",
      "(182, 218, 182)\n",
      "(182, 218, 182)\n",
      "(182, 218, 182)\n",
      "(182, 218, 182)\n",
      "(182, 218, 182)\n",
      "(182, 218, 182)\n",
      "(182, 218, 182)\n",
      "(182, 218, 182)\n",
      "(182, 218, 182)\n",
      "(182, 218, 182)\n",
      "(182, 218, 182)\n",
      "(182, 218, 182)\n",
      "(182, 218, 182)\n",
      "(182, 218, 182)\n",
      "(182, 218, 182)\n",
      "(182, 218, 182)\n",
      "(182, 218, 182)\n",
      "(182, 218, 182)\n",
      "(182, 218, 182)\n",
      "(182, 218, 182)\n",
      "(182, 218, 182)\n",
      "(182, 218, 182)\n",
      "(182, 218, 182)\n",
      "(182, 218, 182)\n",
      "(182, 218, 182)\n",
      "(182, 218, 182)\n",
      "(182, 218, 182)\n",
      "(182, 218, 182)\n",
      "(182, 218, 182)\n",
      "(182, 218, 182)\n"
     ]
    }
   ],
   "source": [
    "carpeta = 'Datos/Mascara/'\n",
    "for paciente, imagenes in diccionario.items():\n",
    "\n",
    "    prueba = [f for f in os.listdir(carpeta) if paciente in f][0]\n",
    "    ruta = os.path.join(carpeta, prueba)\n",
    "    imagen_nifti = nib.load(ruta)\n",
    "    datos = imagen_nifti.get_fdata()\n",
    "\n",
    "    num_index = datos.shape[1]\n",
    "    num_añadir = porcentaje(num_index, 20)\n",
    "\n",
    "    original_depth, original_width = datos.shape[0], datos.shape[2]\n",
    "\n",
    "    imagenes_redimensionadas = np.zeros((num_index, original_depth, original_width))\n",
    "\n",
    "\n",
    "    for idx, img in enumerate(imagenes):\n",
    "        img_resized = resize(img, (original_depth, original_width), mode='constant', preserve_range=True)\n",
    "        img_resized = (img_resized > 0.5).astype(np.float32)\n",
    "        imagenes_redimensionadas[idx + num_añadir] = img_resized\n",
    "\n",
    "\n",
    "    pred_masks_np = np.stack(imagenes_redimensionadas, axis=1)\n",
    "    print(pred_masks_np.shape)\n",
    "\n",
    "    nifti_img = nib.Nifti1Image(pred_masks_np, np.eye(4))\n",
    "\n",
    "    carpeta_nifti = 'Prediccion/Unet++/CoronalT'\n",
    "    if not os.path.exists(carpeta_nifti):\n",
    "        os.makedirs(carpeta_nifti)\n",
    "\n",
    "    nib.save(nifti_img, os.path.join(carpeta_nifti, f'{paciente}_prediccion_Coronal.nii.gz'))"
   ]
  },
  {
   "cell_type": "markdown",
   "id": "34041598-03b9-44f6-81d3-4922a80fbc68",
   "metadata": {},
   "source": [
    "Testeo sagital"
   ]
  },
  {
   "cell_type": "code",
   "execution_count": 27,
   "id": "563b4bad-2e5f-410b-804d-66f22a61e2b3",
   "metadata": {},
   "outputs": [],
   "source": [
    "model = smp.UnetPlusPlus(\n",
    "    encoder_name=\"resnet34\",\n",
    "    encoder_weights=\"imagenet\",\n",
    "    in_channels=1,\n",
    "    classes=1\n",
    ")"
   ]
  },
  {
   "cell_type": "code",
   "execution_count": 28,
   "id": "0060c669-ceac-4c38-a427-8a702f1b4a00",
   "metadata": {},
   "outputs": [
    {
     "name": "stdout",
     "output_type": "stream",
     "text": [
      "cuda\n"
     ]
    }
   ],
   "source": [
    "device = torch.device(\"cuda\" if torch.cuda.is_available() else \"cpu\")\n",
    "print(device)"
   ]
  },
  {
   "cell_type": "code",
   "execution_count": 29,
   "id": "7e870d22-bdd1-4cf6-a3a1-8cf45cfaeb41",
   "metadata": {},
   "outputs": [],
   "source": [
    "model = model.to(device)\n",
    "dice_metric = Dice(average='micro').to(device)"
   ]
  },
  {
   "cell_type": "code",
   "execution_count": 30,
   "id": "404100ad-23d9-4213-8e30-305a8995a0d2",
   "metadata": {},
   "outputs": [
    {
     "name": "stderr",
     "output_type": "stream",
     "text": [
      "/tmp/ipykernel_124518/131883476.py:1: FutureWarning: You are using `torch.load` with `weights_only=False` (the current default value), which uses the default pickle module implicitly. It is possible to construct malicious pickle data which will execute arbitrary code during unpickling (See https://github.com/pytorch/pytorch/blob/main/SECURITY.md#untrusted-models for more details). In a future release, the default value for `weights_only` will be flipped to `True`. This limits the functions that could be executed during unpickling. Arbitrary objects will no longer be allowed to be loaded via this mode unless they are explicitly allowlisted by the user via `torch.serialization.add_safe_globals`. We recommend you start setting `weights_only=True` for any use case where you don't have full control of the loaded file. Please open an issue on GitHub for any issues related to this experimental feature.\n",
      "  model.load_state_dict(torch.load(\"UNet++_mejor_Sagital.pth\"))\n"
     ]
    },
    {
     "data": {
      "text/plain": [
       "<All keys matched successfully>"
      ]
     },
     "execution_count": 30,
     "metadata": {},
     "output_type": "execute_result"
    }
   ],
   "source": [
    "model.load_state_dict(torch.load(\"UNet++_mejor_Sagital.pth\"))"
   ]
  },
  {
   "cell_type": "code",
   "execution_count": 31,
   "id": "6105076e-d5f9-49ae-88fd-c7cf69ddcf80",
   "metadata": {},
   "outputs": [
    {
     "name": "stdout",
     "output_type": "stream",
     "text": [
      "7920\n"
     ]
    }
   ],
   "source": [
    "carpeta = 'Resultados2/Cerebro/Sagital/Train/'\n",
    "lista_ficheros_cerebro_sagital_test = obtener_ficheros(carpeta)\n",
    "print(len(lista_ficheros_cerebro_sagital_test))"
   ]
  },
  {
   "cell_type": "code",
   "execution_count": 32,
   "id": "3f221081-6c81-4cc9-9098-288b990ad1dd",
   "metadata": {},
   "outputs": [
    {
     "name": "stdout",
     "output_type": "stream",
     "text": [
      "7920\n"
     ]
    }
   ],
   "source": [
    "carpeta = 'Resultados2/Mascara/Sagital/Train/'\n",
    "lista_ficheros_mascara_sagital_test = obtener_ficheros(carpeta)\n",
    "print(len(lista_ficheros_mascara_sagital_test))"
   ]
  },
  {
   "cell_type": "code",
   "execution_count": 33,
   "id": "53945aea-2970-4569-9103-9a84f24223b8",
   "metadata": {},
   "outputs": [],
   "source": [
    "test_dataset = Custom_Dataset(lista_ficheros_cerebro_sagital_test, lista_ficheros_mascara_sagital_test)\n",
    "dataloader_test = DataLoader(test_dataset, batch_size=1, shuffle=False)"
   ]
  },
  {
   "cell_type": "code",
   "execution_count": 34,
   "id": "68a524ac-9ecc-4d89-834e-7cc0da4f7335",
   "metadata": {},
   "outputs": [],
   "source": [
    "carpeta = 'Resultados2/Cerebro/Sagital/Train/'\n",
    "pruebas = crear_lista_pacientes_test(carpeta)\n",
    "diccionario = crear_diccionario_pruebas_test(pruebas)\n",
    "\n",
    "dicc_dice = crear_diccionario_pruebas_test(pruebas)"
   ]
  },
  {
   "cell_type": "code",
   "execution_count": 35,
   "id": "f467857e-8d19-4e0e-8850-37a103366727",
   "metadata": {},
   "outputs": [
    {
     "name": "stdout",
     "output_type": "stream",
     "text": [
      "Paciente: P01_T1, Dice: 0.9002913036129692\n",
      "Paciente: P01_T2, Dice: 0.8912588943134655\n",
      "Paciente: P01_T3, Dice: 0.9261085667393424\n",
      "Paciente: P02_T1, Dice: 0.889969944412058\n",
      "Paciente: P02_T4, Dice: 0.847674176571044\n",
      "Paciente: P03_T2, Dice: 0.8449574141339822\n",
      "Paciente: P03_T3, Dice: 0.8107828212055292\n",
      "Paciente: P03_T4, Dice: 0.80605599202893\n",
      "Paciente: P04_T1, Dice: 0.8727066273039038\n",
      "Paciente: P04_T2, Dice: 0.8739672007885846\n",
      "Paciente: P04_T3, Dice: 0.8438642596656626\n",
      "Paciente: P05_T1, Dice: 0.8451311460950158\n",
      "Paciente: P05_T2, Dice: 0.8054397653449665\n",
      "Paciente: P06_T1, Dice: 0.8079658565196124\n",
      "Paciente: P06_T2, Dice: 0.8386181010441347\n",
      "Paciente: P06_T3, Dice: 0.8098809104074132\n",
      "Paciente: P07_T2, Dice: 0.8929244827140461\n",
      "Paciente: P08_T2, Dice: 0.8555538625202396\n",
      "Paciente: P09_T2, Dice: 0.8259938868609342\n",
      "Paciente: P09_T3, Dice: 0.8412802254611795\n",
      "Paciente: P10_T1, Dice: 0.8210978800600225\n",
      "Paciente: P10_T2, Dice: 0.812022854252295\n",
      "Paciente: P11_T2, Dice: 0.8788002174008976\n",
      "Paciente: P12_T1, Dice: 0.8039184885946187\n",
      "Paciente: P12_T3, Dice: 0.8673229683529247\n",
      "Paciente: P12_T4, Dice: 0.8256143846295096\n",
      "Paciente: P13_T2, Dice: 0.7837800123474815\n",
      "Paciente: P14_T1, Dice: 0.9347738341851668\n",
      "Paciente: P14_T3, Dice: 0.8276368309151042\n",
      "Paciente: P15_T1, Dice: 0.9205977873368697\n",
      "Paciente: P16_T1, Dice: 0.9402571003545415\n",
      "Paciente: P17_T1, Dice: 0.9041969740932638\n",
      "Paciente: P19_T1, Dice: 0.8002790686759081\n",
      "Paciente: P19_T2, Dice: 0.7636768139221451\n",
      "Paciente: P19_T3, Dice: 0.7609651769426736\n",
      "Paciente: P19_T4, Dice: 0.8332943339239467\n",
      "Paciente: P20_T1, Dice: 0.8860213713212447\n",
      "Paciente: P20_T2, Dice: 0.8260966393080624\n",
      "Paciente: P20_T3, Dice: 0.8888839168982072\n",
      "Paciente: P21_T1, Dice: 0.9073888551105153\n",
      "Paciente: P22_T2, Dice: 0.8116953240199523\n",
      "Paciente: P24_T1, Dice: 0.7930310701782053\n",
      "Paciente: P25_T1, Dice: 0.9104818084023215\n",
      "Paciente: P26_T1, Dice: 0.8193159084428441\n",
      "Paciente: P28_T1, Dice: 0.8571958953684027\n",
      "Paciente: P28_T2, Dice: 0.7474402644417503\n",
      "Paciente: P29_T1, Dice: 0.7939119178463112\n",
      "Paciente: P31_T1, Dice: 0.7800984570925886\n",
      "Paciente: P31_T2, Dice: 0.8555918376554142\n",
      "Paciente: P33_T1, Dice: 0.7462088911370798\n",
      "Paciente: P33_T2, Dice: 0.7979876507412303\n",
      "Paciente: P34_T1, Dice: 0.7670149306004698\n",
      "Paciente: P35_T1, Dice: 0.8204039625146172\n",
      "Paciente: P36_T1, Dice: 0.7237954453988509\n",
      "Paciente: P37_T1, Dice: 0.8154473158446225\n",
      "Paciente: P38_T1, Dice: 0.8550332096489993\n",
      "Paciente: P39_T1, Dice: 0.9032316881147298\n",
      "Paciente: P40_T1, Dice: 0.8974817303093997\n",
      "Paciente: P41_T1, Dice: 0.8228223270990632\n",
      "Paciente: P42_T1, Dice: 0.8758747859434648\n",
      "Paciente: P43_T1, Dice: 0.8407178250226107\n",
      "Paciente: P45_T1, Dice: 0.9413473146882925\n",
      "Paciente: P46_T1, Dice: 0.7863512279635126\n",
      "Paciente: P48_T1, Dice: 0.719492707401514\n",
      "Paciente: P49_T1, Dice: 0.8353915976529772\n",
      "Paciente: P49_T2, Dice: 0.8400591779838908\n",
      "Paciente: P50_T1, Dice: 0.7779725101183761\n",
      "Paciente: P50_T2, Dice: 0.880361421270804\n",
      "Paciente: P51_T2, Dice: 0.8497467336329547\n",
      "Paciente: P52_T1, Dice: 0.843924573876641\n",
      "Paciente: P53_T1, Dice: 0.7374178699471734\n",
      "Paciente: P53_T2, Dice: 0.7874206589026884\n"
     ]
    }
   ],
   "source": [
    "model = model.to(device)\n",
    "model.eval()\n",
    "\n",
    "for idx, (images, masks) in enumerate(dataloader_test):\n",
    "    images = images.to(device)\n",
    "    masks = masks.to(device)\n",
    "    \n",
    "    with torch.no_grad():\n",
    "        outputs = model(images)\n",
    "        predictions = torch.sigmoid(outputs)\n",
    "        predictions = (predictions > 0.5).float()\n",
    "        masks = masks.long()\n",
    "        \n",
    "        if masks.sum() == 0 and predictions.sum() == 0:\n",
    "            dice = torch.tensor(1.0)\n",
    "        else:\n",
    "            dice = dice_metric(predictions, masks)\n",
    "\n",
    "        dice = dice.item()\n",
    "    \n",
    "    original = images.squeeze().cpu().numpy()\n",
    "    mascara = masks.squeeze().cpu().numpy()\n",
    "    prediccion = predictions.squeeze().cpu().numpy()\n",
    "\n",
    "    filename = lista_ficheros_cerebro_sagital_test[idx]\n",
    "    partes = os.path.basename(filename).split('_')\n",
    "    paciente = '_'.join(partes[:2])\n",
    "\n",
    "    if paciente in diccionario:\n",
    "        diccionario[paciente].append(prediccion)\n",
    "        dicc_dice[paciente].append(dice)\n",
    "    \n",
    "for paciente, dice_scores in dicc_dice.items():\n",
    "    dicc_dice[paciente] = np.mean(dice_scores)\n",
    "\n",
    "for paciente, dice_score in dicc_dice.items():\n",
    "    print(f'Paciente: {paciente}, Dice: {dice_score}')"
   ]
  },
  {
   "cell_type": "code",
   "execution_count": 36,
   "id": "eabf0863-eabb-4cdd-9dfe-15c647810f45",
   "metadata": {},
   "outputs": [
    {
     "name": "stdout",
     "output_type": "stream",
     "text": [
      "(182, 218, 182)\n",
      "(182, 218, 182)\n",
      "(182, 218, 182)\n",
      "(182, 218, 182)\n",
      "(182, 218, 182)\n",
      "(182, 218, 182)\n",
      "(182, 218, 182)\n",
      "(182, 218, 182)\n",
      "(182, 218, 182)\n",
      "(182, 218, 182)\n",
      "(182, 218, 182)\n",
      "(182, 218, 182)\n",
      "(182, 218, 182)\n",
      "(182, 218, 182)\n",
      "(182, 218, 182)\n",
      "(182, 218, 182)\n",
      "(182, 218, 182)\n",
      "(182, 218, 182)\n",
      "(182, 218, 182)\n",
      "(182, 218, 182)\n",
      "(182, 218, 182)\n",
      "(182, 218, 182)\n",
      "(182, 218, 182)\n",
      "(182, 218, 182)\n",
      "(182, 218, 182)\n",
      "(182, 218, 182)\n",
      "(182, 218, 182)\n",
      "(182, 218, 182)\n",
      "(182, 218, 182)\n",
      "(182, 218, 182)\n",
      "(182, 218, 182)\n",
      "(182, 218, 182)\n",
      "(182, 218, 182)\n",
      "(182, 218, 182)\n",
      "(182, 218, 182)\n",
      "(182, 218, 182)\n",
      "(182, 218, 182)\n",
      "(182, 218, 182)\n",
      "(182, 218, 182)\n",
      "(182, 218, 182)\n",
      "(182, 218, 182)\n",
      "(182, 218, 182)\n",
      "(182, 218, 182)\n",
      "(182, 218, 182)\n",
      "(182, 218, 182)\n",
      "(182, 218, 182)\n",
      "(182, 218, 182)\n",
      "(182, 218, 182)\n",
      "(182, 218, 182)\n",
      "(182, 218, 182)\n",
      "(182, 218, 182)\n",
      "(182, 218, 182)\n",
      "(182, 218, 182)\n",
      "(182, 218, 182)\n",
      "(182, 218, 182)\n",
      "(182, 218, 182)\n",
      "(182, 218, 182)\n",
      "(182, 218, 182)\n",
      "(182, 218, 182)\n",
      "(182, 218, 182)\n",
      "(182, 218, 182)\n",
      "(182, 218, 182)\n",
      "(182, 218, 182)\n",
      "(182, 218, 182)\n",
      "(182, 218, 182)\n",
      "(182, 218, 182)\n",
      "(182, 218, 182)\n",
      "(182, 218, 182)\n",
      "(182, 218, 182)\n",
      "(182, 218, 182)\n",
      "(182, 218, 182)\n",
      "(182, 218, 182)\n"
     ]
    }
   ],
   "source": [
    "carpeta = 'Datos/Mascara/'\n",
    "for paciente, imagenes in diccionario.items():\n",
    "\n",
    "    prueba = [f for f in os.listdir(carpeta) if paciente in f][0]\n",
    "    ruta = os.path.join(carpeta, prueba)\n",
    "    imagen_nifti = nib.load(ruta)\n",
    "    datos = imagen_nifti.get_fdata()\n",
    "\n",
    "    num_index = datos.shape[0]\n",
    "    num_añadir = porcentaje(num_index, 20)\n",
    "\n",
    "    original_height, original_depth = datos.shape[1], datos.shape[2]\n",
    "\n",
    "    imagenes_redimensionadas = np.zeros((num_index, original_height, original_depth))\n",
    "\n",
    "\n",
    "    for idx, img in enumerate(imagenes):\n",
    "        img_resized = resize(img, (original_height, original_depth), mode='constant', preserve_range=True)\n",
    "        img_resized = (img_resized > 0.5).astype(np.float32)\n",
    "        imagenes_redimensionadas[idx + num_añadir] = img_resized\n",
    "\n",
    "\n",
    "    pred_masks_np = np.stack(imagenes_redimensionadas, axis=0)\n",
    "    print(pred_masks_np.shape)\n",
    "\n",
    "    nifti_img = nib.Nifti1Image(pred_masks_np, np.eye(4))\n",
    "\n",
    "    carpeta_nifti = 'Prediccion/Unet++/SagitalT'\n",
    "    if not os.path.exists(carpeta_nifti):\n",
    "        os.makedirs(carpeta_nifti)\n",
    "\n",
    "    nib.save(nifti_img, os.path.join(carpeta_nifti, f'{paciente}_prediccion_Sagital.nii.gz'))"
   ]
  },
  {
   "cell_type": "code",
   "execution_count": 2,
   "id": "8f7a92a5-8601-43eb-b591-b18770e69673",
   "metadata": {},
   "outputs": [],
   "source": [
    "def copiar_archivos_gz(origen, destino):\n",
    "    for fichero in os.listdir(origen):\n",
    "        if fichero.endswith('.gz'):\n",
    "            ruta_archivo_origen = os.path.join(origen, fichero)\n",
    "            ruta_archivo_destino = os.path.join(destino, fichero)\n",
    "            shutil.copy2(ruta_archivo_origen, ruta_archivo_destino)"
   ]
  },
  {
   "cell_type": "code",
   "execution_count": 3,
   "id": "18e04236-9801-4ec7-9680-f89f35f64cb0",
   "metadata": {},
   "outputs": [],
   "source": [
    "origen = \"Prediccion/Unet++/Axial/\"\n",
    "destino = \"DICE_EVAL\"\n",
    "copiar_archivos_gz(origen, destino)"
   ]
  },
  {
   "cell_type": "code",
   "execution_count": 37,
   "id": "b45d470d-8627-48b8-9408-bf0f47196146",
   "metadata": {},
   "outputs": [],
   "source": [
    "def umbralizacion(input_dir1, input_dir2, input_dir3, output_dir):\n",
    "\n",
    "    os.makedirs(output_dir, exist_ok=True)\n",
    "\n",
    "    input_dirs = [input_dir1, input_dir2, input_dir3]\n",
    "    nifti_files = []\n",
    "    for dir in input_dirs:\n",
    "        nifti_files.extend([f for f in os.listdir(dir) if f.endswith(\".nii\") or f.endswith(\".nii.gz\")])\n",
    "\n",
    "    unicas = set(\"_\".join(f.split(\"_\")[:2]) for f in nifti_files)\n",
    "    \n",
    "    for cadena in unicas:\n",
    "        matching_files = [f for f in nifti_files if cadena in f]\n",
    "        voxel_data_list = []\n",
    "\n",
    "        for file in matching_files:\n",
    "            for dir in input_dirs:\n",
    "                if file in os.listdir(dir):\n",
    "                    filepath = os.path.join(dir, file)\n",
    "                    nifti_img = nib.load(filepath)\n",
    "                    voxel_data = nifti_img.get_fdata()\n",
    "                    voxel_data_list.append(voxel_data)\n",
    "                    break\n",
    "\n",
    "        suma_voxeles = np.sum(voxel_data_list, axis=0)\n",
    "\n",
    "        umbralizado = (suma_voxeles > 1).astype(np.float32)\n",
    "\n",
    "        umbralizado_nifti = nib.Nifti1Image(umbralizado, affine=nifti_img.affine, header=nifti_img.header)\n",
    "        umbralizado_filepath = os.path.join(output_dir, f\"{cadena}_prediccion_combinado.nii.gz\")\n",
    "        nib.save(umbralizado_nifti, umbralizado_filepath)"
   ]
  },
  {
   "cell_type": "code",
   "execution_count": 38,
   "id": "5c40cd1e-873c-457f-8f02-82be647b02a8",
   "metadata": {},
   "outputs": [],
   "source": [
    "input_dir1 = \"Prediccion/Unet++/AxialT/\"\n",
    "input_dir2 = \"Prediccion/Unet++/CoronalT/\"\n",
    "input_dir3 = \"Prediccion/Unet++/SagitalT/\"\n",
    "output_dir = \"Prediccion/Unet++/umbralizacion\"\n",
    "\n",
    "umbralizacion(input_dir1, input_dir2, input_dir3, output_dir)"
   ]
  },
  {
   "cell_type": "code",
   "execution_count": null,
   "id": "f01deecd-8c89-46fd-a911-707023cc7de4",
   "metadata": {},
   "outputs": [],
   "source": [
    "origen = \"Prediccion/Unet++/nifti_umbralizacion/\"\n",
    "destino = \"DICE_EVAL\"\n",
    "copiar_archivos_gz(origen, destino)"
   ]
  },
  {
   "cell_type": "code",
   "execution_count": 39,
   "id": "31452d42-8099-4da4-9e50-e3f504d9b3e5",
   "metadata": {},
   "outputs": [],
   "source": [
    "def votacion(input_dir1, input_dir2, input_dir3, output_dir):\n",
    "\n",
    "    os.makedirs(output_dir, exist_ok=True)\n",
    "\n",
    "    input_dirs = [input_dir1, input_dir2, input_dir3]\n",
    "    nifti_files = []\n",
    "    for dir in input_dirs:\n",
    "        nifti_files.extend([f for f in os.listdir(dir) if f.endswith(\".nii\") or f.endswith(\".nii.gz\")])\n",
    "\n",
    "    unicas = set(\"_\".join(f.split(\"_\")[:2]) for f in nifti_files)\n",
    "    \n",
    "    for cadena in unicas:\n",
    "        matching_files = [f for f in nifti_files if cadena in f]\n",
    "        voxel_data_list = []\n",
    "\n",
    "        for file in matching_files:\n",
    "            for dir in input_dirs:\n",
    "                if file in os.listdir(dir):\n",
    "                    filepath = os.path.join(dir, file)\n",
    "                    nifti_img = nib.load(filepath)\n",
    "                    voxel_data = nifti_img.get_fdata()\n",
    "                    voxel_data_list.append((voxel_data > 0).astype(int))\n",
    "                    break\n",
    "\n",
    "        suma_voxeles = np.sum(voxel_data_list, axis=0)\n",
    "\n",
    "        umbralizado = (suma_voxeles >= 2).astype(np.float32)\n",
    "\n",
    "        umbralizado_nifti = nib.Nifti1Image(umbralizado, affine=nifti_img.affine, header=nifti_img.header)\n",
    "        umbralizado_filepath = os.path.join(output_dir, f\"{cadena}_prediccion_combinado.nii.gz\")\n",
    "        nib.save(umbralizado_nifti, umbralizado_filepath)"
   ]
  },
  {
   "cell_type": "code",
   "execution_count": 40,
   "id": "4ab6a29a-d661-496c-91d6-269e5a11e2cd",
   "metadata": {},
   "outputs": [],
   "source": [
    "input_dir1 = \"Prediccion/Unet++/AxialT/\"\n",
    "input_dir2 = \"Prediccion/Unet++/CoronalT/\"\n",
    "input_dir3 = \"Prediccion/Unet++/SagitalT/\"\n",
    "output_dir = \"Prediccion/Unet++/votacion\"\n",
    "\n",
    "votacion(input_dir1, input_dir2, input_dir3, output_dir)"
   ]
  },
  {
   "cell_type": "code",
   "execution_count": 41,
   "id": "b475e1e2-54ab-47fa-a79e-93487d3a3fba",
   "metadata": {},
   "outputs": [],
   "source": [
    "def votacion_ponderada(input_dir1, input_dir2, input_dir3, output_dir, dice_scores):\n",
    "\n",
    "    os.makedirs(output_dir, exist_ok=True)\n",
    "    \n",
    "    input_dirs = [input_dir1, input_dir2, input_dir3]\n",
    "    nifti_files = []\n",
    "    for dir in input_dirs:\n",
    "        nifti_files.extend([f for f in os.listdir(dir) if f.endswith(\".nii\") or f.endswith(\".nii.gz\")])\n",
    "    \n",
    "    unicas = set(\"_\".join(f.split(\"_\")[:2]) for f in nifti_files)\n",
    "    \n",
    "    factor_escala = 3 / sum(dice_scores)\n",
    "    pesos = [d * factor_escala for d in dice_scores]\n",
    "    print(pesos)\n",
    "    for cadena in unicas:\n",
    "        matching_files = {dir: [f for f in os.listdir(dir) if cadena in f] for dir in input_dirs}\n",
    "        \n",
    "        voxel_data_list = []\n",
    "        \n",
    "        for i, dir in enumerate(input_dirs):\n",
    "            for file in matching_files[dir]:\n",
    "                filepath = os.path.join(dir, file)\n",
    "                nifti_img = nib.load(filepath)\n",
    "                voxel_data = nifti_img.get_fdata()\n",
    "                voxel_data_list.append((voxel_data > 0).astype(float) * pesos[i])\n",
    "        \n",
    "        suma_ponderada = np.sum(voxel_data_list, axis=0)\n",
    "        \n",
    "        umbralizado = (suma_ponderada >= 1.5).astype(np.float32)\n",
    "        \n",
    "        umbralizado_nifti = nib.Nifti1Image(umbralizado, affine=nifti_img.affine, header=nifti_img.header)\n",
    "        umbralizado_filepath = os.path.join(output_dir, f\"{cadena}_prediccion_combinado.nii.gz\")\n",
    "        nib.save(umbralizado_nifti, umbralizado_filepath)"
   ]
  },
  {
   "cell_type": "code",
   "execution_count": 42,
   "id": "409e6961-e9f4-4d47-aed4-c40b63cbd8b3",
   "metadata": {},
   "outputs": [
    {
     "name": "stdout",
     "output_type": "stream",
     "text": [
      "[0.9750179211469533, 1.0193855606758833, 1.0055965181771633]\n"
     ]
    }
   ],
   "source": [
    "input_dir1 = \"Prediccion/Unet++/AxialT/\"\n",
    "input_dir2 = \"Prediccion/Unet++/CoronalT/\"\n",
    "input_dir3 = \"Prediccion/Unet++/SagitalT/\"\n",
    "output_dir = \"Prediccion/Unet++/votacion_ponderada\"\n",
    "dice_scores = [0.761684,0.796344,0.785572]\n",
    "\n",
    "votacion_ponderada(input_dir1, input_dir2, input_dir3, output_dir, dice_scores)"
   ]
  },
  {
   "cell_type": "code",
   "execution_count": null,
   "id": "c0043c32-cddc-4487-a229-96acc4f01f69",
   "metadata": {},
   "outputs": [],
   "source": []
  }
 ],
 "metadata": {
  "kernelspec": {
   "display_name": "Python 3 (ipykernel)",
   "language": "python",
   "name": "python3"
  },
  "language_info": {
   "codemirror_mode": {
    "name": "ipython",
    "version": 3
   },
   "file_extension": ".py",
   "mimetype": "text/x-python",
   "name": "python",
   "nbconvert_exporter": "python",
   "pygments_lexer": "ipython3",
   "version": "3.12.7"
  }
 },
 "nbformat": 4,
 "nbformat_minor": 5
}
